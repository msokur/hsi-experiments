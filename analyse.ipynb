{
 "cells": [
  {
   "cell_type": "code",
   "execution_count": 1,
   "id": "bf9ae663",
   "metadata": {},
   "outputs": [],
   "source": [
    "import csv\n",
    "import numpy as np\n",
    "import matplotlib.pyplot as plt\n",
    "import ipyvolume as ipv\n",
    "from scipy.interpolate import griddata\n",
    "from matplotlib import cm\n",
    "import bqplot.scales"
   ]
  },
  {
   "cell_type": "code",
   "execution_count": 2,
   "id": "f5a9d27b",
   "metadata": {},
   "outputs": [
    {
     "name": "stdout",
     "output_type": "stream",
     "text": [
      "paths from config ['C:\\\\Users\\\\tkachenko\\\\Desktop\\\\HSI\\\\hsi-experiments\\\\util', 'C:\\\\Users\\\\tkachenko\\\\Desktop\\\\HSI\\\\hsi-experiments\\\\data_utils\\\\data_loaders', 'C:\\\\Users\\\\tkachenko\\\\Desktop\\\\HSI\\\\hsi-experiments\\\\models', 'C:\\\\Users\\\\tkachenko\\\\Desktop\\\\HSI\\\\hsi-experiments\\\\trainers', 'C:\\\\Users\\\\tkachenko\\\\Desktop\\\\HSI\\\\hsi-experiments\\\\data_utils', 'C:\\\\Users\\\\tkachenko\\\\Desktop\\\\HSI\\\\hsi-experiments', 'C:\\\\Users\\\\tkachenko\\\\Anaconda3\\\\python38.zip', 'C:\\\\Users\\\\tkachenko\\\\Anaconda3\\\\DLLs', 'C:\\\\Users\\\\tkachenko\\\\Anaconda3\\\\lib', 'C:\\\\Users\\\\tkachenko\\\\Anaconda3', '', 'C:\\\\Users\\\\tkachenko\\\\Anaconda3\\\\lib\\\\site-packages', 'C:\\\\Users\\\\tkachenko\\\\Anaconda3\\\\lib\\\\site-packages\\\\locket-0.2.1-py3.8.egg', 'C:\\\\Users\\\\tkachenko\\\\Anaconda3\\\\lib\\\\site-packages\\\\win32', 'C:\\\\Users\\\\tkachenko\\\\Anaconda3\\\\lib\\\\site-packages\\\\win32\\\\lib', 'C:\\\\Users\\\\tkachenko\\\\Anaconda3\\\\lib\\\\site-packages\\\\Pythonwin', 'C:\\\\Users\\\\tkachenko\\\\Anaconda3\\\\lib\\\\site-packages\\\\IPython\\\\extensions', 'C:\\\\Users\\\\tkachenko\\\\.ipython']\n",
      "FILES_TO_COPY ['C:\\\\Users\\\\tkachenko\\\\Desktop\\\\HSI\\\\hsi-experiments\\\\callbacks.py', 'C:\\\\Users\\\\tkachenko\\\\Desktop\\\\HSI\\\\hsi-experiments\\\\config.py', 'C:\\\\Users\\\\tkachenko\\\\Desktop\\\\HSI\\\\hsi-experiments\\\\cross_validation.py', 'C:\\\\Users\\\\tkachenko\\\\Desktop\\\\HSI\\\\hsi-experiments\\\\cross_validation_step.py', 'C:\\\\Users\\\\tkachenko\\\\Desktop\\\\HSI\\\\hsi-experiments\\\\provider.py', 'C:\\\\Users\\\\tkachenko\\\\Desktop\\\\HSI\\\\hsi-experiments\\\\run_experiment.py', 'C:\\\\Users\\\\tkachenko\\\\Desktop\\\\HSI\\\\hsi-experiments\\\\starter.py', 'C:\\\\Users\\\\tkachenko\\\\Desktop\\\\HSI\\\\hsi-experiments\\\\tst.py', 'C:\\\\Users\\\\tkachenko\\\\Desktop\\\\HSI\\\\hsi-experiments\\\\untitled.py', 'C:\\\\Users\\\\tkachenko\\\\Desktop\\\\HSI\\\\hsi-experiments\\\\utils.py', 'C:\\\\Users\\\\tkachenko\\\\Desktop\\\\HSI\\\\hsi-experiments\\\\data_utils\\\\augmentator.py', 'C:\\\\Users\\\\tkachenko\\\\Desktop\\\\HSI\\\\hsi-experiments\\\\data_utils\\\\background_detection.py', 'C:\\\\Users\\\\tkachenko\\\\Desktop\\\\HSI\\\\hsi-experiments\\\\data_utils\\\\generator.py', 'C:\\\\Users\\\\tkachenko\\\\Desktop\\\\HSI\\\\hsi-experiments\\\\data_utils\\\\hypercube_data.py', 'C:\\\\Users\\\\tkachenko\\\\Desktop\\\\HSI\\\\hsi-experiments\\\\data_utils\\\\preprocessor.py', 'C:\\\\Users\\\\tkachenko\\\\Desktop\\\\HSI\\\\hsi-experiments\\\\data_utils\\\\smoothing.py', 'C:\\\\Users\\\\tkachenko\\\\Desktop\\\\HSI\\\\hsi-experiments\\\\models\\\\keras_tuner_model.py', 'C:\\\\Users\\\\tkachenko\\\\Desktop\\\\HSI\\\\hsi-experiments\\\\models\\\\keras_tuner_models_with_ones.py', 'C:\\\\Users\\\\tkachenko\\\\Desktop\\\\HSI\\\\hsi-experiments\\\\models\\\\model.py', 'C:\\\\Users\\\\tkachenko\\\\Desktop\\\\HSI\\\\hsi-experiments\\\\models\\\\model_3d.py', 'C:\\\\Users\\\\tkachenko\\\\Desktop\\\\HSI\\\\hsi-experiments\\\\data_utils/data_loaders\\\\data_loader_base.py', 'C:\\\\Users\\\\tkachenko\\\\Desktop\\\\HSI\\\\hsi-experiments\\\\data_utils/data_loaders\\\\data_loader_colon.py', 'C:\\\\Users\\\\tkachenko\\\\Desktop\\\\HSI\\\\hsi-experiments\\\\data_utils/data_loaders\\\\data_loader_mat.py', 'C:\\\\Users\\\\tkachenko\\\\Desktop\\\\HSI\\\\hsi-experiments\\\\data_utils/data_loaders\\\\data_loader_mat_brain.py', 'C:\\\\Users\\\\tkachenko\\\\Desktop\\\\HSI\\\\hsi-experiments\\\\data_utils/data_loaders\\\\data_loader_mat_colon.py', 'C:\\\\Users\\\\tkachenko\\\\Desktop\\\\HSI\\\\hsi-experiments\\\\data_utils/data_loaders\\\\data_loader_whole_base.py', 'C:\\\\Users\\\\tkachenko\\\\Desktop\\\\HSI\\\\hsi-experiments\\\\data_utils/data_loaders\\\\data_loader_whole_colon.py', 'C:\\\\Users\\\\tkachenko\\\\Desktop\\\\HSI\\\\hsi-experiments\\\\data_utils/data_loaders\\\\data_loader_whole_mat.py', 'C:\\\\Users\\\\tkachenko\\\\Desktop\\\\HSI\\\\hsi-experiments\\\\trainers\\\\test_tuner.py', 'C:\\\\Users\\\\tkachenko\\\\Desktop\\\\HSI\\\\hsi-experiments\\\\trainers\\\\trainer_base.py', 'C:\\\\Users\\\\tkachenko\\\\Desktop\\\\HSI\\\\hsi-experiments\\\\trainers\\\\trainer_easy.py', 'C:\\\\Users\\\\tkachenko\\\\Desktop\\\\HSI\\\\hsi-experiments\\\\trainers\\\\trainer_easy_several_outputs.py', 'C:\\\\Users\\\\tkachenko\\\\Desktop\\\\HSI\\\\hsi-experiments\\\\trainers\\\\trainer_tuner.py']\n",
      "P_FILES_TO_COPY ['C:\\\\Users\\\\tkachenko\\\\Desktop\\\\HSI\\\\hsi-experiments\\\\config.py', 'C:\\\\Users\\\\tkachenko\\\\Desktop\\\\HSI\\\\hsi-experiments\\\\data_utils\\\\augmentator.py', 'C:\\\\Users\\\\tkachenko\\\\Desktop\\\\HSI\\\\hsi-experiments\\\\data_utils\\\\background_detection.py', 'C:\\\\Users\\\\tkachenko\\\\Desktop\\\\HSI\\\\hsi-experiments\\\\data_utils\\\\generator.py', 'C:\\\\Users\\\\tkachenko\\\\Desktop\\\\HSI\\\\hsi-experiments\\\\data_utils\\\\hypercube_data.py', 'C:\\\\Users\\\\tkachenko\\\\Desktop\\\\HSI\\\\hsi-experiments\\\\data_utils\\\\preprocessor.py', 'C:\\\\Users\\\\tkachenko\\\\Desktop\\\\HSI\\\\hsi-experiments\\\\data_utils\\\\smoothing.py', 'C:\\\\Users\\\\tkachenko\\\\Desktop\\\\HSI\\\\hsi-experiments\\\\data_utils/data_loaders\\\\data_loader_base.py', 'C:\\\\Users\\\\tkachenko\\\\Desktop\\\\HSI\\\\hsi-experiments\\\\data_utils/data_loaders\\\\data_loader_colon.py', 'C:\\\\Users\\\\tkachenko\\\\Desktop\\\\HSI\\\\hsi-experiments\\\\data_utils/data_loaders\\\\data_loader_mat.py', 'C:\\\\Users\\\\tkachenko\\\\Desktop\\\\HSI\\\\hsi-experiments\\\\data_utils/data_loaders\\\\data_loader_mat_brain.py', 'C:\\\\Users\\\\tkachenko\\\\Desktop\\\\HSI\\\\hsi-experiments\\\\data_utils/data_loaders\\\\data_loader_mat_colon.py', 'C:\\\\Users\\\\tkachenko\\\\Desktop\\\\HSI\\\\hsi-experiments\\\\data_utils/data_loaders\\\\data_loader_whole_base.py', 'C:\\\\Users\\\\tkachenko\\\\Desktop\\\\HSI\\\\hsi-experiments\\\\data_utils/data_loaders\\\\data_loader_whole_colon.py', 'C:\\\\Users\\\\tkachenko\\\\Desktop\\\\HSI\\\\hsi-experiments\\\\data_utils/data_loaders\\\\data_loader_whole_mat.py']\n"
     ]
    }
   ],
   "source": [
    "from evaluation.validator import Validator\n",
    "\n"
   ]
  },
  {
   "cell_type": "code",
   "execution_count": 3,
   "id": "4b2908e4",
   "metadata": {},
   "outputs": [
    {
     "name": "stderr",
     "output_type": "stream",
     "text": [
      "100%|█████████████████████████████████████████████████████████████████████████████████████████████████████████████████████████| 1/1 [00:00<00:00, 271.05it/s]"
     ]
    },
    {
     "name": "stdout",
     "output_type": "stream",
     "text": [
      "test\\Colon_MedianFilter\\cp-0000\\\n",
      "['test\\\\Colon_MedianFilter\\\\cp-0000\\\\']\n",
      "test\\Colon_MedianFilter\\cp-0000\\\n",
      "3 4 2\n",
      "Sensitivities [0.87873036 0.87873036 0.87135816 0.87135816 0.86631006 0.86631006\n",
      " 0.86259586 0.86259586 0.86024386 0.86024386 0.85787314 0.85787314\n",
      " 0.8556536  0.8556536  0.85427773 0.85427773 0.8527474  0.8527474\n",
      " 0.85171926 0.85171926 0.85171926 0.8476076  0.8442237  0.84102273\n",
      " 0.838271   0.8363349  0.8348924  0.8330486  0.83124155 0.8293188\n",
      " 0.82825094 0.8273132  0.825973   0.8250876  0.8238974  0.8228542\n",
      " 0.8215496  0.82070017 0.81998736 0.81952256]\n",
      "Specificities [0.7882436  0.7882436  0.80014783 0.80014783 0.80705154 0.80705154\n",
      " 0.81192195 0.81192195 0.8156836  0.8156836  0.81866086 0.81866086\n",
      " 0.82124174 0.82124174 0.82347244 0.82347244 0.8254377  0.8254377\n",
      " 0.8271835  0.8271835  0.8271835  0.8337933  0.83758503 0.84122735\n",
      " 0.84434307 0.8467693  0.8484867  0.8502629  0.8519072  0.8532829\n",
      " 0.85434693 0.8555288  0.85670745 0.85776925 0.85855997 0.85944337\n",
      " 0.86024296 0.8609975  0.8615884  0.86243504]\n",
      "[ 1.  1.  1.  1.  1.  1.  1.  1.  1.  1.  1.  1.  1.  1.  1.  1.  1.  1.\n",
      "  1.  1.  1.  1.  1. -1. -1. -1. -1. -1. -1. -1. -1. -1. -1. -1. -1. -1.\n",
      " -1. -1. -1. -1.]\n",
      "[ 0.  0.  0.  0.  0.  0.  0.  0.  0.  0.  0.  0.  0.  0.  0.  0.  0.  0.\n",
      "  0.  0.  0.  0. -2.  0.  0.  0.  0.  0.  0.  0.  0.  0.  0.  0.  0.  0.\n",
      "  0.  0.  0.]\n",
      "22\n",
      "Best index and threshold:  [23] [0.0024]\n",
      "Best sensitivity and specificity:  [0.84102273] [0.84122735]\n",
      "Mean value of best sensitivity and specificity:  0.841125\n",
      "-----------------------\n",
      "Best index: 0, best checkpoint: test\\Colon_MedianFilter\\cp-0000\\, best_threshold: [0.0024]\n",
      "Means: [0.841125]\n",
      "------------------------------------------------------\n",
      "[0.0024]\n",
      "[0.841125]\n",
      "[0.84102273] [0.84122735]\n"
     ]
    },
    {
     "name": "stderr",
     "output_type": "stream",
     "text": [
      "\n"
     ]
    }
   ],
   "source": [
    "'''with open('test/Colon_MedianFilter/cp-0000/compare_all_thresholds.csv', newline='') as csvfile:\n",
    "    report_reader = csv.reader(csvfile, delimiter=',', quotechar='|')\n",
    "    print(next(report_reader))\n",
    "    next(report_reader)\n",
    "    data = []\n",
    "    for row in report_reader:\n",
    "        data.append(row)\n",
    "        \n",
    "    thresholds = \n",
    "        \n",
    "print(data)'''\n",
    "\n",
    "validator = Validator()\n",
    "best_checkpoint, best_threshold, thresholds, means, best_sens, best_spec = validator.find_best_checkpoint('test\\\\Colon_MedianFilter\\\\')\n",
    "print(best_threshold)\n",
    "print(means)\n",
    "print(best_sens, best_spec)\n",
    "\n",
    "def get_X_Y_Z_original(medians):\n",
    "    X_raw = best_threshold * np.ones(medians.shape[0])\n",
    "    Y_raw = medians\n",
    "    Z_raw = means[0] * np.ones(medians.shape[0])\n",
    "    \n",
    "    return X_raw, Y_raw, Z_raw"
   ]
  },
  {
   "cell_type": "code",
   "execution_count": 4,
   "id": "e3211e36",
   "metadata": {},
   "outputs": [
    {
     "name": "stdout",
     "output_type": "stream",
     "text": [
      "['Time', 'Checkpoint', 'Threshold', 'Sensitivity_mean', 'Specificity_mean', 'median']\n",
      "[0.0024 0.0024 0.0024 0.0024] [ 5. 10. 15. 25.] [0.84112501 0.84112501 0.84112501 0.84112501]\n",
      "---------------X------------------\n",
      "[[0.0001 0.0002 0.0003 ... 0.0098 0.0099 0.01  ]\n",
      " [0.0001 0.0002 0.0003 ... 0.0098 0.0099 0.01  ]\n",
      " [0.0001 0.0002 0.0003 ... 0.0098 0.0099 0.01  ]\n",
      " ...\n",
      " [0.0001 0.0002 0.0003 ... 0.0098 0.0099 0.01  ]\n",
      " [0.0001 0.0002 0.0003 ... 0.0098 0.0099 0.01  ]\n",
      " [0.0001 0.0002 0.0003 ... 0.0098 0.0099 0.01  ]]\n",
      "---------------Y------------------\n",
      "[[ 5.         5.         5.        ...  5.         5.         5.       ]\n",
      " [ 5.2020202  5.2020202  5.2020202 ...  5.2020202  5.2020202  5.2020202]\n",
      " [ 5.4040404  5.4040404  5.4040404 ...  5.4040404  5.4040404  5.4040404]\n",
      " ...\n",
      " [24.5959596 24.5959596 24.5959596 ... 24.5959596 24.5959596 24.5959596]\n",
      " [24.7979798 24.7979798 24.7979798 ... 24.7979798 24.7979798 24.7979798]\n",
      " [25.        25.        25.        ... 25.        25.        25.       ]]\n",
      "---------------Z sens------------------\n",
      "[[0.8844292  0.87660951 0.87181107 ... 0.82592172 0.82579421 0.8256667 ]\n",
      " [0.88439604 0.8765918  0.87179631 ... 0.82631489 0.82618738 0.82605326]\n",
      " [0.88436288 0.8765741  0.87178155 ... 0.82670806 0.82658055 0.82643981]\n",
      " ...\n",
      " [0.87749352 0.8637425  0.85700359 ... 0.82405348 0.82399603 0.82393857]\n",
      " [0.87739829 0.8635145  0.85673589 ... 0.82380898 0.82375152 0.82369406]\n",
      " [0.87730306 0.86328651 0.8564682  ... 0.82356448 0.82350702 0.82344956]]\n",
      "0.01 0.0001 25.0 5.0 0.905636867322901 0.7967584677375034 0.8844291980462178 0.8234495615209395\n"
     ]
    },
    {
     "data": {
      "application/vnd.jupyter.widget-view+json": {
       "model_id": "32326185d93c4d9c9231579b7c813c4b",
       "version_major": 2,
       "version_minor": 0
      },
      "text/plain": [
       "VBox(children=(Figure(camera=PerspectiveCamera(fov=45.0, position=(0.0, 0.0, 2.0), projectionMatrix=(1.0, 0.0,…"
      ]
     },
     "metadata": {},
     "output_type": "display_data"
    }
   ],
   "source": [
    "with open('test/Colon_MedianFilter/cp-0000/compare_all_thresholds_filtered.csv', newline='') as csvfile:\n",
    "    report_reader = csv.reader(csvfile, delimiter=',', quotechar='|')\n",
    "    print(next(report_reader))\n",
    "    next(report_reader)\n",
    "    data = []\n",
    "    for row in report_reader:\n",
    "        data.append(row)\n",
    "        \n",
    "    data = np.array(data[10:])\n",
    "    #print(data)\n",
    "    \n",
    "    thresholds = data[:, 2].astype(float)\n",
    "    medians = data[:, -1].astype(float)\n",
    "    sens = data[:, 3].astype(float)\n",
    "    spec = data[:, 4].astype(float)\n",
    "    \n",
    "    X_o, Y_o, Z_o = get_X_Y_Z_original(np.unique(medians))\n",
    "    print(X_o, Y_o, Z_o)\n",
    "    \n",
    "    xv = np.linspace(min(thresholds), max(thresholds), 100);\n",
    "    yv = np.linspace(min(medians), max(medians), 100);\n",
    "    [X,Y] = np.meshgrid(xv, yv)\n",
    "    \n",
    "    print('---------------X------------------')\n",
    "    print(X)\n",
    "    print('---------------Y------------------')\n",
    "    print(Y)\n",
    "    Z_sens = griddata((thresholds,medians),sens,(X,Y), method='linear')\n",
    "    Z_spec = griddata((thresholds,medians),spec,(X,Y), method='linear')\n",
    "    Z_baseline = griddata((thresholds,medians),means[0] * np.ones(sens.shape[0]),(X,Y), method='linear')\n",
    "    print('---------------Z sens------------------')\n",
    "    print(Z_sens)\n",
    "    \n",
    "    #X, Y = np.meshgrid(thresholds, medians)\n",
    "    #print(X.shape)\n",
    "    #print(sens)\n",
    "    #sens, spec = np.meshgrid(sens, spec)\n",
    "    #spec, _ = np.meshgrid(spec, spec)\n",
    "    #print(sens)\n",
    "    \n",
    "    \n",
    "    #fig, ax = plt.subplots(subplot_kw={\"projection\": \"3d\"})\n",
    "    \n",
    "    #fig, ax = plt.subplots(subplot_kw={\"projection\": \"3d\"})\n",
    "    # surf = ax.plot_surface(X, Y, Z_spec, cmap=cm.coolwarm, linewidth=0, antialiased=False)\n",
    "    \n",
    "    #ipv.scatter(thresholds, medians, sens)\n",
    "    \n",
    "    '''scales = {\n",
    "        'z': bqplot.scales.LinearScale(min=0, max=1),\n",
    "    }'''\n",
    "    print(np.max(X), np.min(X), np.max(Y), np.min(Y), np.max(Z_spec), np.min(Z_spec), np.max(Z_sens), np.min(Z_sens))\n",
    "    \n",
    "    \n",
    "    \n",
    "    ipv.xlim(xmin=np.min(X), xmax=np.max(X))\n",
    "    ipv.ylim(ymin=np.min(Y), ymax=np.max(Y))\n",
    "    ipv.zlim(zmin=min(np.min(Z_spec), np.min(Z_sens)), zmax=max(np.max(Z_spec), np.max(Z_sens)))\n",
    "    #ipv.plot(X_o, Y_o, Z_o, color='green')\n",
    "    ipv.plot_surface(X, Y, Z_spec, color='blue')\n",
    "    ipv.plot_surface(X, Y, Z_sens)\n",
    "    ipv.plot_surface(X, Y, Z_baseline, color='green')\n",
    "    ipv.show()\n",
    "    ipv.clear()\n",
    "    "
   ]
  },
  {
   "cell_type": "code",
   "execution_count": 41,
   "id": "a72af3eb",
   "metadata": {},
   "outputs": [
    {
     "name": "stdout",
     "output_type": "stream",
     "text": [
      "With best improvement 0.8415450229492837 0.8893906080589186 0.0062 15.0 0.04868560812001865\n",
      "0.8596808791629295 0.8467817036928228 0.001 10.0 0.02421255996756866 0.01289917547010666\n",
      "0.8561046125810033 0.8540924535788976 0.0015 10.0 0.027947043271717487 0.002012159002105718\n",
      "0.8545031033875773 0.8583157846189119 0.0019 10.0 0.030568865118305588 0.0038126812313346026\n",
      "0.8523244335407145 0.8623140169321298 0.0024 10.0 0.03238842758466065 0.009989583391415313\n",
      "0.8501957745242574 0.8658153623327535 0.0029 10.0 0.033761113968827416 0.015619587808496038\n",
      "0.8483486081786535 0.8685036125623284 0.0034 10.0 0.03460219785279839 0.0201550043836749\n",
      "0.8471878171301428 0.8702269715969341 0.0038 10.0 0.035164765838893164 0.02303915446679128\n",
      "0.8460282936944539 0.8721980522666096 0.0043 10.0 0.03597632307287979 0.026169758572155755\n",
      "0.8524675661352621 0.8439186732989948 0.0015 5.0 0.014136216546073221 0.008548892836267252\n",
      "0.8485867843042465 0.8478683899608125 0.0019 5.0 0.014205151376875502 0.0007183943434340145\n",
      "0.8450670622402757 0.8516175357330766 0.0024 5.0 0.014434575085168877 0.006550473492800912\n",
      "0.8425140835817766 0.854805269965898 0.0029 5.0 0.015069330659490898 0.01229118638412141\n",
      "0.8596808791629295 0.8467817036928228 0.001 10.0 0.02421255996756866 0.01289917547010666\n",
      "0.8561046125810033 0.8540924535788976 0.0015 10.0 0.027947043271717487 0.002012159002105718\n",
      "0.8545031033875773 0.8583157846189119 0.0019 10.0 0.030568865118305588 0.0038126812313346026\n",
      "0.8523244335407145 0.8623140169321298 0.0024 10.0 0.03238842758466065 0.009989583391415313\n",
      "0.8501957745242574 0.8658153623327535 0.0029 10.0 0.033761113968827416 0.015619587808496038\n",
      "0.8483486081786535 0.8685036125623284 0.0034 10.0 0.03460219785279839 0.0201550043836749\n",
      "0.8471878171301428 0.8702269715969341 0.0038 10.0 0.035164765838893164 0.02303915446679128\n",
      "0.8460282936944539 0.8721980522666096 0.0043 10.0 0.03597632307287979 0.026169758572155755\n",
      "0.8524675661352621 0.8439186732989948 0.0015 5.0 0.014136216546073221 0.008548892836267252\n",
      "0.8485867843042465 0.8478683899608125 0.0019 5.0 0.014205151376875502 0.0007183943434340145\n",
      "0.8450670622402757 0.8516175357330766 0.0024 5.0 0.014434575085168877 0.006550473492800912\n",
      "0.8425140835817766 0.854805269965898 0.0029 5.0 0.015069330659490898 0.01229118638412141\n",
      "0.8596808791629295 0.8467817036928228 0.001 10.0 0.02421255996756866 0.01289917547010666\n",
      "0.8561046125810033 0.8540924535788976 0.0015 10.0 0.027947043271717487 0.002012159002105718\n",
      "0.8545031033875773 0.8583157846189119 0.0019 10.0 0.030568865118305588 0.0038126812313346026\n",
      "0.8523244335407145 0.8623140169321298 0.0024 10.0 0.03238842758466065 0.009989583391415313\n",
      "0.8501957745242574 0.8658153623327535 0.0029 10.0 0.033761113968827416 0.015619587808496038\n",
      "0.8483486081786535 0.8685036125623284 0.0034 10.0 0.03460219785279839 0.0201550043836749\n",
      "0.8471878171301428 0.8702269715969341 0.0038 10.0 0.035164765838893164 0.02303915446679128\n",
      "0.8460282936944539 0.8721980522666096 0.0043 10.0 0.03597632307287979 0.026169758572155755\n",
      "0.8524675661352621 0.8439186732989948 0.0015 5.0 0.014136216546073221 0.008548892836267252\n",
      "0.8485867843042465 0.8478683899608125 0.0019 5.0 0.014205151376875502 0.0007183943434340145\n",
      "0.8524675661352621 0.8439186732989948 0.0015 5.0 0.014136216546073221 0.008548892836267252\n",
      "0.8485867843042465 0.8478683899608125 0.0019 5.0 0.014205151376875502 0.0007183943434340145\n",
      "0.8450670622402757 0.8516175357330766 0.0024 5.0 0.014434575085168877 0.006550473492800912\n",
      "0.8425140835817766 0.854805269965898 0.0029 5.0 0.015069330659490898 0.01229118638412141\n",
      "0.8596808791629295 0.8467817036928228 0.001 10.0 0.02421255996756866 0.01289917547010666\n",
      "0.8561046125810033 0.8540924535788976 0.0015 10.0 0.027947043271717487 0.002012159002105718\n",
      "0.8545031033875773 0.8583157846189119 0.0019 10.0 0.030568865118305588 0.0038126812313346026\n",
      "0.8523244335407145 0.8623140169321298 0.0024 10.0 0.03238842758466065 0.009989583391415313\n",
      "0.8501957745242574 0.8658153623327535 0.0029 10.0 0.033761113968827416 0.015619587808496038\n",
      "0.8483486081786535 0.8685036125623284 0.0034 10.0 0.03460219785279839 0.0201550043836749\n",
      "0.8471878171301428 0.8702269715969341 0.0038 10.0 0.035164765838893164 0.02303915446679128\n",
      "0.8460282936944539 0.8721980522666096 0.0043 10.0 0.03597632307287979 0.026169758572155755\n",
      "0.8444952941625037 0.8738463895200338 0.0048 10.0 0.036091660794353775 0.02935109535753011\n",
      "0.843114801203507 0.8753544280102811 0.0053 10.0 0.0362192063256046 0.03223962680677406\n",
      "0.8423667074701694 0.8765269749621568 0.0057 10.0 0.036643659544142615 0.03416026749198742\n",
      "0.8412359983884438 0.8778861999019832 0.0062 10.0 0.03687217540224341 0.03665020151353948\n",
      "0.8567831812090482 0.8589950787911453 0.001 15.0 0.03352823711201003 0.0022118975820971665\n",
      "0.8532072502445243 0.8662871631915775 0.0015 15.0 0.03724439054791828 0.01307991294705324\n",
      "0.8509752092744165 0.8706338175005767 0.0019 15.0 0.039359003886809685 0.019658608226160168\n",
      "0.8492683626331055 0.8745953403750221 0.0024 15.0 0.04161368011994382 0.025326977741916612\n",
      "0.8476935658977721 0.8777859176608184 0.0029 15.0 0.043229460670406894 0.030092351763046254\n",
      "0.846510649752877 0.8804565514768626 0.0034 15.0 0.044717178341556085 0.033945901723985594\n",
      "0.8452190061100598 0.8821704764782847 0.0038 15.0 0.04513945970016087 0.03695147036822488\n",
      "0.8438876751221145 0.883959347311956 0.0043 15.0 0.04559699954588692 0.040071672189841534\n",
      "0.8428979798482649 0.8857913040467399 0.0048 15.0 0.046439261006821164 0.042893324198475025\n",
      "0.842434676876678 0.8872072110258816 0.0053 15.0 0.04739186501437587 0.04477253414920368\n",
      "0.8420522564581872 0.8881878275649515 0.0057 15.0 0.047990061134955075 0.04613557110676436\n",
      "0.8415450229492837 0.8893906080589186 0.0062 15.0 0.04868560812001865 0.04784558510963488\n",
      "0.843908153720881 0.8722223715347576 0.001 25.0 0.0338805023674551 0.028314217813876552\n",
      "0.8612907104280701 0.8425793066012012 0.0008 10.0 0.02161999414108773 0.018711403826868978\n",
      "0.8612907104280701 0.8425793066012012 0.0008 10.0 0.02161999414108773 0.018711403826868978\n",
      "0.8605070048005619 0.8447914869055929 0.0009 10.0 0.02304846881797129 0.015715517894968944\n",
      "0.8605070048005619 0.8447914869055929 0.0009 10.0 0.02304846881797129 0.015715517894968944\n",
      "0.8596808791629295 0.8467817036928228 0.001 10.0 0.02421255996756866 0.01289917547010666\n",
      "0.8596808791629295 0.8467817036928228 0.001 10.0 0.02421255996756866 0.01289917547010666\n",
      "0.8662842805000898 0.8418101241343071 0.0004 15.0 0.025844381746213285 0.02447415636578265\n",
      "0.8662842805000898 0.8418101241343071 0.0004 15.0 0.025844381746213285 0.02447415636578265\n",
      "0.8640726173000063 0.8460910225929411 0.0005 15.0 0.027913617004763802 0.017981594707065174\n",
      "0.8640726173000063 0.8460910225929411 0.0005 15.0 0.027913617004763802 0.017981594707065174\n",
      "0.86232924603585 0.8494985355256466 0.0006 15.0 0.029577758673313026 0.012830710510203458\n",
      "0.86232924603585 0.8494985355256466 0.0006 15.0 0.029577758673313026 0.012830710510203458\n",
      "0.8600375380280629 0.8524367883324048 0.0007 15.0 0.03022430347228422 0.00760074969565816\n",
      "0.8600375380280629 0.8524367883324048 0.0007 15.0 0.03022430347228422 0.00760074969565816\n",
      "0.8588186975802395 0.8547659688238062 0.0008 15.0 0.031334643515862126 0.004052728756433366\n",
      "0.8588186975802395 0.8547659688238062 0.0008 15.0 0.031334643515862126 0.004052728756433366\n",
      "0.8576899606868139 0.8568696872571042 0.0009 15.0 0.032309625055734426 0.0008202734297096947\n",
      "0.8576899606868139 0.8568696872571042 0.0009 15.0 0.032309625055734426 0.0008202734297096947\n",
      "0.8567831812090482 0.8589950787911453 0.001 15.0 0.03352823711201003 0.0022118975820971665\n",
      "0.8567831812090482 0.8589950787911453 0.001 15.0 0.03352823711201003 0.0022118975820971665\n",
      "0.8564681957661107 0.8493353223729968 0.0003 25.0 0.023553495250923984 0.007132873393113859\n",
      "0.8564681957661107 0.8493353223729968 0.0003 25.0 0.023553495250923984 0.007132873393113859\n",
      "0.8521381688250045 0.8549713280097594 0.0004 25.0 0.02485947394658039 0.0028331591847549076\n",
      "0.8521381688250045 0.8549713280097594 0.0004 25.0 0.02485947394658039 0.0028331591847549076\n",
      "0.8494985382285034 0.859307383895263 0.0005 25.0 0.02655589923558277 0.009808845666759547\n",
      "0.8494985382285034 0.859307383895263 0.0005 25.0 0.02655589923558277 0.009808845666759547\n",
      "0.8480145214116008 0.8624374711216886 0.0006 25.0 0.028201969645105684 0.014422949710087729\n",
      "0.8480145214116008 0.8624374711216886 0.0006 25.0 0.028201969645105684 0.014422949710087729\n",
      "0.8467803139310949 0.865365752210621 0.0007 25.0 0.029896043253532234 0.01858543827952608\n",
      "0.8467803139310949 0.865365752210621 0.0007 25.0 0.029896043253532234 0.01858543827952608\n",
      "0.8456559518071309 0.867737030380218 0.0008 25.0 0.03114295929916544 0.022081078573087054\n",
      "0.8456559518071309 0.867737030380218 0.0008 25.0 0.03114295929916544 0.022081078573087054\n",
      "0.8448361703542442 0.8700428330375218 0.0009 25.0 0.03262898050358243 0.025206662683277647\n",
      "0.8448361703542442 0.8700428330375218 0.0009 25.0 0.03262898050358243 0.025206662683277647\n",
      "0.843908153720881 0.8722223715347576 0.001 25.0 0.0338805023674551 0.028314217813876552\n",
      "0.843908153720881 0.8722223715347576 0.001 25.0 0.0338805023674551 0.028314217813876552\n"
     ]
    }
   ],
   "source": [
    "condition = (sens > means[0]) & (spec > means[0])\n",
    "sens_more = sens[condition] \n",
    "spec_more = spec[condition] \n",
    "thresholds_more = thresholds[condition]\n",
    "medians_more = medians[condition]\n",
    "\n",
    "summ_ = sens_more + spec_more - (2 * means[0])\n",
    "summ_i = np.argmax(summ_)\n",
    "print('With best improvement',sens_more[summ_i], spec_more[summ_i], thresholds_more[summ_i], medians_more[summ_i], summ_[summ_i])\n",
    "\n",
    "\n",
    "for se, sp, th, med, s in zip(sens_more, spec_more, thresholds_more, medians_more, summ_):\n",
    "    print(se, sp, th, med, s, np.abs(se-sp))\n",
    "    \n",
    "0.841\n",
    "0.0024\n"
   ]
  },
  {
   "cell_type": "code",
   "execution_count": 38,
   "id": "11907019",
   "metadata": {},
   "outputs": [
    {
     "name": "stdout",
     "output_type": "stream",
     "text": [
      "(236,)\n",
      "Best threshold with harmony 0.8485867843042465 0.8478683899608125 0.0019 5.0 0.0007183943434340145\n",
      "Best threshold with harmony 0.8561046125810033 0.8540924535788976 0.0015 10.0 0.002012159002105718\n",
      "Best threshold with harmony 0.8576899606868139 0.8568696872571042 0.0009 15.0 0.0008202734297096947\n",
      "Best threshold with harmony 0.8521381688250045 0.8549713280097594 0.0004 25.0 0.0028331591847549076\n"
     ]
    }
   ],
   "source": [
    "print(sens.shape)\n",
    "\n",
    "for m in np.unique(medians):\n",
    "    condition = medians == m\n",
    "    sens_c = sens[condition] \n",
    "    spec_c = spec[condition] \n",
    "    thresholds_c = thresholds[condition]\n",
    "    medians_c = medians[condition]\n",
    "    \n",
    "    diff = np.abs(sens_c - spec_c)\n",
    "    diff_i = np.argmin(diff)\n",
    "    print('Best threshold with harmony', sens_c[diff_i], \n",
    "          spec_c[diff_i], thresholds_c[diff_i], medians_c[diff_i], diff[diff_i])\n"
   ]
  },
  {
   "cell_type": "code",
   "execution_count": null,
   "id": "612ed719",
   "metadata": {},
   "outputs": [],
   "source": []
  },
  {
   "cell_type": "code",
   "execution_count": null,
   "id": "5291d7ad",
   "metadata": {},
   "outputs": [],
   "source": [
    "#!/usr/bin/python3\n",
    "\n",
    "import sys\n",
    "\n",
    "import matplotlib\n",
    "import matplotlib.pyplot as plt\n",
    "from matplotlib.ticker import MaxNLocator\n",
    "from matplotlib import cm\n",
    "from mpl_toolkits.mplot3d import Axes3D\n",
    "\n",
    "import numpy\n",
    "from numpy.random import randn\n",
    "from scipy import array, newaxis\n",
    "\n",
    "\n",
    "# ======\n",
    "## data:\n",
    "\n",
    "DATA = array([\n",
    "    [-0.807237702464, 0.904373229492, 111.428744443],\n",
    "    [-0.802470821517, 0.832159465335, 98.572957317],\n",
    "    [-0.801052795982, 0.744231916692, 86.485869328],\n",
    "    [-0.802505546206, 0.642324228721, 75.279804677],\n",
    "    [-0.804158144115, 0.52882485495, 65.112895758],\n",
    "    [-0.806418040943, 0.405733109371, 56.1627277595],\n",
    "    [-0.808515314192, 0.275100227689, 48.508994388],\n",
    "    [-0.809879521648, 0.139140394575, 42.1027499025],\n",
    "    [-0.810645106092, -7.48279012695e-06, 36.8668106345],\n",
    "    [-0.810676720161, -0.139773175337, 32.714580273],\n",
    "    [-0.811308686707, -0.277276065449, 29.5977405865],\n",
    "    [-0.812331692291, -0.40975978382, 27.6210856615],\n",
    "    [-0.816075037319, -0.535615685086, 27.2420699235],\n",
    "    [-0.823691366944, -0.654350489595, 29.1823292975],\n",
    "    [-0.836688691603, -0.765630198427, 34.2275056775],\n",
    "    [-0.854984518665, -0.86845932028, 43.029581434],\n",
    "    [-0.879261949054, -0.961799684483, 55.9594146815],\n",
    "    [-0.740499820944, 0.901631050387, 97.0261463995],\n",
    "    [-0.735011699497, 0.82881933383, 84.971061395],\n",
    "    [-0.733021568161, 0.740454485354, 73.733621269],\n",
    "    [-0.732821755233, 0.638770044767, 63.3815970475],\n",
    "    [-0.733876941678, 0.525818698874, 54.0655910105],\n",
    "    [-0.735055978521, 0.403303715698, 45.90859502],\n",
    "    [-0.736448900325, 0.273425879041, 38.935709456],\n",
    "    [-0.737556181137, 0.13826504904, 33.096106049],\n",
    "    [-0.738278724065, -9.73058423274e-06, 28.359664343],\n",
    "    [-0.738507612286, -0.138781586244, 24.627237837],\n",
    "    [-0.738539663773, -0.275090412979, 21.857410904],\n",
    "    [-0.739099040189, -0.406068448513, 20.1110519655],\n",
    "    [-0.741152200369, -0.529726022182, 19.7019157715],\n",
    "])\n",
    "\n",
    "Xs = DATA[:,0]\n",
    "Ys = DATA[:,1]\n",
    "Zs = DATA[:,2]\n",
    "\n",
    "\n",
    "# ======\n",
    "## plot:\n",
    "\n",
    "fig = plt.figure()\n",
    "ax = fig.add_subplot(111, projection='3d')\n",
    "\n",
    "surf = ax.plot_trisurf(Xs, Ys, Zs, cmap=cm.jet, linewidth=0)\n",
    "fig.colorbar(surf)\n",
    "\n",
    "ax.xaxis.set_major_locator(MaxNLocator(5))\n",
    "ax.yaxis.set_major_locator(MaxNLocator(6))\n",
    "ax.zaxis.set_major_locator(MaxNLocator(5))\n",
    "\n",
    "fig.tight_layout()\n",
    "\n",
    "plt.show() # or:"
   ]
  },
  {
   "cell_type": "code",
   "execution_count": 2,
   "id": "2c2cd015",
   "metadata": {},
   "outputs": [],
   "source": [
    "import numpy as np\n",
    "\n",
    "predictions = np.load('C:\\\\Users\\\\tkachenko\\\\Desktop\\\\HSI\\\\hsi-experiments\\\\test\\\\Colon_MedianFilter\\\\cp-0000\\\\predictions_whole.npy', allow_pickle=True)"
   ]
  },
  {
   "cell_type": "code",
   "execution_count": 16,
   "id": "39f3639e",
   "metadata": {},
   "outputs": [
    {
     "name": "stdout",
     "output_type": "stream",
     "text": [
      "(307200, 1)\n"
     ]
    },
    {
     "data": {
      "text/plain": [
       "<matplotlib.image.AxesImage at 0x24fb6e8b220>"
      ]
     },
     "execution_count": 16,
     "metadata": {},
     "output_type": "execute_result"
    },
    {
     "data": {
      "image/png": "[encoded data removed]",
      "text/plain": [
       "<Figure size 1200x800 with 1 Axes>"
      ]
     },
     "metadata": {
      "needs_background": "light"
     },
     "output_type": "display_data"
    }
   ],
   "source": [
    "import matplotlib.pyplot as plt\n",
    "from scipy.ndimage import median_filter\n",
    "print(predictions[0]['predictions'].shape)\n",
    "plt.figure(dpi=200)\n",
    "#plt.imshow(np.reshape(predictions[0]['predictions'], (640, 480)), vmin=0, vmax=1)\n",
    "#plt.imshow(np.where(np.reshape(predictions[0]['predictions'], (640, 480)) > 0.5, 1, 0), vmin=0, vmax=1)\n",
    "plt.imshow(median_filter(np.where(np.reshape(predictions[0]['predictions'], (640, 480)) > 0.5, 1, 0), size=25), vmin=0, vmax=1)"
   ]
  },
  {
   "cell_type": "code",
   "execution_count": 8,
   "id": "f8454946",
   "metadata": {},
   "outputs": [],
   "source": [
    "import numpy as np\n",
    "import os\n",
    "#import cv2\n",
    "import matplotlib.pyplot as plt \n",
    "import imageio as iio"
   ]
  },
  {
   "cell_type": "code",
   "execution_count": 18,
   "id": "601180a9",
   "metadata": {},
   "outputs": [],
   "source": [
    "def noisy(noise_typ,image):\n",
    "    if noise_typ == \"gauss\":\n",
    "        row,col,ch= image.shape\n",
    "        mean = 0\n",
    "        var = 0.1\n",
    "        sigma = var**0.5\n",
    "        gauss = np.random.normal(mean,sigma,(row,col,ch))\n",
    "        gauss = gauss.reshape(row,col,ch)\n",
    "        noisy = image + gauss\n",
    "        return noisy\n",
    "    elif noise_typ == \"s&p\":\n",
    "        row,col,ch = image.shape\n",
    "        s_vs_p = 0.5\n",
    "        amount = 0.004\n",
    "        out = np.copy(image)\n",
    "        # Salt mode\n",
    "        num_salt = np.ceil(amount * image.size * s_vs_p)\n",
    "        coords = [np.random.randint(0, i - 1, int(num_salt))\n",
    "              for i in image.shape]\n",
    "        out[coords] = 1\n",
    "\n",
    "        # Pepper mode\n",
    "        num_pepper = np.ceil(amount* image.size * (1. - s_vs_p))\n",
    "        coords = [np.random.randint(0, i - 1, int(num_pepper))\n",
    "              for i in image.shape]\n",
    "        out[coords] = 0\n",
    "        return out\n",
    "    elif noise_typ == \"poisson\":\n",
    "        vals = len(np.unique(image))\n",
    "        vals = 2 ** np.ceil(np.log2(vals))\n",
    "        noisy = np.random.poisson(image * vals) / float(vals)\n",
    "        return noisy\n",
    "    elif noise_typ ==\"speckle\":\n",
    "        row,col,ch = image.shape\n",
    "        gauss = np.random.randn(row,col,ch)\n",
    "        gauss = gauss.reshape(row,col,ch)        \n",
    "        noisy = image + image * gauss\n",
    "        return noisy"
   ]
  },
  {
   "cell_type": "code",
   "execution_count": 19,
   "id": "08cac3fa",
   "metadata": {},
   "outputs": [
    {
     "name": "stdout",
     "output_type": "stream",
     "text": [
      "255\n"
     ]
    },
    {
     "name": "stderr",
     "output_type": "stream",
     "text": [
      "<ipython-input-18-7f92b3a0e387>:20: FutureWarning: Using a non-tuple sequence for multidimensional indexing is deprecated; use `arr[tuple(seq)]` instead of `arr[seq]`. In the future this will be interpreted as an array index, `arr[np.array(seq)]`, which will result either in an error or a different result.\n",
      "  out[coords] = 1\n",
      "<ipython-input-18-7f92b3a0e387>:26: FutureWarning: Using a non-tuple sequence for multidimensional indexing is deprecated; use `arr[tuple(seq)]` instead of `arr[seq]`. In the future this will be interpreted as an array index, `arr[np.array(seq)]`, which will result either in an error or a different result.\n",
      "  out[coords] = 0\n"
     ]
    },
    {
     "data": {
      "image/png": "[encoded data removed]",
      "text/plain": [
       "<Figure size 432x288 with 1 Axes>"
      ]
     },
     "metadata": {
      "needs_background": "light"
     },
     "output_type": "display_data"
    },
    {
     "data": {
      "text/plain": [
       "array([  0,   2,   4,   6,   8,   9,  10,  11,  12,  13,  14,  15,  16,\n",
       "        17,  18,  19,  20,  21,  22,  23,  24,  25,  26,  27,  28,  29,\n",
       "        30,  31,  32,  33,  34,  35,  36,  37,  38,  39,  40,  41,  42,\n",
       "        43,  44,  45,  46,  47,  48,  49,  50,  51,  52,  53,  54,  55,\n",
       "        56,  57,  58,  59,  60,  61,  62,  63,  64,  65,  66,  67,  68,\n",
       "        69,  70,  71,  72,  73,  74,  75,  76,  77,  78,  79,  80,  81,\n",
       "        82,  83,  84,  85,  86,  87,  88,  89,  90,  91,  92,  93,  94,\n",
       "        95,  96,  97,  98,  99, 100, 101, 102, 103, 104, 105, 106, 107,\n",
       "       108, 109, 110, 111, 112, 113, 114, 115, 116, 117, 118, 119, 120,\n",
       "       121, 122, 123, 124, 125, 126, 127, 128, 129, 130, 131, 132, 133,\n",
       "       134, 135, 136, 137, 138, 139, 140, 141, 142, 143, 144, 145, 146,\n",
       "       147, 148, 149, 150, 151, 152, 153, 154, 155, 156, 157, 158, 159,\n",
       "       160, 161, 162, 163, 164, 165, 166, 167, 168, 169, 170, 171, 172,\n",
       "       173, 174, 175, 176, 177, 178, 179, 180, 181, 182, 183, 184, 185,\n",
       "       186, 187, 188, 189, 190, 191, 192, 193, 194, 195, 196, 197, 198,\n",
       "       199, 200, 201, 202, 203, 204, 205, 206, 207, 208, 209, 210, 211,\n",
       "       212, 213, 214, 215, 216, 217, 218, 219, 220, 221, 222, 223, 224,\n",
       "       225, 226, 227, 228, 229, 230, 231, 232, 233, 234, 235, 236, 237,\n",
       "       238, 239, 240, 241, 242, 243, 244, 245, 246, 247, 248, 249, 250,\n",
       "       251, 252], dtype=uint8)"
      ]
     },
     "execution_count": 19,
     "metadata": {},
     "output_type": "execute_result"
    }
   ],
   "source": [
    "image = np.array(iio.imread(\"C:\\\\Users\\\\tkachenko\\\\Desktop\\\\HSI\\\\paper post-processing\\\\cat.jpg\"))\n",
    "print(np.max(image))\n",
    "noisy_image = noisy(\"s&p\", image)\n",
    "\n",
    "plt.imshow(noisy_image-image)\n",
    "plt.show()\n",
    "np.unique(noisy_image-image)"
   ]
  },
  {
   "cell_type": "code",
   "execution_count": null,
   "id": "488216e1",
   "metadata": {},
   "outputs": [],
   "source": []
  }
 ],
 "metadata": {
  "kernelspec": {
   "display_name": "Python 3",
   "language": "python",
   "name": "python3"
  },
  "language_info": {
   "codemirror_mode": {
    "name": "ipython",
    "version": 3
   },
   "file_extension": ".py",
   "mimetype": "text/x-python",
   "name": "python",
   "nbconvert_exporter": "python",
   "pygments_lexer": "ipython3",
   "version": "3.8.8"
  }
 },
 "nbformat": 4,
 "nbformat_minor": 5
}
