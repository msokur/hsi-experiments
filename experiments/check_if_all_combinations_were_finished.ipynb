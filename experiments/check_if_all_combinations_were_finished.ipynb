{
 "cells": [
  {
   "cell_type": "code",
   "execution_count": 1,
   "id": "484fd375-7c74-4e20-89c0-87e55549e96a",
   "metadata": {},
   "outputs": [
    {
     "name": "stdout",
     "output_type": "stream",
     "text": [
      "['C:\\\\Users\\\\tkachenko\\\\Desktop\\\\HSI\\\\hsi-experiments', 'C:\\\\Users\\\\tkachenko\\\\Desktop\\\\HSI\\\\hsi-experiments\\\\configuration', 'C:\\\\Users\\\\tkachenko\\\\Desktop\\\\HSI\\\\hsi-experiments\\\\evaluation', 'C:\\\\Users\\\\tkachenko\\\\Desktop\\\\HSI\\\\hsi-experiments\\\\experiments', 'C:\\\\Users\\\\tkachenko\\\\Anaconda3\\\\envs\\\\tf\\\\python311.zip', 'C:\\\\Users\\\\tkachenko\\\\Anaconda3\\\\envs\\\\tf\\\\DLLs', 'C:\\\\Users\\\\tkachenko\\\\Anaconda3\\\\envs\\\\tf\\\\Lib', 'C:\\\\Users\\\\tkachenko\\\\Anaconda3\\\\envs\\\\tf', '', 'C:\\\\Users\\\\tkachenko\\\\AppData\\\\Roaming\\\\Python\\\\Python311\\\\site-packages', 'C:\\\\Users\\\\tkachenko\\\\Anaconda3\\\\envs\\\\tf\\\\Lib\\\\site-packages', 'C:\\\\Users\\\\tkachenko\\\\Anaconda3\\\\envs\\\\tf\\\\Lib\\\\site-packages\\\\win32', 'C:\\\\Users\\\\tkachenko\\\\Anaconda3\\\\envs\\\\tf\\\\Lib\\\\site-packages\\\\win32\\\\lib', 'C:\\\\Users\\\\tkachenko\\\\Anaconda3\\\\envs\\\\tf\\\\Lib\\\\site-packages\\\\Pythonwin']\n"
     ]
    }
   ],
   "source": [
    "import os\n",
    "import sys\n",
    "from pathlib import Path\n",
    "from glob import glob\n",
    "import json\n",
    "import numpy as np\n",
    "\n",
    "currentdir = Path.cwd()\n",
    "parentdir = os.path.dirname(currentdir)\n",
    "sys.path.insert(0, parentdir) \n",
    "sys.path.insert(1, os.path.join(parentdir, 'evaluation')) \n",
    "sys.path.insert(1, os.path.join(parentdir, 'configuration')) \n",
    "print(sys.path)\n",
    "\n",
    "from evaluation import metrics_csvreader, optimal_parameters\n",
    "from configuration import get_config as config"
   ]
  },
  {
   "cell_type": "code",
   "execution_count": 2,
   "id": "e237c967-4264-48aa-94fc-f60db39bef68",
   "metadata": {},
   "outputs": [
    {
     "name": "stdout",
     "output_type": "stream",
     "text": [
      "252\n",
      "252\n"
     ]
    }
   ],
   "source": [
    "# check if all combinations were tested\n",
    "\n",
    "name = 'MainExperiment_3_smoothing_3d'\n",
    "delimiter = '/'\n",
    "\n",
    "root_folder = \"D:\\\\mi186veva-logs\\\\MainExperiment_3_smoothing_3d\"\n",
    "#root_folder = f\"/work/mi186veva-logs/{name}\"\n",
    "\n",
    "folders = glob(root_folder + f\"{delimiter}*{delimiter}step_55*\\\\\")\n",
    "\n",
    "print(len(folders))\n",
    "\n",
    "#check if results are complete\n",
    "#results_folder = f\"/work/mi186veva-results/{name}\"\n",
    "results_folder = f\"D:\\\\mi186veva-results\\\\{name}\"\n",
    "results_folders = glob(results_folder + f\"{delimiter}*{delimiter}Results_with_EarlyStopping/metrics_by_threshold_0.6.csv\")\n",
    "\n",
    "print(len(results_folders))\n"
   ]
  },
  {
   "cell_type": "code",
   "execution_count": 3,
   "id": "49e036c4-db35-418f-9b36-80d5d54894bb",
   "metadata": {},
   "outputs": [
    {
     "name": "stdout",
     "output_type": "stream",
     "text": [
      "252\n"
     ]
    },
    {
     "ename": "IndexError",
     "evalue": "list index out of range",
     "output_type": "error",
     "traceback": [
      "\u001b[1;31m---------------------------------------------------------------------------\u001b[0m",
      "\u001b[1;31mIndexError\u001b[0m                                Traceback (most recent call last)",
      "Cell \u001b[1;32mIn[3], line 4\u001b[0m\n\u001b[0;32m      1\u001b[0m \u001b[38;5;66;03m# check if all combinations were tested\u001b[39;00m\n\u001b[0;32m      2\u001b[0m \u001b[38;5;66;03m#folders = glob(root_folder + f\"{delimiter}*{delimiter}/\")\u001b[39;00m\n\u001b[0;32m      3\u001b[0m \u001b[38;5;28mprint\u001b[39m(\u001b[38;5;28mlen\u001b[39m(folders))\n\u001b[1;32m----> 4\u001b[0m combination_numbers \u001b[38;5;241m=\u001b[39m \u001b[43m[\u001b[49m\u001b[38;5;28;43mint\u001b[39;49m\u001b[43m(\u001b[49m\u001b[43mfolder\u001b[49m\u001b[38;5;241;43m.\u001b[39;49m\u001b[43msplit\u001b[49m\u001b[43m(\u001b[49m\u001b[43mdelimiter\u001b[49m\u001b[43m)\u001b[49m\u001b[43m[\u001b[49m\u001b[38;5;241;43m-\u001b[39;49m\u001b[38;5;241;43m3\u001b[39;49m\u001b[43m]\u001b[49m\u001b[38;5;241;43m.\u001b[39;49m\u001b[43msplit\u001b[49m\u001b[43m(\u001b[49m\u001b[38;5;124;43m'\u001b[39;49m\u001b[38;5;124;43m_\u001b[39;49m\u001b[38;5;124;43m'\u001b[39;49m\u001b[43m)\u001b[49m\u001b[43m[\u001b[49m\u001b[38;5;241;43m0\u001b[39;49m\u001b[43m]\u001b[49m\u001b[43m)\u001b[49m\u001b[43m \u001b[49m\u001b[38;5;28;43;01mfor\u001b[39;49;00m\u001b[43m \u001b[49m\u001b[43mfolder\u001b[49m\u001b[43m \u001b[49m\u001b[38;5;129;43;01min\u001b[39;49;00m\u001b[43m \u001b[49m\u001b[43mfolders\u001b[49m\u001b[43m]\u001b[49m\n\u001b[0;32m      6\u001b[0m should_be \u001b[38;5;241m=\u001b[39m np\u001b[38;5;241m.\u001b[39marange(\u001b[38;5;241m252\u001b[39m)\n\u001b[0;32m      8\u001b[0m not_tested_combinations \u001b[38;5;241m=\u001b[39m np\u001b[38;5;241m.\u001b[39msetxor1d(combination_numbers, should_be)\n",
      "Cell \u001b[1;32mIn[3], line 4\u001b[0m, in \u001b[0;36m<listcomp>\u001b[1;34m(.0)\u001b[0m\n\u001b[0;32m      1\u001b[0m \u001b[38;5;66;03m# check if all combinations were tested\u001b[39;00m\n\u001b[0;32m      2\u001b[0m \u001b[38;5;66;03m#folders = glob(root_folder + f\"{delimiter}*{delimiter}/\")\u001b[39;00m\n\u001b[0;32m      3\u001b[0m \u001b[38;5;28mprint\u001b[39m(\u001b[38;5;28mlen\u001b[39m(folders))\n\u001b[1;32m----> 4\u001b[0m combination_numbers \u001b[38;5;241m=\u001b[39m [\u001b[38;5;28mint\u001b[39m(\u001b[43mfolder\u001b[49m\u001b[38;5;241;43m.\u001b[39;49m\u001b[43msplit\u001b[49m\u001b[43m(\u001b[49m\u001b[43mdelimiter\u001b[49m\u001b[43m)\u001b[49m\u001b[43m[\u001b[49m\u001b[38;5;241;43m-\u001b[39;49m\u001b[38;5;241;43m3\u001b[39;49m\u001b[43m]\u001b[49m\u001b[38;5;241m.\u001b[39msplit(\u001b[38;5;124m'\u001b[39m\u001b[38;5;124m_\u001b[39m\u001b[38;5;124m'\u001b[39m)[\u001b[38;5;241m0\u001b[39m]) \u001b[38;5;28;01mfor\u001b[39;00m folder \u001b[38;5;129;01min\u001b[39;00m folders]\n\u001b[0;32m      6\u001b[0m should_be \u001b[38;5;241m=\u001b[39m np\u001b[38;5;241m.\u001b[39marange(\u001b[38;5;241m252\u001b[39m)\n\u001b[0;32m      8\u001b[0m not_tested_combinations \u001b[38;5;241m=\u001b[39m np\u001b[38;5;241m.\u001b[39msetxor1d(combination_numbers, should_be)\n",
      "\u001b[1;31mIndexError\u001b[0m: list index out of range"
     ]
    }
   ],
   "source": [
    "# check if all combinations were tested\n",
    "#folders = glob(root_folder + f\"{delimiter}*{delimiter}/\")\n",
    "print(len(folders))\n",
    "combination_numbers = [int(folder.split(delimiter)[-3].split('_')[0]) for folder in folders]\n",
    "\n",
    "should_be = np.arange(252)\n",
    "\n",
    "not_tested_combinations = np.setxor1d(combination_numbers, should_be)\n",
    "print(not_tested_combinations)\n",
    "assert len(not_tested_combinations) > 0"
   ]
  },
  {
   "cell_type": "code",
   "execution_count": null,
   "id": "be3ad152-a848-4df5-92ea-ff46b6917948",
   "metadata": {},
   "outputs": [],
   "source": []
  }
 ],
 "metadata": {
  "kernelspec": {
   "display_name": "Python 3 (ipykernel)",
   "language": "python",
   "name": "python3"
  },
  "language_info": {
   "codemirror_mode": {
    "name": "ipython",
    "version": 3
   },
   "file_extension": ".py",
   "mimetype": "text/x-python",
   "name": "python",
   "nbconvert_exporter": "python",
   "pygments_lexer": "ipython3",
   "version": "3.11.5"
  }
 },
 "nbformat": 4,
 "nbformat_minor": 5
}
