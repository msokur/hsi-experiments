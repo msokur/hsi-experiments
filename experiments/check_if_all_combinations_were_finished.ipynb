{
 "cells": [
  {
   "cell_type": "code",
   "execution_count": 2,
   "id": "484fd375-7c74-4e20-89c0-87e55549e96a",
   "metadata": {},
   "outputs": [
    {
     "name": "stdout",
     "output_type": "stream",
     "text": [
      "['/home/sc.uni-leipzig.de/mi186veva/hsi-experiments', '/home/sc.uni-leipzig.de/mi186veva/hsi-experiments/configuration', '/home/sc.uni-leipzig.de/mi186veva/hsi-experiments/evaluation', '/home/sc.uni-leipzig.de/mi186veva/hsi-experiments/experiments', '/software/jupyter/conda/envs/jupyter/lib/python311.zip', '/software/jupyter/conda/envs/jupyter/lib/python3.11', '/software/jupyter/conda/envs/jupyter/lib/python3.11/lib-dynload', '', '/home/sc.uni-leipzig.de/mi186veva/.local/lib/python3.11/site-packages', '/software/jupyter/conda/envs/jupyter/lib/python3.11/site-packages']\n"
     ]
    },
    {
     "name": "stderr",
     "output_type": "stream",
     "text": [
      "2024-07-26 17:14:40.018859: I external/local_tsl/tsl/cuda/cudart_stub.cc:32] Could not find cuda drivers on your machine, GPU will not be used.\n",
      "2024-07-26 17:14:40.025253: I external/local_tsl/tsl/cuda/cudart_stub.cc:32] Could not find cuda drivers on your machine, GPU will not be used.\n",
      "2024-07-26 17:14:40.115656: I tensorflow/core/platform/cpu_feature_guard.cc:210] This TensorFlow binary is optimized to use available CPU instructions in performance-critical operations.\n",
      "To enable the following instructions: AVX2 FMA, in other operations, rebuild TensorFlow with the appropriate compiler flags.\n",
      "2024-07-26 17:14:42.068811: W tensorflow/compiler/tf2tensorrt/utils/py_utils.cc:38] TF-TRT Warning: Could not find TensorRT\n"
     ]
    }
   ],
   "source": [
    "import os\n",
    "import sys\n",
    "from pathlib import Path\n",
    "from glob import glob\n",
    "import json\n",
    "import numpy as np\n",
    "\n",
    "currentdir = Path.cwd()\n",
    "parentdir = os.path.dirname(currentdir)\n",
    "sys.path.insert(0, parentdir) \n",
    "sys.path.insert(1, os.path.join(parentdir, 'evaluation')) \n",
    "sys.path.insert(1, os.path.join(parentdir, 'configuration')) \n",
    "print(sys.path)\n",
    "\n",
    "from evaluation import metrics_csvreader, optimal_parameters\n",
    "from configuration import get_config as config"
   ]
  },
  {
   "cell_type": "code",
   "execution_count": 3,
   "id": "e237c967-4264-48aa-94fc-f60db39bef68",
   "metadata": {},
   "outputs": [
    {
     "name": "stdout",
     "output_type": "stream",
     "text": [
      "24\n",
      "24\n"
     ]
    }
   ],
   "source": [
    "# check if all combinations were tested\n",
    "\n",
    "name = 'MainExperiment_7_smoothing_2d'\n",
    "delimiter = '/'\n",
    "\n",
    "#root_folder = \"D:\\\\mi186veva-logs\\\\MainExperiment_3_smoothing_3d\"\n",
    "root_folder = f\"/work/mi186veva-logs/{name}\"\n",
    "\n",
    "folders = glob(root_folder + f\"{delimiter}*{delimiter}step_55*{delimiter}\")\n",
    "\n",
    "print(len(folders))\n",
    "\n",
    "#check if results are complete\n",
    "results_folder = f\"/work/mi186veva-results/{name}\"\n",
    "#results_folder = f\"D:\\\\mi186veva-results\\\\{name}\"\n",
    "results_folders = glob(results_folder + f\"{delimiter}*{delimiter}Results_with_EarlyStopping/metrics_by_threshold_0.6.csv\")\n",
    "\n",
    "print(len(results_folders))\n"
   ]
  },
  {
   "cell_type": "code",
   "execution_count": 6,
   "id": "49e036c4-db35-418f-9b36-80d5d54894bb",
   "metadata": {},
   "outputs": [
    {
     "name": "stdout",
     "output_type": "stream",
     "text": [
      "32\n",
      "/work/mi186veva-logs/MainExperiment_7_smoothing_1d/17_3D7_Ns_WF_S1_Sm_S5.0_BT_B0.1_B0.25_/step_55_2020_06_24_18_00_12/\n",
      "[0 3 4 7 8]\n",
      "5\n"
     ]
    }
   ],
   "source": [
    "# check if all combinations were tested\n",
    "#folders = glob(root_folder + f\"{delimiter}*{delimiter}/\")\n",
    "print(len(folders))\n",
    "print(folders[0])\n",
    "combination_numbers = [int(folder.split(delimiter)[-3].split('_')[0]) for folder in results_folders]\n",
    "\n",
    "should_be = np.arange(32)\n",
    "\n",
    "not_tested_combinations = np.setxor1d(combination_numbers, should_be)\n",
    "print(not_tested_combinations)\n",
    "print(len(not_tested_combinations))\n",
    "assert len(not_tested_combinations) > 0"
   ]
  },
  {
   "cell_type": "code",
   "execution_count": 12,
   "id": "be3ad152-a848-4df5-92ea-ff46b6917948",
   "metadata": {},
   "outputs": [
    {
     "name": "stderr",
     "output_type": "stream",
     "text": [
      "100%|██████████| 504/504 [00:00<00:00, 1705.50it/s]\n"
     ]
    }
   ],
   "source": [
    "# check if there are multiple .csv in some files\n",
    "from tqdm import tqdm \n",
    "\n",
    "name = 'MainExperiment_5_smoothing_1d+3d'\n",
    "delimiter = '/'\n",
    "\n",
    "#root_folder = \"D:\\\\mi186veva-logs\\\\MainExperiment_3_smoothing_3d\"\n",
    "root_folder = f\"/work/mi186veva-logs/{name}\"\n",
    "\n",
    "folders = glob(root_folder + f\"{delimiter}*{delimiter}\")\n",
    "\n",
    "len(folders)\n",
    "\n",
    "for folder in tqdm(folders):\n",
    "    csv_files = glob(os.path.join(folder, '*.csv'))\n",
    "    if len(csv_files) > 1:\n",
    "        print(folder)"
   ]
  },
  {
   "cell_type": "code",
   "execution_count": 3,
   "id": "159185dd-7cb4-415c-b24a-f3a86a39a3ab",
   "metadata": {},
   "outputs": [
    {
     "name": "stdout",
     "output_type": "stream",
     "text": [
      "2019_07_12_11_15_49\n",
      "2019_07_15_11_33_28\n",
      "2019_07_17_15_38_14\n",
      "2019_07_25_11_56_38\n",
      "2019_08_09_12_17_55\n",
      "2019_08_12_10_52_33\n",
      "2019_08_23_12_15_26\n",
      "2019_08_28_14_00_34\n",
      "2019_09_04_12_43_40\n",
      "2019_09_09_17_01_38\n",
      "2019_09_25_13_07_12\n",
      "2019_09_25_19_44_52\n",
      "2019_09_30_20_50_43\n",
      "2019_10_24_15_53_04\n",
      "2019_10_25_11_19_55\n",
      "2019_10_25_16_55_01\n",
      "2019_10_28_16_03_29\n",
      "2019_10_30_14_30_27\n",
      "2019_12_09_14_32_17\n",
      "2019_12_11_11_41_04\n",
      "2019_12_20_15_15_21\n",
      "2019_12_23_17_52_55\n",
      "2020_01_02_14_26_54\n",
      "2020_01_06_11_52_11\n",
      "2020_01_08_14_04_45\n",
      "2020_01_29_18_12_15\n",
      "2020_02_04_20_48_03\n",
      "2020_02_12_14_09_21\n",
      "2020_02_13_18_05_51\n",
      "2020_02_19_13_03_01\n",
      "2020_03_10_10_15_04\n",
      "2020_03_11_17_14_41\n",
      "2020_03_18_16_40_53\n",
      "2020_03_20_15_36_12\n",
      "2020_03_20_15_36_36\n",
      "2020_03_27_11_31_09\n",
      "2020_03_27_16_56_41\n",
      "2020_03_27_16_57_07\n",
      "2020_03_27_16_57_50\n",
      "2020_04_01_14_23_24\n",
      "2020_04_08_14_36_59\n",
      "2020_04_08_18_05_56\n",
      "2020_05_07_12_52_25\n",
      "2020_05_13_19_30_26\n",
      "2020_05_13_19_31_15\n",
      "2020_05_15_12_43_58\n",
      "2020_05_20_12_06_41\n",
      "2020_05_26_14_42_41\n",
      "2020_05_27_15_02_29\n",
      "2020_05_28_15_20_27\n",
      "2020_06_03_13_33_43\n",
      "2020_06_10_16_35_27\n",
      "2020_06_17_14_29_15\n",
      "2020_06_23_15_23_26\n",
      "2020_06_23_19_23_37\n",
      "2020_06_24_18_00_12\n"
     ]
    }
   ],
   "source": [
    "# check if 1d and 2d without smoothing and without background produce the same results\n",
    "\n",
    "_2d_files = sorted(glob('/work/mi186veva-MySpace/MainExperiment_7_smoothing_2d/*/*.npz'))\n",
    "_1d_files = sorted(glob('/work/mi186veva-MySpace/MainExperiment_7_smoothing_1d/*/*.npz'))\n",
    "\n",
    "def get_name(path):\n",
    "    return path.split('/')[-1].split('.')[0]\n",
    "\n",
    "for _1d, _2d in zip(_1d_files, _2d_files):\n",
    "    print(get_name(_1d))\n",
    "    assert get_name(_1d) == get_name(_2d)\n",
    "    \n",
    "    _1d_data = np.load(_1d)\n",
    "    _2d_data = np.load(_2d)\n",
    "    \n",
    "    assert np.equal(_1d_data['y'], _2d_data['y']).all()\n",
    "    #assert np.equal(_1d_data['X'][:2], _2d_data['X'][:2]).all()"
   ]
  },
  {
   "cell_type": "code",
   "execution_count": null,
   "id": "146c5307-aced-484c-b83f-a34b64450b0a",
   "metadata": {},
   "outputs": [],
   "source": []
  }
 ],
 "metadata": {
  "kernelspec": {
   "display_name": "Python 3.11",
   "language": "python",
   "name": "python3"
  },
  "language_info": {
   "codemirror_mode": {
    "name": "ipython",
    "version": 3
   },
   "file_extension": ".py",
   "mimetype": "text/x-python",
   "name": "python",
   "nbconvert_exporter": "python",
   "pygments_lexer": "ipython3",
   "version": "3.11.0"
  }
 },
 "nbformat": 4,
 "nbformat_minor": 5
}
