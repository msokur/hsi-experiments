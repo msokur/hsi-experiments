{
 "cells": [
  {
   "cell_type": "code",
   "execution_count": 2,
   "id": "484fd375-7c74-4e20-89c0-87e55549e96a",
   "metadata": {},
   "outputs": [
    {
     "name": "stdout",
     "output_type": "stream",
     "text": [
      "['/home/sc.uni-leipzig.de/mi186veva/hsi-experiments', '/home/sc.uni-leipzig.de/mi186veva/hsi-experiments/configuration', '/home/sc.uni-leipzig.de/mi186veva/hsi-experiments/evaluation', '/home/sc.uni-leipzig.de/mi186veva/hsi-experiments/experiments', '/software/jupyter/conda/envs/jupyter/lib/python311.zip', '/software/jupyter/conda/envs/jupyter/lib/python3.11', '/software/jupyter/conda/envs/jupyter/lib/python3.11/lib-dynload', '', '/home/sc.uni-leipzig.de/mi186veva/.local/lib/python3.11/site-packages', '/software/jupyter/conda/envs/jupyter/lib/python3.11/site-packages']\n"
     ]
    },
    {
     "name": "stderr",
     "output_type": "stream",
     "text": [
      "2024-07-21 10:48:24.843244: I external/local_tsl/tsl/cuda/cudart_stub.cc:32] Could not find cuda drivers on your machine, GPU will not be used.\n",
      "2024-07-21 10:48:24.973012: I external/local_tsl/tsl/cuda/cudart_stub.cc:32] Could not find cuda drivers on your machine, GPU will not be used.\n",
      "2024-07-21 10:48:25.488497: I tensorflow/core/platform/cpu_feature_guard.cc:210] This TensorFlow binary is optimized to use available CPU instructions in performance-critical operations.\n",
      "To enable the following instructions: AVX2 FMA, in other operations, rebuild TensorFlow with the appropriate compiler flags.\n",
      "2024-07-21 10:48:27.713751: W tensorflow/compiler/tf2tensorrt/utils/py_utils.cc:38] TF-TRT Warning: Could not find TensorRT\n"
     ]
    }
   ],
   "source": [
    "import os\n",
    "import sys\n",
    "from pathlib import Path\n",
    "from glob import glob\n",
    "import json\n",
    "import numpy as np\n",
    "\n",
    "currentdir = Path.cwd()\n",
    "parentdir = os.path.dirname(currentdir)\n",
    "sys.path.insert(0, parentdir) \n",
    "sys.path.insert(1, os.path.join(parentdir, 'evaluation')) \n",
    "sys.path.insert(1, os.path.join(parentdir, 'configuration')) \n",
    "print(sys.path)\n",
    "\n",
    "from evaluation import metrics_csvreader, optimal_parameters\n",
    "from configuration import get_config as config"
   ]
  },
  {
   "cell_type": "code",
   "execution_count": 7,
   "id": "e237c967-4264-48aa-94fc-f60db39bef68",
   "metadata": {},
   "outputs": [
    {
     "name": "stdout",
     "output_type": "stream",
     "text": [
      "32\n",
      "32\n"
     ]
    }
   ],
   "source": [
    "# check if all combinations were tested\n",
    "\n",
    "name = 'MainExperiment_7_smoothing_1d'\n",
    "delimiter = '/'\n",
    "\n",
    "#root_folder = \"D:\\\\mi186veva-logs\\\\MainExperiment_3_smoothing_3d\"\n",
    "root_folder = f\"/work/mi186veva-logs/{name}\"\n",
    "\n",
    "folders = glob(root_folder + f\"{delimiter}*{delimiter}step_55*{delimiter}\")\n",
    "\n",
    "print(len(folders))\n",
    "\n",
    "#check if results are complete\n",
    "results_folder = f\"/work/mi186veva-results/{name}\"\n",
    "#results_folder = f\"D:\\\\mi186veva-results\\\\{name}\"\n",
    "results_folders = glob(results_folder + f\"{delimiter}*{delimiter}Results_with_EarlyStopping/metrics_by_threshold_0.6.csv\")\n",
    "\n",
    "print(len(results_folders))\n"
   ]
  },
  {
   "cell_type": "code",
   "execution_count": 6,
   "id": "49e036c4-db35-418f-9b36-80d5d54894bb",
   "metadata": {},
   "outputs": [
    {
     "name": "stdout",
     "output_type": "stream",
     "text": [
      "32\n",
      "/work/mi186veva-logs/MainExperiment_7_smoothing_1d/17_3D7_Ns_WF_S1_Sm_S5.0_BT_B0.1_B0.25_/step_55_2020_06_24_18_00_12/\n",
      "[0 3 4 7 8]\n",
      "5\n"
     ]
    }
   ],
   "source": [
    "# check if all combinations were tested\n",
    "#folders = glob(root_folder + f\"{delimiter}*{delimiter}/\")\n",
    "print(len(folders))\n",
    "print(folders[0])\n",
    "combination_numbers = [int(folder.split(delimiter)[-3].split('_')[0]) for folder in results_folders]\n",
    "\n",
    "should_be = np.arange(32)\n",
    "\n",
    "not_tested_combinations = np.setxor1d(combination_numbers, should_be)\n",
    "print(not_tested_combinations)\n",
    "print(len(not_tested_combinations))\n",
    "assert len(not_tested_combinations) > 0"
   ]
  },
  {
   "cell_type": "code",
   "execution_count": 12,
   "id": "be3ad152-a848-4df5-92ea-ff46b6917948",
   "metadata": {},
   "outputs": [
    {
     "name": "stderr",
     "output_type": "stream",
     "text": [
      "100%|██████████| 504/504 [00:00<00:00, 1705.50it/s]\n"
     ]
    }
   ],
   "source": [
    "# check if there are multiple .csv in some files\n",
    "from tqdm import tqdm \n",
    "\n",
    "name = 'MainExperiment_5_smoothing_1d+3d'\n",
    "delimiter = '/'\n",
    "\n",
    "#root_folder = \"D:\\\\mi186veva-logs\\\\MainExperiment_3_smoothing_3d\"\n",
    "root_folder = f\"/work/mi186veva-logs/{name}\"\n",
    "\n",
    "folders = glob(root_folder + f\"{delimiter}*{delimiter}\")\n",
    "\n",
    "len(folders)\n",
    "\n",
    "for folder in tqdm(folders):\n",
    "    csv_files = glob(os.path.join(folder, '*.csv'))\n",
    "    if len(csv_files) > 1:\n",
    "        print(folder)"
   ]
  },
  {
   "cell_type": "code",
   "execution_count": null,
   "id": "159185dd-7cb4-415c-b24a-f3a86a39a3ab",
   "metadata": {},
   "outputs": [],
   "source": []
  }
 ],
 "metadata": {
  "kernelspec": {
   "display_name": "Python 3.11",
   "language": "python",
   "name": "python3"
  },
  "language_info": {
   "codemirror_mode": {
    "name": "ipython",
    "version": 3
   },
   "file_extension": ".py",
   "mimetype": "text/x-python",
   "name": "python",
   "nbconvert_exporter": "python",
   "pygments_lexer": "ipython3",
   "version": "3.11.0"
  }
 },
 "nbformat": 4,
 "nbformat_minor": 5
}
