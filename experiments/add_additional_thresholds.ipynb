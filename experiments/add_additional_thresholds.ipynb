{
 "cells": [
  {
   "cell_type": "code",
   "execution_count": 1,
   "id": "5d8b30f6-a2f4-4513-a1c4-f6f3f44a09ab",
   "metadata": {},
   "outputs": [
    {
     "name": "stdout",
     "output_type": "stream",
     "text": [
      "['C:\\\\Users\\\\tkachenko\\\\Desktop\\\\HSI\\\\hsi-experiments', 'C:\\\\Users\\\\tkachenko\\\\Desktop\\\\HSI\\\\hsi-experiments\\\\cross_validators', 'C:\\\\Users\\\\tkachenko\\\\Desktop\\\\HSI\\\\hsi-experiments\\\\configuration', 'C:\\\\Users\\\\tkachenko\\\\Desktop\\\\HSI\\\\hsi-experiments\\\\evaluation', 'C:\\\\Users\\\\tkachenko\\\\Desktop\\\\HSI\\\\hsi-experiments\\\\experiments', 'C:\\\\Users\\\\tkachenko\\\\Anaconda3\\\\envs\\\\tf\\\\python311.zip', 'C:\\\\Users\\\\tkachenko\\\\Anaconda3\\\\envs\\\\tf\\\\DLLs', 'C:\\\\Users\\\\tkachenko\\\\Anaconda3\\\\envs\\\\tf\\\\Lib', 'C:\\\\Users\\\\tkachenko\\\\Anaconda3\\\\envs\\\\tf', '', 'C:\\\\Users\\\\tkachenko\\\\AppData\\\\Roaming\\\\Python\\\\Python311\\\\site-packages', 'C:\\\\Users\\\\tkachenko\\\\Anaconda3\\\\envs\\\\tf\\\\Lib\\\\site-packages', 'C:\\\\Users\\\\tkachenko\\\\Anaconda3\\\\envs\\\\tf\\\\Lib\\\\site-packages\\\\win32', 'C:\\\\Users\\\\tkachenko\\\\Anaconda3\\\\envs\\\\tf\\\\Lib\\\\site-packages\\\\win32\\\\lib', 'C:\\\\Users\\\\tkachenko\\\\Anaconda3\\\\envs\\\\tf\\\\Lib\\\\site-packages\\\\Pythonwin']\n"
     ]
    }
   ],
   "source": [
    "from pathlib import Path\n",
    "import os\n",
    "import sys\n",
    "from glob import glob\n",
    "\n",
    "currentdir = Path.cwd()\n",
    "parentdir = os.path.dirname(currentdir)\n",
    "sys.path.insert(0, parentdir) \n",
    "sys.path.insert(1, os.path.join(parentdir, 'evaluation')) \n",
    "sys.path.insert(1, os.path.join(parentdir, 'configuration'))\n",
    "sys.path.insert(1, os.path.join(parentdir, 'cross_validators')) \n",
    "print(sys.path)\n",
    "\n",
    "from evaluation.optimal_parameters import OptimalThreshold\n",
    "from cross_validators.cross_validator_base import CrossValidatorBase as CV"
   ]
  },
  {
   "cell_type": "code",
   "execution_count": 2,
   "id": "3af6ff11-3ca4-456f-bdc3-65c4d58e2612",
   "metadata": {},
   "outputs": [],
   "source": [
    "import configuration.get_config as config"
   ]
  },
  {
   "cell_type": "code",
   "execution_count": 3,
   "id": "9866fc64-f344-4bf1-acee-9540dfa676e1",
   "metadata": {},
   "outputs": [
    {
     "data": {
      "text/plain": [
       "{'MODE': 'WITHOUT_GPU',\n",
       " 'DATABASE_ROOT_FOLDER': 'C:\\\\Users\\\\tkachenko\\\\Desktop\\\\HSI\\\\colon_for_debug',\n",
       " 'LOGS_FOLDER': ['C:\\\\Users\\\\tkachenko\\\\Desktop\\\\HSI\\\\hsi-experiments\\\\logs'],\n",
       " 'RESULTS_FOLDER': 'C:\\\\Users\\\\tkachenko\\\\Desktop\\\\HSI\\\\hsi-experiments\\\\results',\n",
       " 'CHECKPOINT_FOLDER': 'checkpoints',\n",
       " 'RAW_NPZ_PATH': 'C:\\\\Users\\\\tkachenko\\\\Desktop\\\\HSI\\\\colon_for_debug\\\\MainExperiment_5_savgol\\\\run',\n",
       " 'RAW_SOURCE_PATH': 'C:\\\\Users\\\\tkachenko\\\\Desktop\\\\HSI\\\\colon_for_debug\\\\data_dat',\n",
       " 'SHUFFLED_PATH': 'C:\\\\Users\\\\tkachenko\\\\Desktop\\\\HSI\\\\colon_for_debug\\\\MainExperiment_5_savgol\\\\run\\\\shuffled',\n",
       " 'BATCHED_PATH': 'C:\\\\Users\\\\tkachenko\\\\Desktop\\\\HSI\\\\colon_for_debug\\\\MainExperiment_5_savgol\\\\run\\\\batch_sized',\n",
       " 'SYSTEM_PATHS_DELIMITER': '\\\\'}"
      ]
     },
     "execution_count": 3,
     "metadata": {},
     "output_type": "execute_result"
    }
   ],
   "source": [
    "config.CONFIG_PATHS"
   ]
  },
  {
   "cell_type": "code",
   "execution_count": 4,
   "id": "160c815e-9c30-4c28-8499-6b9e46fc9633",
   "metadata": {},
   "outputs": [],
   "source": [
    "config.CONFIG_PATHS['RESULTS_FOLDER'] = 'D:\\\\mi186veva-results'"
   ]
  },
  {
   "cell_type": "code",
   "execution_count": 9,
   "id": "ae9a3555-3242-49da-89f3-c80706771499",
   "metadata": {},
   "outputs": [
    {
     "name": "stderr",
     "output_type": "stream",
     "text": [
      "  2%|█▌                                                                                             | 4/252 [00:00<00:07, 35.27it/s]"
     ]
    },
    {
     "name": "stdout",
     "output_type": "stream",
     "text": [
      "0.4467 0.7116358 0.7118178 {'add_thresholds_to_the_beginning': False, 'add_thresholds_to_the_end': False, 'existing_thresholds_range': [0.001, 0.6], 'difference_between_optimal_sens_and_spec': 0.00018197298, 'if_additional_resolution_for_optimal_threshold_is_needed': False, 'additional_resolution_range': [0.4454, 0.4481]}\n",
      "0.4669 0.6964998 0.6912692 {'add_thresholds_to_the_beginning': False, 'add_thresholds_to_the_end': False, 'existing_thresholds_range': [0.001, 0.6], 'difference_between_optimal_sens_and_spec': 0.0052306056, 'if_additional_resolution_for_optimal_threshold_is_needed': False, 'additional_resolution_range': [0.4608, 0.4729]}\n",
      "0.3822 0.6948902 0.70024544 {'add_thresholds_to_the_beginning': False, 'add_thresholds_to_the_end': False, 'existing_thresholds_range': [0.001, 0.6], 'difference_between_optimal_sens_and_spec': 0.005355239, 'if_additional_resolution_for_optimal_threshold_is_needed': False, 'additional_resolution_range': [0.3761, 0.3882]}\n",
      "0.3943 0.691446 0.69675124 {'add_thresholds_to_the_beginning': False, 'add_thresholds_to_the_end': False, 'existing_thresholds_range': [0.001, 0.6], 'difference_between_optimal_sens_and_spec': 0.0053052306, 'if_additional_resolution_for_optimal_threshold_is_needed': False, 'additional_resolution_range': [0.3882, 0.4003]}\n",
      "0.3822 0.69609463 0.70184916 {'add_thresholds_to_the_beginning': False, 'add_thresholds_to_the_end': False, 'existing_thresholds_range': [0.001, 0.6], 'difference_between_optimal_sens_and_spec': 0.0057545304, 'if_additional_resolution_for_optimal_threshold_is_needed': False, 'additional_resolution_range': [0.3761, 0.3882]}\n",
      "0.4487 0.70605034 0.69848907 {'add_thresholds_to_the_beginning': False, 'add_thresholds_to_the_end': False, 'existing_thresholds_range': [0.001, 0.6], 'difference_between_optimal_sens_and_spec': 0.0075612664, 'if_additional_resolution_for_optimal_threshold_is_needed': False, 'additional_resolution_range': [0.4427, 0.4548]}\n",
      "0.3943 0.68008554 0.6827585 {'add_thresholds_to_the_beginning': False, 'add_thresholds_to_the_end': False, 'existing_thresholds_range': [0.001, 0.6], 'difference_between_optimal_sens_and_spec': 0.0026729703, 'if_additional_resolution_for_optimal_threshold_is_needed': False, 'additional_resolution_range': [0.3882, 0.4003]}\n",
      "0.4003 0.7028764 0.70045835 {'add_thresholds_to_the_beginning': False, 'add_thresholds_to_the_end': False, 'existing_thresholds_range': [0.001, 0.6], 'difference_between_optimal_sens_and_spec': 0.0024180412, 'if_additional_resolution_for_optimal_threshold_is_needed': False, 'additional_resolution_range': [0.3943, 0.4064]}\n"
     ]
    },
    {
     "name": "stderr",
     "output_type": "stream",
     "text": [
      "  6%|█████▌                                                                                        | 15/252 [00:00<00:05, 44.72it/s]"
     ]
    },
    {
     "name": "stdout",
     "output_type": "stream",
     "text": [
      "0.3882 0.67602676 0.6687425 {'add_thresholds_to_the_beginning': False, 'add_thresholds_to_the_end': False, 'existing_thresholds_range': [0.001, 0.6], 'difference_between_optimal_sens_and_spec': 0.0072842836, 'if_additional_resolution_for_optimal_threshold_is_needed': False, 'additional_resolution_range': [0.3822, 0.3943]}\n",
      "0.4998 0.5162629 0.507888 {'add_thresholds_to_the_beginning': False, 'add_thresholds_to_the_end': False, 'existing_thresholds_range': [0.001, 0.6], 'difference_between_optimal_sens_and_spec': 0.00837487, 'if_additional_resolution_for_optimal_threshold_is_needed': False, 'additional_resolution_range': [0.4984, 0.5011]}\n",
      "0.4463 0.5186585 0.52130544 {'add_thresholds_to_the_beginning': False, 'add_thresholds_to_the_end': False, 'existing_thresholds_range': [0.001, 0.6], 'difference_between_optimal_sens_and_spec': 0.002646923, 'if_additional_resolution_for_optimal_threshold_is_needed': False, 'additional_resolution_range': [0.446, 0.4466]}\n",
      "0.4306 0.6857879 0.67915887 {'add_thresholds_to_the_beginning': False, 'add_thresholds_to_the_end': False, 'existing_thresholds_range': [0.001, 0.6], 'difference_between_optimal_sens_and_spec': 0.00662905, 'if_additional_resolution_for_optimal_threshold_is_needed': False, 'additional_resolution_range': [0.4245, 0.4366]}\n",
      "0.5032 0.5111183 0.50907505 {'add_thresholds_to_the_beginning': False, 'add_thresholds_to_the_end': False, 'existing_thresholds_range': [0.001, 0.6], 'difference_between_optimal_sens_and_spec': 0.0020432472, 'if_additional_resolution_for_optimal_threshold_is_needed': False, 'additional_resolution_range': [0.4971, 0.5092]}\n",
      "0.5058 0.55013293 0.5490259 {'add_thresholds_to_the_beginning': False, 'add_thresholds_to_the_end': False, 'existing_thresholds_range': [0.001, 0.6], 'difference_between_optimal_sens_and_spec': 0.0011070371, 'if_additional_resolution_for_optimal_threshold_is_needed': False, 'additional_resolution_range': [0.5055, 0.5061]}\n",
      "0.5059 0.5319341 0.5298351 {'add_thresholds_to_the_beginning': False, 'add_thresholds_to_the_end': False, 'existing_thresholds_range': [0.001, 0.6], 'difference_between_optimal_sens_and_spec': 0.0020989776, 'if_additional_resolution_for_optimal_threshold_is_needed': False, 'additional_resolution_range': [0.5045, 0.5072]}\n",
      "0.4373 0.5046199 0.4998839 {'add_thresholds_to_the_beginning': False, 'add_thresholds_to_the_end': False, 'existing_thresholds_range': [0.001, 0.6], 'difference_between_optimal_sens_and_spec': 0.0047360063, 'if_additional_resolution_for_optimal_threshold_is_needed': False, 'additional_resolution_range': [0.4366, 0.4387]}\n"
     ]
    },
    {
     "name": "stderr",
     "output_type": "stream",
     "text": [
      "  8%|███████▍                                                                                      | 20/252 [00:00<00:07, 31.44it/s]"
     ]
    },
    {
     "name": "stdout",
     "output_type": "stream",
     "text": [
      "0.5114 0.48453188 0.4873812 {'add_thresholds_to_the_beginning': False, 'add_thresholds_to_the_end': False, 'existing_thresholds_range': [0.001, 0.6], 'difference_between_optimal_sens_and_spec': 0.0028493106, 'if_additional_resolution_for_optimal_threshold_is_needed': False, 'additional_resolution_range': [0.5111, 0.5117]}\n",
      "0.5153 0.5435454 0.53576905 {'add_thresholds_to_the_beginning': False, 'add_thresholds_to_the_end': False, 'existing_thresholds_range': [0.001, 0.6], 'difference_between_optimal_sens_and_spec': 0.0077763796, 'if_additional_resolution_for_optimal_threshold_is_needed': False, 'additional_resolution_range': [0.5092, 0.5213]}\n",
      "0.5061 0.52276 0.5240676 {'add_thresholds_to_the_beginning': False, 'add_thresholds_to_the_end': False, 'existing_thresholds_range': [0.001, 0.6], 'difference_between_optimal_sens_and_spec': 0.0013076067, 'if_additional_resolution_for_optimal_threshold_is_needed': False, 'additional_resolution_range': [0.5058, 0.5064]}\n",
      "0.5007 0.5190063 0.51830405 {'add_thresholds_to_the_beginning': False, 'add_thresholds_to_the_end': False, 'existing_thresholds_range': [0.001, 0.6], 'difference_between_optimal_sens_and_spec': 0.0007022619, 'if_additional_resolution_for_optimal_threshold_is_needed': False, 'additional_resolution_range': [0.5004, 0.501]}\n",
      "0.4387 0.48934335 0.48847613 {'add_thresholds_to_the_beginning': False, 'add_thresholds_to_the_end': False, 'existing_thresholds_range': [0.001, 0.6], 'difference_between_optimal_sens_and_spec': 0.0008672178, 'if_additional_resolution_for_optimal_threshold_is_needed': False, 'additional_resolution_range': [0.4373, 0.44]}\n",
      "0.5052 0.5003125 0.49371713 {'add_thresholds_to_the_beginning': False, 'add_thresholds_to_the_end': False, 'existing_thresholds_range': [0.001, 0.6], 'difference_between_optimal_sens_and_spec': 0.006595373, 'if_additional_resolution_for_optimal_threshold_is_needed': False, 'additional_resolution_range': [0.5038, 0.5065]}\n",
      "0.4427 0.7058962 0.7023289 {'add_thresholds_to_the_beginning': False, 'add_thresholds_to_the_end': False, 'existing_thresholds_range': [0.001, 0.6], 'difference_between_optimal_sens_and_spec': 0.0035672784, 'if_additional_resolution_for_optimal_threshold_is_needed': False, 'additional_resolution_range': [0.4366, 0.4487]}\n"
     ]
    },
    {
     "name": "stderr",
     "output_type": "stream",
     "text": [
      " 10%|████████▉                                                                                     | 24/252 [00:00<00:06, 33.37it/s]"
     ]
    },
    {
     "name": "stdout",
     "output_type": "stream",
     "text": [
      "0.5038 0.55073327 0.5570549 {'add_thresholds_to_the_beginning': False, 'add_thresholds_to_the_end': False, 'existing_thresholds_range': [0.001, 0.6], 'difference_between_optimal_sens_and_spec': 0.006321609, 'if_additional_resolution_for_optimal_threshold_is_needed': False, 'additional_resolution_range': [0.5032, 0.5052]}\n",
      "0.5038 0.53475666 0.52541006 {'add_thresholds_to_the_beginning': False, 'add_thresholds_to_the_end': False, 'existing_thresholds_range': [0.001, 0.6], 'difference_between_optimal_sens_and_spec': 0.009346604, 'if_additional_resolution_for_optimal_threshold_is_needed': False, 'additional_resolution_range': [0.5032, 0.5052]}\n",
      "0.4351 0.5027288 0.50265825 {'add_thresholds_to_the_beginning': False, 'add_thresholds_to_the_end': False, 'existing_thresholds_range': [0.001, 0.6], 'difference_between_optimal_sens_and_spec': 7.05719e-05, 'if_additional_resolution_for_optimal_threshold_is_needed': False, 'additional_resolution_range': [0.4348, 0.4354]}\n",
      "0.5092 0.4775342 0.47646418 {'add_thresholds_to_the_beginning': False, 'add_thresholds_to_the_end': False, 'existing_thresholds_range': [0.001, 0.6], 'difference_between_optimal_sens_and_spec': 0.0010700226, 'if_additional_resolution_for_optimal_threshold_is_needed': False, 'additional_resolution_range': [0.5032, 0.5153]}\n"
     ]
    },
    {
     "name": "stderr",
     "output_type": "stream",
     "text": [
      " 11%|██████████▍                                                                                   | 28/252 [00:00<00:08, 26.00it/s]"
     ]
    },
    {
     "name": "stdout",
     "output_type": "stream",
     "text": [
      "0.5173 0.5315421 0.5410696 {'add_thresholds_to_the_beginning': False, 'add_thresholds_to_the_end': False, 'existing_thresholds_range': [0.001, 0.6], 'difference_between_optimal_sens_and_spec': 0.009527504, 'if_additional_resolution_for_optimal_threshold_is_needed': False, 'additional_resolution_range': [0.5159, 0.5186]}\n",
      "0.5066 0.513391 0.51767325 {'add_thresholds_to_the_beginning': False, 'add_thresholds_to_the_end': False, 'existing_thresholds_range': [0.001, 0.6], 'difference_between_optimal_sens_and_spec': 0.004282236, 'if_additional_resolution_for_optimal_threshold_is_needed': False, 'additional_resolution_range': [0.5063, 0.5069]}\n",
      "0.5038 0.51424265 0.52034926 {'add_thresholds_to_the_beginning': False, 'add_thresholds_to_the_end': False, 'existing_thresholds_range': [0.001, 0.6], 'difference_between_optimal_sens_and_spec': 0.006106615, 'if_additional_resolution_for_optimal_threshold_is_needed': False, 'additional_resolution_range': [0.5032, 0.5052]}\n",
      "0.4427 0.5085686 0.502511 {'add_thresholds_to_the_beginning': False, 'add_thresholds_to_the_end': False, 'existing_thresholds_range': [0.001, 0.6], 'difference_between_optimal_sens_and_spec': 0.0060575604, 'if_additional_resolution_for_optimal_threshold_is_needed': False, 'additional_resolution_range': [0.4366, 0.4487]}\n"
     ]
    },
    {
     "name": "stderr",
     "output_type": "stream",
     "text": [
      " 13%|███████████▉                                                                                  | 32/252 [00:03<00:50,  4.33it/s]"
     ]
    },
    {
     "name": "stdout",
     "output_type": "stream",
     "text": [
      "0.5079 0.5006732 0.49920556 {'add_thresholds_to_the_beginning': False, 'add_thresholds_to_the_end': False, 'existing_thresholds_range': [0.001, 0.6], 'difference_between_optimal_sens_and_spec': 0.0014676154, 'if_additional_resolution_for_optimal_threshold_is_needed': False, 'additional_resolution_range': [0.5076, 0.5081]}\n",
      "0.5058 0.5517533 0.5497278 {'add_thresholds_to_the_beginning': False, 'add_thresholds_to_the_end': False, 'existing_thresholds_range': [0.001, 0.6], 'difference_between_optimal_sens_and_spec': 0.002025485, 'if_additional_resolution_for_optimal_threshold_is_needed': False, 'additional_resolution_range': [0.5055, 0.5061]}\n",
      "0.4487 0.71504474 0.71351075 {'add_thresholds_to_the_beginning': False, 'add_thresholds_to_the_end': False, 'existing_thresholds_range': [0.001, 0.6], 'difference_between_optimal_sens_and_spec': 0.0015339851, 'if_additional_resolution_for_optimal_threshold_is_needed': False, 'additional_resolution_range': [0.4427, 0.4548]}\n",
      "0.5119 0.5213554 0.5236208 {'add_thresholds_to_the_beginning': False, 'add_thresholds_to_the_end': False, 'existing_thresholds_range': [0.001, 0.6], 'difference_between_optimal_sens_and_spec': 0.0022653937, 'if_additional_resolution_for_optimal_threshold_is_needed': False, 'additional_resolution_range': [0.5105, 0.5132]}\n"
     ]
    },
    {
     "name": "stderr",
     "output_type": "stream",
     "text": [
      " 16%|███████████████▎                                                                              | 41/252 [00:04<00:25,  8.29it/s]"
     ]
    },
    {
     "name": "stdout",
     "output_type": "stream",
     "text": [
      "0.4266 0.4988881 0.49293196 {'add_thresholds_to_the_beginning': False, 'add_thresholds_to_the_end': False, 'existing_thresholds_range': [0.001, 0.6], 'difference_between_optimal_sens_and_spec': 0.005956143, 'if_additional_resolution_for_optimal_threshold_is_needed': False, 'additional_resolution_range': [0.4252, 0.4279]}\n",
      "0.5119 0.4987464 0.5041831 {'add_thresholds_to_the_beginning': False, 'add_thresholds_to_the_end': False, 'existing_thresholds_range': [0.001, 0.6], 'difference_between_optimal_sens_and_spec': 0.0054367185, 'if_additional_resolution_for_optimal_threshold_is_needed': False, 'additional_resolution_range': [0.5105, 0.5132]}\n",
      "0.5132 0.52959037 0.5333217 {'add_thresholds_to_the_beginning': False, 'add_thresholds_to_the_end': False, 'existing_thresholds_range': [0.001, 0.6], 'difference_between_optimal_sens_and_spec': 0.0037313104, 'if_additional_resolution_for_optimal_threshold_is_needed': False, 'additional_resolution_range': [0.5119, 0.5146]}\n",
      "0.5038 0.51463586 0.5134283 {'add_thresholds_to_the_beginning': False, 'add_thresholds_to_the_end': False, 'existing_thresholds_range': [0.001, 0.6], 'difference_between_optimal_sens_and_spec': 0.0012075901, 'if_additional_resolution_for_optimal_threshold_is_needed': False, 'additional_resolution_range': [0.5032, 0.5052]}\n",
      "0.5038 0.5139708 0.5159358 {'add_thresholds_to_the_beginning': False, 'add_thresholds_to_the_end': False, 'existing_thresholds_range': [0.001, 0.6], 'difference_between_optimal_sens_and_spec': 0.0019649863, 'if_additional_resolution_for_optimal_threshold_is_needed': False, 'additional_resolution_range': [0.5032, 0.5052]}\n",
      "0.4499 0.4863424 0.4896572 {'add_thresholds_to_the_beginning': False, 'add_thresholds_to_the_end': False, 'existing_thresholds_range': [0.001, 0.6], 'difference_between_optimal_sens_and_spec': 0.003314793, 'if_additional_resolution_for_optimal_threshold_is_needed': False, 'additional_resolution_range': [0.4496, 0.4501]}\n"
     ]
    },
    {
     "name": "stderr",
     "output_type": "stream",
     "text": [
      " 17%|████████████████▍                                                                             | 44/252 [00:04<00:21,  9.47it/s]"
     ]
    },
    {
     "name": "stdout",
     "output_type": "stream",
     "text": [
      "0.5052 0.5294386 0.53785783 {'add_thresholds_to_the_beginning': False, 'add_thresholds_to_the_end': False, 'existing_thresholds_range': [0.001, 0.6], 'difference_between_optimal_sens_and_spec': 0.008419216, 'if_additional_resolution_for_optimal_threshold_is_needed': False, 'additional_resolution_range': [0.5038, 0.5065]}\n",
      "0.5047 0.552735 0.5497392 {'add_thresholds_to_the_beginning': False, 'add_thresholds_to_the_end': False, 'existing_thresholds_range': [0.001, 0.6], 'difference_between_optimal_sens_and_spec': 0.002995789, 'if_additional_resolution_for_optimal_threshold_is_needed': False, 'additional_resolution_range': [0.5044, 0.505]}\n",
      "0.5038 0.5337219 0.53311837 {'add_thresholds_to_the_beginning': False, 'add_thresholds_to_the_end': False, 'existing_thresholds_range': [0.001, 0.6], 'difference_between_optimal_sens_and_spec': 0.00060355663, 'if_additional_resolution_for_optimal_threshold_is_needed': False, 'additional_resolution_range': [0.5032, 0.5052]}\n",
      "0.4608 0.71231633 0.7171099 {'add_thresholds_to_the_beginning': False, 'add_thresholds_to_the_end': False, 'existing_thresholds_range': [0.001, 0.6], 'difference_between_optimal_sens_and_spec': 0.0047935843, 'if_additional_resolution_for_optimal_threshold_is_needed': False, 'additional_resolution_range': [0.4548, 0.4669]}\n",
      "0.4393 0.5029592 0.502703 {'add_thresholds_to_the_beginning': False, 'add_thresholds_to_the_end': False, 'existing_thresholds_range': [0.001, 0.6], 'difference_between_optimal_sens_and_spec': 0.00025618076, 'if_additional_resolution_for_optimal_threshold_is_needed': False, 'additional_resolution_range': [0.4379, 0.4406]}\n"
     ]
    },
    {
     "name": "stderr",
     "output_type": "stream",
     "text": [
      " 20%|███████████████████                                                                           | 51/252 [00:04<00:13, 14.53it/s]"
     ]
    },
    {
     "name": "stdout",
     "output_type": "stream",
     "text": [
      "0.5132 0.48822463 0.4945548 {'add_thresholds_to_the_beginning': False, 'add_thresholds_to_the_end': False, 'existing_thresholds_range': [0.001, 0.6], 'difference_between_optimal_sens_and_spec': 0.0063301623, 'if_additional_resolution_for_optimal_threshold_is_needed': False, 'additional_resolution_range': [0.5119, 0.5146]}\n",
      "0.5153 0.5261247 0.52451134 {'add_thresholds_to_the_beginning': False, 'add_thresholds_to_the_end': False, 'existing_thresholds_range': [0.001, 0.6], 'difference_between_optimal_sens_and_spec': 0.0016133785, 'if_additional_resolution_for_optimal_threshold_is_needed': False, 'additional_resolution_range': [0.5092, 0.5213]}\n",
      "0.5059 0.5263119 0.52209735 {'add_thresholds_to_the_beginning': False, 'add_thresholds_to_the_end': False, 'existing_thresholds_range': [0.001, 0.6], 'difference_between_optimal_sens_and_spec': 0.004214525, 'if_additional_resolution_for_optimal_threshold_is_needed': False, 'additional_resolution_range': [0.5045, 0.5072]}\n",
      "0.5019 0.51558125 0.520817 {'add_thresholds_to_the_beginning': False, 'add_thresholds_to_the_end': False, 'existing_thresholds_range': [0.001, 0.6], 'difference_between_optimal_sens_and_spec': 0.0052357316, 'if_additional_resolution_for_optimal_threshold_is_needed': False, 'additional_resolution_range': [0.5016, 0.5022]}\n",
      "0.442 0.50620365 0.5035276 {'add_thresholds_to_the_beginning': False, 'add_thresholds_to_the_end': False, 'existing_thresholds_range': [0.001, 0.6], 'difference_between_optimal_sens_and_spec': 0.0026760697, 'if_additional_resolution_for_optimal_threshold_is_needed': False, 'additional_resolution_range': [0.4406, 0.4427]}\n",
      "0.5038 0.5108061 0.50697994 {'add_thresholds_to_the_beginning': False, 'add_thresholds_to_the_end': False, 'existing_thresholds_range': [0.001, 0.6], 'difference_between_optimal_sens_and_spec': 0.0038261414, 'if_additional_resolution_for_optimal_threshold_is_needed': False, 'additional_resolution_range': [0.5032, 0.5052]}\n"
     ]
    },
    {
     "name": "stderr",
     "output_type": "stream",
     "text": [
      " 21%|████████████████████▏                                                                         | 54/252 [00:04<00:12, 15.70it/s]"
     ]
    },
    {
     "name": "stdout",
     "output_type": "stream",
     "text": [
      "0.5052 0.55846375 0.5537559 {'add_thresholds_to_the_beginning': False, 'add_thresholds_to_the_end': False, 'existing_thresholds_range': [0.001, 0.6], 'difference_between_optimal_sens_and_spec': 0.004707873, 'if_additional_resolution_for_optimal_threshold_is_needed': False, 'additional_resolution_range': [0.5038, 0.5065]}\n",
      "0.5059 0.5233319 0.52654505 {'add_thresholds_to_the_beginning': False, 'add_thresholds_to_the_end': False, 'existing_thresholds_range': [0.001, 0.6], 'difference_between_optimal_sens_and_spec': 0.0032131672, 'if_additional_resolution_for_optimal_threshold_is_needed': False, 'additional_resolution_range': [0.5045, 0.5072]}\n",
      "0.4151 0.5233981 0.5195402 {'add_thresholds_to_the_beginning': False, 'add_thresholds_to_the_end': False, 'existing_thresholds_range': [0.001, 0.6], 'difference_between_optimal_sens_and_spec': 0.0038579106, 'if_additional_resolution_for_optimal_threshold_is_needed': False, 'additional_resolution_range': [0.4137, 0.4164]}\n",
      "0.4366 0.67351556 0.66416144 {'add_thresholds_to_the_beginning': False, 'add_thresholds_to_the_end': False, 'existing_thresholds_range': [0.001, 0.6], 'difference_between_optimal_sens_and_spec': 0.0093541145, 'if_additional_resolution_for_optimal_threshold_is_needed': False, 'additional_resolution_range': [0.4306, 0.4427]}\n",
      "0.5072 0.5066161 0.497365 {'add_thresholds_to_the_beginning': False, 'add_thresholds_to_the_end': False, 'existing_thresholds_range': [0.001, 0.6], 'difference_between_optimal_sens_and_spec': 0.009251118, 'if_additional_resolution_for_optimal_threshold_is_needed': False, 'additional_resolution_range': [0.5059, 0.5086]}\n"
     ]
    },
    {
     "name": "stderr",
     "output_type": "stream",
     "text": [
      " 26%|████████████████████████▏                                                                     | 65/252 [00:05<00:08, 21.01it/s]"
     ]
    },
    {
     "name": "stdout",
     "output_type": "stream",
     "text": [
      "0.5132 0.53549707 0.5407126 {'add_thresholds_to_the_beginning': False, 'add_thresholds_to_the_end': False, 'existing_thresholds_range': [0.001, 0.6], 'difference_between_optimal_sens_and_spec': 0.0052155256, 'if_additional_resolution_for_optimal_threshold_is_needed': False, 'additional_resolution_range': [0.5119, 0.5146]}\n",
      "0.5038 0.5127811 0.51221293 {'add_thresholds_to_the_beginning': False, 'add_thresholds_to_the_end': False, 'existing_thresholds_range': [0.001, 0.6], 'difference_between_optimal_sens_and_spec': 0.0005681515, 'if_additional_resolution_for_optimal_threshold_is_needed': False, 'additional_resolution_range': [0.5032, 0.5052]}\n",
      "0.5001 0.5170199 0.51559734 {'add_thresholds_to_the_beginning': False, 'add_thresholds_to_the_end': False, 'existing_thresholds_range': [0.001, 0.6], 'difference_between_optimal_sens_and_spec': 0.001422584, 'if_additional_resolution_for_optimal_threshold_is_needed': False, 'additional_resolution_range': [0.4998, 0.5004]}\n",
      "0.4548 0.52841026 0.521087 {'add_thresholds_to_the_beginning': False, 'add_thresholds_to_the_end': False, 'existing_thresholds_range': [0.001, 0.6], 'difference_between_optimal_sens_and_spec': 0.007323265, 'if_additional_resolution_for_optimal_threshold_is_needed': False, 'additional_resolution_range': [0.4487, 0.4608]}\n",
      "0.5072 0.506208 0.49715954 {'add_thresholds_to_the_beginning': False, 'add_thresholds_to_the_end': False, 'existing_thresholds_range': [0.001, 0.6], 'difference_between_optimal_sens_and_spec': 0.009048462, 'if_additional_resolution_for_optimal_threshold_is_needed': False, 'additional_resolution_range': [0.5059, 0.5086]}\n",
      "0.5153 0.50682896 0.5082591 {'add_thresholds_to_the_beginning': False, 'add_thresholds_to_the_end': False, 'existing_thresholds_range': [0.001, 0.6], 'difference_between_optimal_sens_and_spec': 0.0014301538, 'if_additional_resolution_for_optimal_threshold_is_needed': False, 'additional_resolution_range': [0.5092, 0.5213]}\n",
      "0.5032 0.53542835 0.5373794 {'add_thresholds_to_the_beginning': False, 'add_thresholds_to_the_end': False, 'existing_thresholds_range': [0.001, 0.6], 'difference_between_optimal_sens_and_spec': 0.0019510388, 'if_additional_resolution_for_optimal_threshold_is_needed': False, 'additional_resolution_range': [0.4971, 0.5092]}\n",
      "0.4427 0.53354263 0.52938396 {'add_thresholds_to_the_beginning': False, 'add_thresholds_to_the_end': False, 'existing_thresholds_range': [0.001, 0.6], 'difference_between_optimal_sens_and_spec': 0.0041586757, 'if_additional_resolution_for_optimal_threshold_is_needed': False, 'additional_resolution_range': [0.4366, 0.4487]}\n"
     ]
    },
    {
     "name": "stderr",
     "output_type": "stream",
     "text": [
      " 27%|█████████████████████████▋                                                                    | 69/252 [00:05<00:07, 24.33it/s]"
     ]
    },
    {
     "name": "stdout",
     "output_type": "stream",
     "text": [
      "0.4992 0.48995003 0.48833954 {'add_thresholds_to_the_beginning': False, 'add_thresholds_to_the_end': False, 'existing_thresholds_range': [0.001, 0.6], 'difference_between_optimal_sens_and_spec': 0.0016104877, 'if_additional_resolution_for_optimal_threshold_is_needed': False, 'additional_resolution_range': [0.4978, 0.5005]}\n",
      "0.4487 0.70762336 0.71340543 {'add_thresholds_to_the_beginning': False, 'add_thresholds_to_the_end': False, 'existing_thresholds_range': [0.001, 0.6], 'difference_between_optimal_sens_and_spec': 0.005782068, 'if_additional_resolution_for_optimal_threshold_is_needed': False, 'additional_resolution_range': [0.4427, 0.4548]}\n",
      "0.5032 0.5210576 0.5300076 {'add_thresholds_to_the_beginning': False, 'add_thresholds_to_the_end': False, 'existing_thresholds_range': [0.001, 0.6], 'difference_between_optimal_sens_and_spec': 0.008949995, 'if_additional_resolution_for_optimal_threshold_is_needed': False, 'additional_resolution_range': [0.4971, 0.5092]}\n",
      "0.5056 0.5260657 0.5234104 {'add_thresholds_to_the_beginning': False, 'add_thresholds_to_the_end': False, 'existing_thresholds_range': [0.001, 0.6], 'difference_between_optimal_sens_and_spec': 0.0026553273, 'if_additional_resolution_for_optimal_threshold_is_needed': False, 'additional_resolution_range': [0.5053, 0.5059]}\n",
      "0.4754 0.53739274 0.53432626 {'add_thresholds_to_the_beginning': False, 'add_thresholds_to_the_end': False, 'existing_thresholds_range': [0.001, 0.6], 'difference_between_optimal_sens_and_spec': 0.0030664802, 'if_additional_resolution_for_optimal_threshold_is_needed': False, 'additional_resolution_range': [0.4751, 0.4757]}\n",
      "0.4942 0.5753164 0.57270545 {'add_thresholds_to_the_beginning': False, 'add_thresholds_to_the_end': False, 'existing_thresholds_range': [0.001, 0.6], 'difference_between_optimal_sens_and_spec': 0.0026109815, 'if_additional_resolution_for_optimal_threshold_is_needed': False, 'additional_resolution_range': [0.4939, 0.4945]}\n"
     ]
    },
    {
     "name": "stderr",
     "output_type": "stream",
     "text": [
      " 29%|███████████████████████████▏                                                                  | 73/252 [00:05<00:07, 23.27it/s]"
     ]
    },
    {
     "name": "stdout",
     "output_type": "stream",
     "text": [
      "0.4871 0.5682656 0.57280713 {'add_thresholds_to_the_beginning': False, 'add_thresholds_to_the_end': False, 'existing_thresholds_range': [0.001, 0.6], 'difference_between_optimal_sens_and_spec': 0.0045415163, 'if_additional_resolution_for_optimal_threshold_is_needed': False, 'additional_resolution_range': [0.4857, 0.4884]}\n",
      "0.4702 0.5519025 0.5507802 {'add_thresholds_to_the_beginning': False, 'add_thresholds_to_the_end': False, 'existing_thresholds_range': [0.001, 0.6], 'difference_between_optimal_sens_and_spec': 0.0011222959, 'if_additional_resolution_for_optimal_threshold_is_needed': False, 'additional_resolution_range': [0.4699, 0.4705]}\n"
     ]
    },
    {
     "name": "stderr",
     "output_type": "stream",
     "text": [
      " 30%|████████████████████████████▎                                                                 | 76/252 [00:06<00:19,  9.08it/s]"
     ]
    },
    {
     "name": "stdout",
     "output_type": "stream",
     "text": [
      "0.4756 0.57579046 0.5658989 {'add_thresholds_to_the_beginning': False, 'add_thresholds_to_the_end': False, 'existing_thresholds_range': [0.001, 0.6], 'difference_between_optimal_sens_and_spec': 0.00989157, 'if_additional_resolution_for_optimal_threshold_is_needed': False, 'additional_resolution_range': [0.4742, 0.4769]}\n",
      "0.4931 0.5703463 0.57195306 {'add_thresholds_to_the_beginning': False, 'add_thresholds_to_the_end': False, 'existing_thresholds_range': [0.001, 0.6], 'difference_between_optimal_sens_and_spec': 0.0016067624, 'if_additional_resolution_for_optimal_threshold_is_needed': False, 'additional_resolution_range': [0.4917, 0.4944]}\n",
      "0.4875 0.56282085 0.55924016 {'add_thresholds_to_the_beginning': False, 'add_thresholds_to_the_end': False, 'existing_thresholds_range': [0.001, 0.6], 'difference_between_optimal_sens_and_spec': 0.0035806894, 'if_additional_resolution_for_optimal_threshold_is_needed': False, 'additional_resolution_range': [0.4872, 0.4878]}\n",
      "0.479 0.5487878 0.5572532 {'add_thresholds_to_the_beginning': False, 'add_thresholds_to_the_end': False, 'existing_thresholds_range': [0.001, 0.6], 'difference_between_optimal_sens_and_spec': 0.008465409, 'if_additional_resolution_for_optimal_threshold_is_needed': False, 'additional_resolution_range': [0.4729, 0.485]}\n",
      "0.4487 0.69948095 0.6932757 {'add_thresholds_to_the_beginning': False, 'add_thresholds_to_the_end': False, 'existing_thresholds_range': [0.001, 0.6], 'difference_between_optimal_sens_and_spec': 0.0062052608, 'if_additional_resolution_for_optimal_threshold_is_needed': False, 'additional_resolution_range': [0.4427, 0.4548]}\n"
     ]
    },
    {
     "name": "stderr",
     "output_type": "stream",
     "text": [
      " 31%|█████████████████████████████▍                                                                | 79/252 [00:06<00:15, 10.95it/s]"
     ]
    },
    {
     "name": "stdout",
     "output_type": "stream",
     "text": [
      "0.4763 0.55047625 0.5526146 {'add_thresholds_to_the_beginning': False, 'add_thresholds_to_the_end': False, 'existing_thresholds_range': [0.001, 0.6], 'difference_between_optimal_sens_and_spec': 0.0021383762, 'if_additional_resolution_for_optimal_threshold_is_needed': False, 'additional_resolution_range': [0.476, 0.4766]}\n",
      "0.4741 0.5389193 0.53625786 {'add_thresholds_to_the_beginning': False, 'add_thresholds_to_the_end': False, 'existing_thresholds_range': [0.001, 0.6], 'difference_between_optimal_sens_and_spec': 0.0026614666, 'if_additional_resolution_for_optimal_threshold_is_needed': False, 'additional_resolution_range': [0.4738, 0.4743]}\n",
      "0.4923 0.5834496 0.58097464 {'add_thresholds_to_the_beginning': False, 'add_thresholds_to_the_end': False, 'existing_thresholds_range': [0.001, 0.6], 'difference_between_optimal_sens_and_spec': 0.0024749637, 'if_additional_resolution_for_optimal_threshold_is_needed': False, 'additional_resolution_range': [0.492, 0.4926]}\n"
     ]
    },
    {
     "name": "stderr",
     "output_type": "stream",
     "text": [
      " 33%|██████████████████████████████▌                                                               | 82/252 [00:07<00:24,  6.95it/s]"
     ]
    },
    {
     "name": "stdout",
     "output_type": "stream",
     "text": [
      "0.4866 0.5600983 0.5586698 {'add_thresholds_to_the_beginning': False, 'add_thresholds_to_the_end': False, 'existing_thresholds_range': [0.001, 0.6], 'difference_between_optimal_sens_and_spec': 0.0014284849, 'if_additional_resolution_for_optimal_threshold_is_needed': False, 'additional_resolution_range': [0.4863, 0.4869]}\n",
      "0.4783 0.55988145 0.56635267 {'add_thresholds_to_the_beginning': False, 'add_thresholds_to_the_end': False, 'existing_thresholds_range': [0.001, 0.6], 'difference_between_optimal_sens_and_spec': 0.0064712167, 'if_additional_resolution_for_optimal_threshold_is_needed': False, 'additional_resolution_range': [0.4769, 0.479]}\n"
     ]
    },
    {
     "name": "stderr",
     "output_type": "stream",
     "text": [
      " 34%|████████████████████████████████                                                              | 86/252 [00:08<00:33,  4.90it/s]"
     ]
    },
    {
     "name": "stdout",
     "output_type": "stream",
     "text": [
      "0.4769 0.5447026 0.5414309 {'add_thresholds_to_the_beginning': False, 'add_thresholds_to_the_end': False, 'existing_thresholds_range': [0.001, 0.6], 'difference_between_optimal_sens_and_spec': 0.003271699, 'if_additional_resolution_for_optimal_threshold_is_needed': False, 'additional_resolution_range': [0.4756, 0.4783]}\n",
      "0.4917 0.5771838 0.5683012 {'add_thresholds_to_the_beginning': False, 'add_thresholds_to_the_end': False, 'existing_thresholds_range': [0.001, 0.6], 'difference_between_optimal_sens_and_spec': 0.008882582, 'if_additional_resolution_for_optimal_threshold_is_needed': False, 'additional_resolution_range': [0.4911, 0.4931]}\n",
      "0.488 0.55712956 0.5619866 {'add_thresholds_to_the_beginning': False, 'add_thresholds_to_the_end': False, 'existing_thresholds_range': [0.001, 0.6], 'difference_between_optimal_sens_and_spec': 0.0048570633, 'if_additional_resolution_for_optimal_threshold_is_needed': False, 'additional_resolution_range': [0.4877, 0.4883]}\n"
     ]
    },
    {
     "name": "stderr",
     "output_type": "stream",
     "text": [
      " 36%|█████████████████████████████████▉                                                            | 91/252 [00:09<00:20,  7.97it/s]"
     ]
    },
    {
     "name": "stdout",
     "output_type": "stream",
     "text": [
      "0.4774 0.56707406 0.5700081 {'add_thresholds_to_the_beginning': False, 'add_thresholds_to_the_end': False, 'existing_thresholds_range': [0.001, 0.6], 'difference_between_optimal_sens_and_spec': 0.0029340386, 'if_additional_resolution_for_optimal_threshold_is_needed': False, 'additional_resolution_range': [0.4771, 0.4777]}\n",
      "0.4763 0.5571912 0.56503373 {'add_thresholds_to_the_beginning': False, 'add_thresholds_to_the_end': False, 'existing_thresholds_range': [0.001, 0.6], 'difference_between_optimal_sens_and_spec': 0.007842541, 'if_additional_resolution_for_optimal_threshold_is_needed': False, 'additional_resolution_range': [0.475, 0.4777]}\n",
      "0.4454 0.6971035 0.69356525 {'add_thresholds_to_the_beginning': False, 'add_thresholds_to_the_end': False, 'existing_thresholds_range': [0.001, 0.6], 'difference_between_optimal_sens_and_spec': 0.003538251, 'if_additional_resolution_for_optimal_threshold_is_needed': False, 'additional_resolution_range': [0.444, 0.4467]}\n",
      "0.4769 0.54436177 0.5410919 {'add_thresholds_to_the_beginning': False, 'add_thresholds_to_the_end': False, 'existing_thresholds_range': [0.001, 0.6], 'difference_between_optimal_sens_and_spec': 0.0032698512, 'if_additional_resolution_for_optimal_threshold_is_needed': False, 'additional_resolution_range': [0.4756, 0.4783]}\n",
      "0.489 0.58236027 0.5746992 {'add_thresholds_to_the_beginning': False, 'add_thresholds_to_the_end': False, 'existing_thresholds_range': [0.001, 0.6], 'difference_between_optimal_sens_and_spec': 0.0076610446, 'if_additional_resolution_for_optimal_threshold_is_needed': False, 'additional_resolution_range': [0.4877, 0.4904]}\n"
     ]
    },
    {
     "name": "stderr",
     "output_type": "stream",
     "text": [
      " 37%|██████████████████████████████████▋                                                           | 93/252 [00:09<00:18,  8.67it/s]"
     ]
    },
    {
     "name": "stdout",
     "output_type": "stream",
     "text": [
      "0.485 0.558767 0.5575033 {'add_thresholds_to_the_beginning': False, 'add_thresholds_to_the_end': False, 'existing_thresholds_range': [0.001, 0.6], 'difference_between_optimal_sens_and_spec': 0.0012637377, 'if_additional_resolution_for_optimal_threshold_is_needed': False, 'additional_resolution_range': [0.479, 0.4911]}\n",
      "0.4774 0.5548189 0.5549626 {'add_thresholds_to_the_beginning': False, 'add_thresholds_to_the_end': False, 'existing_thresholds_range': [0.001, 0.6], 'difference_between_optimal_sens_and_spec': 0.0001436472, 'if_additional_resolution_for_optimal_threshold_is_needed': False, 'additional_resolution_range': [0.4771, 0.4777]}\n",
      "0.4769 0.556671 0.56200457 {'add_thresholds_to_the_beginning': False, 'add_thresholds_to_the_end': False, 'existing_thresholds_range': [0.001, 0.6], 'difference_between_optimal_sens_and_spec': 0.005333543, 'if_additional_resolution_for_optimal_threshold_is_needed': False, 'additional_resolution_range': [0.4756, 0.4783]}\n",
      "0.4951 0.57041526 0.57985646 {'add_thresholds_to_the_beginning': False, 'add_thresholds_to_the_end': False, 'existing_thresholds_range': [0.001, 0.6], 'difference_between_optimal_sens_and_spec': 0.009441197, 'if_additional_resolution_for_optimal_threshold_is_needed': False, 'additional_resolution_range': [0.4938, 0.4965]}\n"
     ]
    },
    {
     "name": "stderr",
     "output_type": "stream",
     "text": [
      " 39%|████████████████████████████████████▉                                                         | 99/252 [00:09<00:11, 13.02it/s]"
     ]
    },
    {
     "name": "stdout",
     "output_type": "stream",
     "text": [
      "0.483 0.55526936 0.5534661 {'add_thresholds_to_the_beginning': False, 'add_thresholds_to_the_end': False, 'existing_thresholds_range': [0.001, 0.6], 'difference_between_optimal_sens_and_spec': 0.0018032789, 'if_additional_resolution_for_optimal_threshold_is_needed': False, 'additional_resolution_range': [0.4817, 0.4844]}\n",
      "0.4769 0.5541314 0.5604346 {'add_thresholds_to_the_beginning': False, 'add_thresholds_to_the_end': False, 'existing_thresholds_range': [0.001, 0.6], 'difference_between_optimal_sens_and_spec': 0.006303191, 'if_additional_resolution_for_optimal_threshold_is_needed': False, 'additional_resolution_range': [0.4756, 0.4783]}\n",
      "0.4774 0.5647136 0.5624457 {'add_thresholds_to_the_beginning': False, 'add_thresholds_to_the_end': False, 'existing_thresholds_range': [0.001, 0.6], 'difference_between_optimal_sens_and_spec': 0.0022678971, 'if_additional_resolution_for_optimal_threshold_is_needed': False, 'additional_resolution_range': [0.4771, 0.4777]}\n",
      "0.475 0.56563836 0.56355727 {'add_thresholds_to_the_beginning': False, 'add_thresholds_to_the_end': False, 'existing_thresholds_range': [0.001, 0.6], 'difference_between_optimal_sens_and_spec': 0.0020810962, 'if_additional_resolution_for_optimal_threshold_is_needed': False, 'additional_resolution_range': [0.4736, 0.4763]}\n",
      "0.4366 0.71850723 0.71497226 {'add_thresholds_to_the_beginning': False, 'add_thresholds_to_the_end': False, 'existing_thresholds_range': [0.001, 0.6], 'difference_between_optimal_sens_and_spec': 0.0035349727, 'if_additional_resolution_for_optimal_threshold_is_needed': False, 'additional_resolution_range': [0.4306, 0.4427]}\n"
     ]
    },
    {
     "name": "stderr",
     "output_type": "stream",
     "text": [
      " 40%|█████████████████████████████████████▋                                                       | 102/252 [00:09<00:09, 15.69it/s]"
     ]
    },
    {
     "name": "stdout",
     "output_type": "stream",
     "text": [
      "0.4924 0.58164245 0.58369887 {'add_thresholds_to_the_beginning': False, 'add_thresholds_to_the_end': False, 'existing_thresholds_range': [0.001, 0.6], 'difference_between_optimal_sens_and_spec': 0.0020564198, 'if_additional_resolution_for_optimal_threshold_is_needed': False, 'additional_resolution_range': [0.4922, 0.4927]}\n",
      "0.489 0.578355 0.58222455 {'add_thresholds_to_the_beginning': False, 'add_thresholds_to_the_end': False, 'existing_thresholds_range': [0.001, 0.6], 'difference_between_optimal_sens_and_spec': 0.0038695335, 'if_additional_resolution_for_optimal_threshold_is_needed': False, 'additional_resolution_range': [0.4877, 0.4904]}\n",
      "0.4736 0.56876284 0.5662874 {'add_thresholds_to_the_beginning': False, 'add_thresholds_to_the_end': False, 'existing_thresholds_range': [0.001, 0.6], 'difference_between_optimal_sens_and_spec': 0.0024754405, 'if_additional_resolution_for_optimal_threshold_is_needed': False, 'additional_resolution_range': [0.4729, 0.475]}\n",
      "0.479 0.5721571 0.5702728 {'add_thresholds_to_the_beginning': False, 'add_thresholds_to_the_end': False, 'existing_thresholds_range': [0.001, 0.6], 'difference_between_optimal_sens_and_spec': 0.0018842816, 'if_additional_resolution_for_optimal_threshold_is_needed': False, 'additional_resolution_range': [0.4729, 0.485]}\n"
     ]
    },
    {
     "name": "stderr",
     "output_type": "stream",
     "text": [
      " 43%|███████████████████████████████████████▊                                                     | 108/252 [00:09<00:08, 17.19it/s]"
     ]
    },
    {
     "name": "stdout",
     "output_type": "stream",
     "text": [
      "0.4944 0.5725744 0.571231 {'add_thresholds_to_the_beginning': False, 'add_thresholds_to_the_end': False, 'existing_thresholds_range': [0.001, 0.6], 'difference_between_optimal_sens_and_spec': 0.0013433695, 'if_additional_resolution_for_optimal_threshold_is_needed': False, 'additional_resolution_range': [0.4941, 0.4947]}\n",
      "0.4878 0.5525747 0.5555713 {'add_thresholds_to_the_beginning': False, 'add_thresholds_to_the_end': False, 'existing_thresholds_range': [0.001, 0.6], 'difference_between_optimal_sens_and_spec': 0.0029966235, 'if_additional_resolution_for_optimal_threshold_is_needed': False, 'additional_resolution_range': [0.4875, 0.4881]}\n",
      "0.479 0.55559254 0.563974 {'add_thresholds_to_the_beginning': False, 'add_thresholds_to_the_end': False, 'existing_thresholds_range': [0.001, 0.6], 'difference_between_optimal_sens_and_spec': 0.008381486, 'if_additional_resolution_for_optimal_threshold_is_needed': False, 'additional_resolution_range': [0.4729, 0.485]}\n",
      "0.4783 0.56293505 0.5660072 {'add_thresholds_to_the_beginning': False, 'add_thresholds_to_the_end': False, 'existing_thresholds_range': [0.001, 0.6], 'difference_between_optimal_sens_and_spec': 0.0030721426, 'if_additional_resolution_for_optimal_threshold_is_needed': False, 'additional_resolution_range': [0.4769, 0.479]}\n"
     ]
    },
    {
     "name": "stderr",
     "output_type": "stream",
     "text": [
      " 44%|████████████████████████████████████████▉                                                    | 111/252 [00:10<00:08, 16.87it/s]"
     ]
    },
    {
     "name": "stdout",
     "output_type": "stream",
     "text": [
      "0.476 0.538058 0.5369425 {'add_thresholds_to_the_beginning': False, 'add_thresholds_to_the_end': False, 'existing_thresholds_range': [0.001, 0.6], 'difference_between_optimal_sens_and_spec': 0.0011155009, 'if_additional_resolution_for_optimal_threshold_is_needed': False, 'additional_resolution_range': [0.4757, 0.4763]}\n",
      "0.4911 0.568071 0.56707925 {'add_thresholds_to_the_beginning': False, 'add_thresholds_to_the_end': False, 'existing_thresholds_range': [0.001, 0.6], 'difference_between_optimal_sens_and_spec': 0.0009917617, 'if_additional_resolution_for_optimal_threshold_is_needed': False, 'additional_resolution_range': [0.485, 0.4971]}\n",
      "0.4427 0.65284795 0.6479963 {'add_thresholds_to_the_beginning': False, 'add_thresholds_to_the_end': False, 'existing_thresholds_range': [0.001, 0.6], 'difference_between_optimal_sens_and_spec': 0.0048516393, 'if_additional_resolution_for_optimal_threshold_is_needed': False, 'additional_resolution_range': [0.4366, 0.4487]}\n",
      "0.4447 0.6818621 0.67948025 {'add_thresholds_to_the_beginning': False, 'add_thresholds_to_the_end': False, 'existing_thresholds_range': [0.001, 0.6], 'difference_between_optimal_sens_and_spec': 0.0023818612, 'if_additional_resolution_for_optimal_threshold_is_needed': False, 'additional_resolution_range': [0.4433, 0.446]}\n",
      "0.4884 0.5504672 0.55366015 {'add_thresholds_to_the_beginning': False, 'add_thresholds_to_the_end': False, 'existing_thresholds_range': [0.001, 0.6], 'difference_between_optimal_sens_and_spec': 0.0031929612, 'if_additional_resolution_for_optimal_threshold_is_needed': False, 'additional_resolution_range': [0.4871, 0.4898]}\n",
      "0.4723 0.57295734 0.57239723 {'add_thresholds_to_the_beginning': False, 'add_thresholds_to_the_end': False, 'existing_thresholds_range': [0.001, 0.6], 'difference_between_optimal_sens_and_spec': 0.00056010485, 'if_additional_resolution_for_optimal_threshold_is_needed': False, 'additional_resolution_range': [0.4709, 0.4729]}\n"
     ]
    },
    {
     "name": "stderr",
     "output_type": "stream",
     "text": [
      " 48%|████████████████████████████████████████████▎                                                | 120/252 [00:10<00:05, 22.20it/s]"
     ]
    },
    {
     "name": "stdout",
     "output_type": "stream",
     "text": [
      "0.4769 0.56379765 0.56893325 {'add_thresholds_to_the_beginning': False, 'add_thresholds_to_the_end': False, 'existing_thresholds_range': [0.001, 0.6], 'difference_between_optimal_sens_and_spec': 0.005135596, 'if_additional_resolution_for_optimal_threshold_is_needed': False, 'additional_resolution_range': [0.4756, 0.4783]}\n",
      "0.4911 0.59736633 0.5882753 {'add_thresholds_to_the_beginning': False, 'add_thresholds_to_the_end': False, 'existing_thresholds_range': [0.001, 0.6], 'difference_between_optimal_sens_and_spec': 0.00909102, 'if_additional_resolution_for_optimal_threshold_is_needed': False, 'additional_resolution_range': [0.485, 0.4971]}\n",
      "0.485 0.5507767 0.5549842 {'add_thresholds_to_the_beginning': False, 'add_thresholds_to_the_end': False, 'existing_thresholds_range': [0.001, 0.6], 'difference_between_optimal_sens_and_spec': 0.004207492, 'if_additional_resolution_for_optimal_threshold_is_needed': False, 'additional_resolution_range': [0.479, 0.4911]}\n",
      "0.4803 0.5695516 0.5715977 {'add_thresholds_to_the_beginning': False, 'add_thresholds_to_the_end': False, 'existing_thresholds_range': [0.001, 0.6], 'difference_between_optimal_sens_and_spec': 0.0020461082, 'if_additional_resolution_for_optimal_threshold_is_needed': False, 'additional_resolution_range': [0.4801, 0.4806]}\n",
      "0.4769 0.55100214 0.5490925 {'add_thresholds_to_the_beginning': False, 'add_thresholds_to_the_end': False, 'existing_thresholds_range': [0.001, 0.6], 'difference_between_optimal_sens_and_spec': 0.0019096732, 'if_additional_resolution_for_optimal_threshold_is_needed': False, 'additional_resolution_range': [0.4756, 0.4783]}\n",
      "0.4756 0.5440404 0.5400854 {'add_thresholds_to_the_beginning': False, 'add_thresholds_to_the_end': False, 'existing_thresholds_range': [0.001, 0.6], 'difference_between_optimal_sens_and_spec': 0.0039550066, 'if_additional_resolution_for_optimal_threshold_is_needed': False, 'additional_resolution_range': [0.4742, 0.4769]}\n"
     ]
    },
    {
     "name": "stderr",
     "output_type": "stream",
     "text": [
      " 49%|█████████████████████████████████████████████▍                                               | 123/252 [00:10<00:06, 21.37it/s]"
     ]
    },
    {
     "name": "stdout",
     "output_type": "stream",
     "text": [
      "0.4895 0.57485276 0.5737912 {'add_thresholds_to_the_beginning': False, 'add_thresholds_to_the_end': False, 'existing_thresholds_range': [0.001, 0.6], 'difference_between_optimal_sens_and_spec': 0.0010615587, 'if_additional_resolution_for_optimal_threshold_is_needed': False, 'additional_resolution_range': [0.4892, 0.4898]}\n",
      "0.4835 0.55008566 0.55313605 {'add_thresholds_to_the_beginning': False, 'add_thresholds_to_the_end': False, 'existing_thresholds_range': [0.001, 0.6], 'difference_between_optimal_sens_and_spec': 0.003050387, 'if_additional_resolution_for_optimal_threshold_is_needed': False, 'additional_resolution_range': [0.4832, 0.4838]}\n",
      "0.4508 0.721766 0.7188092 {'add_thresholds_to_the_beginning': False, 'add_thresholds_to_the_end': False, 'existing_thresholds_range': [0.001, 0.6], 'difference_between_optimal_sens_and_spec': 0.0029568076, 'if_additional_resolution_for_optimal_threshold_is_needed': False, 'additional_resolution_range': [0.4494, 0.4521]}\n",
      "0.475 0.559895 0.5615462 {'add_thresholds_to_the_beginning': False, 'add_thresholds_to_the_end': False, 'existing_thresholds_range': [0.001, 0.6], 'difference_between_optimal_sens_and_spec': 0.0016512275, 'if_additional_resolution_for_optimal_threshold_is_needed': False, 'additional_resolution_range': [0.4736, 0.4763]}\n"
     ]
    },
    {
     "name": "stderr",
     "output_type": "stream",
     "text": [
      " 50%|██████████████████████████████████████████████▌                                              | 126/252 [00:10<00:06, 18.49it/s]"
     ]
    },
    {
     "name": "stdout",
     "output_type": "stream",
     "text": [
      "0.4741 0.55873656 0.5570238 {'add_thresholds_to_the_beginning': False, 'add_thresholds_to_the_end': False, 'existing_thresholds_range': [0.001, 0.6], 'difference_between_optimal_sens_and_spec': 0.0017127395, 'if_additional_resolution_for_optimal_threshold_is_needed': False, 'additional_resolution_range': [0.4738, 0.4743]}\n",
      "0.4911 0.5816859 0.57312566 {'add_thresholds_to_the_beginning': False, 'add_thresholds_to_the_end': False, 'existing_thresholds_range': [0.001, 0.6], 'difference_between_optimal_sens_and_spec': 0.00856024, 'if_additional_resolution_for_optimal_threshold_is_needed': False, 'additional_resolution_range': [0.485, 0.4971]}\n",
      "0.485 0.53938645 0.5356384 {'add_thresholds_to_the_beginning': False, 'add_thresholds_to_the_end': False, 'existing_thresholds_range': [0.001, 0.6], 'difference_between_optimal_sens_and_spec': 0.0037480593, 'if_additional_resolution_for_optimal_threshold_is_needed': False, 'additional_resolution_range': [0.479, 0.4911]}\n",
      "0.475 0.5736578 0.57854736 {'add_thresholds_to_the_beginning': False, 'add_thresholds_to_the_end': False, 'existing_thresholds_range': [0.001, 0.6], 'difference_between_optimal_sens_and_spec': 0.004889548, 'if_additional_resolution_for_optimal_threshold_is_needed': False, 'additional_resolution_range': [0.4736, 0.4763]}\n",
      "0.4774 0.55254316 0.54999536 {'add_thresholds_to_the_beginning': False, 'add_thresholds_to_the_end': False, 'existing_thresholds_range': [0.001, 0.6], 'difference_between_optimal_sens_and_spec': 0.0025478005, 'if_additional_resolution_for_optimal_threshold_is_needed': False, 'additional_resolution_range': [0.4771, 0.4777]}\n"
     ]
    },
    {
     "name": "stderr",
     "output_type": "stream",
     "text": [
      " 52%|████████████████████████████████████████████████▋                                            | 132/252 [00:11<00:05, 21.19it/s]"
     ]
    },
    {
     "name": "stdout",
     "output_type": "stream",
     "text": [
      "0.4447 0.72399694 0.72414553 {'add_thresholds_to_the_beginning': False, 'add_thresholds_to_the_end': False, 'existing_thresholds_range': [0.001, 0.6], 'difference_between_optimal_sens_and_spec': 0.00014859438, 'if_additional_resolution_for_optimal_threshold_is_needed': False, 'additional_resolution_range': [0.4433, 0.446]}\n",
      "0.4467 0.6672239 0.66588753 {'add_thresholds_to_the_beginning': False, 'add_thresholds_to_the_end': False, 'existing_thresholds_range': [0.001, 0.6], 'difference_between_optimal_sens_and_spec': 0.0013363361, 'if_additional_resolution_for_optimal_threshold_is_needed': False, 'additional_resolution_range': [0.4454, 0.4481]}\n",
      "0.4487 0.7297733 0.7258035 {'add_thresholds_to_the_beginning': False, 'add_thresholds_to_the_end': False, 'existing_thresholds_range': [0.001, 0.6], 'difference_between_optimal_sens_and_spec': 0.0039697886, 'if_additional_resolution_for_optimal_threshold_is_needed': False, 'additional_resolution_range': [0.4427, 0.4548]}\n",
      "0.4568 0.7347099 0.73129046 {'add_thresholds_to_the_beginning': False, 'add_thresholds_to_the_end': False, 'existing_thresholds_range': [0.001, 0.6], 'difference_between_optimal_sens_and_spec': 0.0034194589, 'if_additional_resolution_for_optimal_threshold_is_needed': False, 'additional_resolution_range': [0.4554, 0.4581]}\n",
      "0.4568 0.70758677 0.7090867 {'add_thresholds_to_the_beginning': False, 'add_thresholds_to_the_end': False, 'existing_thresholds_range': [0.001, 0.6], 'difference_between_optimal_sens_and_spec': 0.0014999509, 'if_additional_resolution_for_optimal_threshold_is_needed': False, 'additional_resolution_range': [0.4554, 0.4581]}\n"
     ]
    },
    {
     "name": "stderr",
     "output_type": "stream",
     "text": [
      " 55%|██████████████████████████████████████████████████▉                                          | 138/252 [00:11<00:05, 19.08it/s]"
     ]
    },
    {
     "name": "stdout",
     "output_type": "stream",
     "text": [
      "0.4608 0.7231031 0.724773 {'add_thresholds_to_the_beginning': False, 'add_thresholds_to_the_end': False, 'existing_thresholds_range': [0.001, 0.6], 'difference_between_optimal_sens_and_spec': 0.0016698837, 'if_additional_resolution_for_optimal_threshold_is_needed': False, 'additional_resolution_range': [0.4548, 0.4669]}\n",
      "0.4366 0.6744387 0.67439944 {'add_thresholds_to_the_beginning': False, 'add_thresholds_to_the_end': False, 'existing_thresholds_range': [0.001, 0.6], 'difference_between_optimal_sens_and_spec': 3.927946e-05, 'if_additional_resolution_for_optimal_threshold_is_needed': False, 'additional_resolution_range': [0.4306, 0.4427]}\n",
      "0.4467 0.6903672 0.6918032 {'add_thresholds_to_the_beginning': False, 'add_thresholds_to_the_end': False, 'existing_thresholds_range': [0.001, 0.6], 'difference_between_optimal_sens_and_spec': 0.0014359951, 'if_additional_resolution_for_optimal_threshold_is_needed': False, 'additional_resolution_range': [0.4454, 0.4481]}\n",
      "0.4427 0.7092619 0.69971293 {'add_thresholds_to_the_beginning': False, 'add_thresholds_to_the_end': False, 'existing_thresholds_range': [0.001, 0.6], 'difference_between_optimal_sens_and_spec': 0.009548962, 'if_additional_resolution_for_optimal_threshold_is_needed': False, 'additional_resolution_range': [0.4366, 0.4487]}\n"
     ]
    },
    {
     "name": "stderr",
     "output_type": "stream",
     "text": [
      " 56%|███████████████████████████████████████████████████▋                                         | 140/252 [00:11<00:06, 16.79it/s]"
     ]
    },
    {
     "name": "stdout",
     "output_type": "stream",
     "text": [
      "0.4508 0.70725036 0.70550585 {'add_thresholds_to_the_beginning': False, 'add_thresholds_to_the_end': False, 'existing_thresholds_range': [0.001, 0.6], 'difference_between_optimal_sens_and_spec': 0.0017445087, 'if_additional_resolution_for_optimal_threshold_is_needed': False, 'additional_resolution_range': [0.4494, 0.4521]}\n",
      "0.3882 0.72112435 0.7305136 {'add_thresholds_to_the_beginning': False, 'add_thresholds_to_the_end': False, 'existing_thresholds_range': [0.001, 0.6], 'difference_between_optimal_sens_and_spec': 0.009389222, 'if_additional_resolution_for_optimal_threshold_is_needed': False, 'additional_resolution_range': [0.3822, 0.3943]}\n",
      "0.4608 0.7525334 0.7462723 {'add_thresholds_to_the_beginning': False, 'add_thresholds_to_the_end': False, 'existing_thresholds_range': [0.001, 0.6], 'difference_between_optimal_sens_and_spec': 0.0062610507, 'if_additional_resolution_for_optimal_threshold_is_needed': False, 'additional_resolution_range': [0.4548, 0.4669]}\n"
     ]
    },
    {
     "name": "stderr",
     "output_type": "stream",
     "text": [
      " 57%|█████████████████████████████████████████████████████▏                                       | 144/252 [00:11<00:07, 14.25it/s]"
     ]
    },
    {
     "name": "stdout",
     "output_type": "stream",
     "text": [
      "0.3882 0.71906084 0.7111179 {'add_thresholds_to_the_beginning': False, 'add_thresholds_to_the_end': False, 'existing_thresholds_range': [0.001, 0.6], 'difference_between_optimal_sens_and_spec': 0.007942915, 'if_additional_resolution_for_optimal_threshold_is_needed': False, 'additional_resolution_range': [0.3822, 0.3943]}\n",
      "0.3882 0.7315761 0.7252643 {'add_thresholds_to_the_beginning': False, 'add_thresholds_to_the_end': False, 'existing_thresholds_range': [0.001, 0.6], 'difference_between_optimal_sens_and_spec': 0.0063117743, 'if_additional_resolution_for_optimal_threshold_is_needed': False, 'additional_resolution_range': [0.3822, 0.3943]}\n",
      "0.3761 0.73583776 0.7396556 {'add_thresholds_to_the_beginning': False, 'add_thresholds_to_the_end': False, 'existing_thresholds_range': [0.001, 0.6], 'difference_between_optimal_sens_and_spec': 0.0038178563, 'if_additional_resolution_for_optimal_threshold_is_needed': False, 'additional_resolution_range': [0.3701, 0.3822]}\n"
     ]
    },
    {
     "name": "stderr",
     "output_type": "stream",
     "text": [
      " 59%|██████████████████████████████████████████████████████▉                                      | 149/252 [00:11<00:04, 20.73it/s]"
     ]
    },
    {
     "name": "stdout",
     "output_type": "stream",
     "text": [
      "0.4709 0.70556766 0.70918 {'add_thresholds_to_the_beginning': False, 'add_thresholds_to_the_end': False, 'existing_thresholds_range': [0.001, 0.6], 'difference_between_optimal_sens_and_spec': 0.0036123395, 'if_additional_resolution_for_optimal_threshold_is_needed': False, 'additional_resolution_range': [0.4696, 0.4723]}\n",
      "0.4729 0.7351954 0.73558694 {'add_thresholds_to_the_beginning': False, 'add_thresholds_to_the_end': False, 'existing_thresholds_range': [0.001, 0.6], 'difference_between_optimal_sens_and_spec': 0.0003915429, 'if_additional_resolution_for_optimal_threshold_is_needed': False, 'additional_resolution_range': [0.4669, 0.479]}\n",
      "0.3882 0.7225384 0.72525805 {'add_thresholds_to_the_beginning': False, 'add_thresholds_to_the_end': False, 'existing_thresholds_range': [0.001, 0.6], 'difference_between_optimal_sens_and_spec': 0.0027196407, 'if_additional_resolution_for_optimal_threshold_is_needed': False, 'additional_resolution_range': [0.3822, 0.3943]}\n",
      "0.3761 0.71380395 0.706153 {'add_thresholds_to_the_beginning': False, 'add_thresholds_to_the_end': False, 'existing_thresholds_range': [0.001, 0.6], 'difference_between_optimal_sens_and_spec': 0.0076509714, 'if_additional_resolution_for_optimal_threshold_is_needed': False, 'additional_resolution_range': [0.3701, 0.3822]}\n",
      "0.3822 0.7165536 0.7187836 {'add_thresholds_to_the_beginning': False, 'add_thresholds_to_the_end': False, 'existing_thresholds_range': [0.001, 0.6], 'difference_between_optimal_sens_and_spec': 0.0022299886, 'if_additional_resolution_for_optimal_threshold_is_needed': False, 'additional_resolution_range': [0.3761, 0.3882]}\n",
      "0.5025 0.5087699 0.51161957 {'add_thresholds_to_the_beginning': False, 'add_thresholds_to_the_end': False, 'existing_thresholds_range': [0.001, 0.6], 'difference_between_optimal_sens_and_spec': 0.0028496385, 'if_additional_resolution_for_optimal_threshold_is_needed': False, 'additional_resolution_range': [0.5011, 0.5032]}\n",
      "0.4472 0.5117329 0.5117432 {'add_thresholds_to_the_beginning': False, 'add_thresholds_to_the_end': False, 'existing_thresholds_range': [0.001, 0.6], 'difference_between_optimal_sens_and_spec': 1.0311604e-05, 'if_additional_resolution_for_optimal_threshold_is_needed': False, 'additional_resolution_range': [0.4469, 0.4475]}\n",
      "0.5052 0.52054775 0.52340335 {'add_thresholds_to_the_beginning': False, 'add_thresholds_to_the_end': False, 'existing_thresholds_range': [0.001, 0.6], 'difference_between_optimal_sens_and_spec': 0.002855599, 'if_additional_resolution_for_optimal_threshold_is_needed': False, 'additional_resolution_range': [0.5038, 0.5065]}\n",
      "0.5052 0.54420996 0.5500558 {'add_thresholds_to_the_beginning': False, 'add_thresholds_to_the_end': False, 'existing_thresholds_range': [0.001, 0.6], 'difference_between_optimal_sens_and_spec': 0.0058458447, 'if_additional_resolution_for_optimal_threshold_is_needed': False, 'additional_resolution_range': [0.5038, 0.5065]}\n"
     ]
    },
    {
     "name": "stderr",
     "output_type": "stream",
     "text": [
      " 62%|█████████████████████████████████████████████████████████▌                                   | 156/252 [00:12<00:04, 21.00it/s]"
     ]
    },
    {
     "name": "stdout",
     "output_type": "stream",
     "text": [
      "0.5011 0.5348896 0.5322199 {'add_thresholds_to_the_beginning': False, 'add_thresholds_to_the_end': False, 'existing_thresholds_range': [0.001, 0.6], 'difference_between_optimal_sens_and_spec': 0.002669692, 'if_additional_resolution_for_optimal_threshold_is_needed': False, 'additional_resolution_range': [0.4998, 0.5025]}\n",
      "0.4339 0.49211866 0.49868768 {'add_thresholds_to_the_beginning': False, 'add_thresholds_to_the_end': False, 'existing_thresholds_range': [0.001, 0.6], 'difference_between_optimal_sens_and_spec': 0.006569028, 'if_additional_resolution_for_optimal_threshold_is_needed': False, 'additional_resolution_range': [0.4326, 0.4353]}\n",
      "0.4285 0.6576456 0.65780246 {'add_thresholds_to_the_beginning': False, 'add_thresholds_to_the_end': False, 'existing_thresholds_range': [0.001, 0.6], 'difference_between_optimal_sens_and_spec': 0.00015687943, 'if_additional_resolution_for_optimal_threshold_is_needed': False, 'additional_resolution_range': [0.4272, 0.4299]}\n",
      "0.5186 0.5037107 0.5070116 {'add_thresholds_to_the_beginning': False, 'add_thresholds_to_the_end': False, 'existing_thresholds_range': [0.001, 0.6], 'difference_between_optimal_sens_and_spec': 0.0033009052, 'if_additional_resolution_for_optimal_threshold_is_needed': False, 'additional_resolution_range': [0.5173, 0.52]}\n",
      "0.5092 0.5379315 0.53045696 {'add_thresholds_to_the_beginning': False, 'add_thresholds_to_the_end': False, 'existing_thresholds_range': [0.001, 0.6], 'difference_between_optimal_sens_and_spec': 0.0074745417, 'if_additional_resolution_for_optimal_threshold_is_needed': False, 'additional_resolution_range': [0.5032, 0.5153]}\n"
     ]
    },
    {
     "name": "stderr",
     "output_type": "stream",
     "text": [
      " 64%|███████████████████████████████████████████████████████████▊                                 | 162/252 [00:12<00:04, 20.49it/s]"
     ]
    },
    {
     "name": "stdout",
     "output_type": "stream",
     "text": [
      "0.5066 0.5029779 0.50607497 {'add_thresholds_to_the_beginning': False, 'add_thresholds_to_the_end': False, 'existing_thresholds_range': [0.001, 0.6], 'difference_between_optimal_sens_and_spec': 0.0030970573, 'if_additional_resolution_for_optimal_threshold_is_needed': False, 'additional_resolution_range': [0.5063, 0.5069]}\n",
      "0.4736 0.54221576 0.5410086 {'add_thresholds_to_the_beginning': False, 'add_thresholds_to_the_end': False, 'existing_thresholds_range': [0.001, 0.6], 'difference_between_optimal_sens_and_spec': 0.0012071729, 'if_additional_resolution_for_optimal_threshold_is_needed': False, 'additional_resolution_range': [0.4729, 0.475]}\n",
      "0.4951 0.5742145 0.5676101 {'add_thresholds_to_the_beginning': False, 'add_thresholds_to_the_end': False, 'existing_thresholds_range': [0.001, 0.6], 'difference_between_optimal_sens_and_spec': 0.006604433, 'if_additional_resolution_for_optimal_threshold_is_needed': False, 'additional_resolution_range': [0.4938, 0.4965]}\n",
      "0.4897 0.5647331 0.56277233 {'add_thresholds_to_the_beginning': False, 'add_thresholds_to_the_end': False, 'existing_thresholds_range': [0.001, 0.6], 'difference_between_optimal_sens_and_spec': 0.0019607544, 'if_additional_resolution_for_optimal_threshold_is_needed': False, 'additional_resolution_range': [0.4895, 0.4899]}\n"
     ]
    },
    {
     "name": "stderr",
     "output_type": "stream",
     "text": [
      " 65%|████████████████████████████████████████████████████████████▉                                | 165/252 [00:12<00:04, 19.23it/s]"
     ]
    },
    {
     "name": "stdout",
     "output_type": "stream",
     "text": [
      "0.4736 0.5553503 0.56101876 {'add_thresholds_to_the_beginning': False, 'add_thresholds_to_the_end': False, 'existing_thresholds_range': [0.001, 0.6], 'difference_between_optimal_sens_and_spec': 0.0056684613, 'if_additional_resolution_for_optimal_threshold_is_needed': False, 'additional_resolution_range': [0.4729, 0.475]}\n",
      "0.4716 0.56521606 0.56478554 {'add_thresholds_to_the_beginning': False, 'add_thresholds_to_the_end': False, 'existing_thresholds_range': [0.001, 0.6], 'difference_between_optimal_sens_and_spec': 0.00043052435, 'if_additional_resolution_for_optimal_threshold_is_needed': False, 'additional_resolution_range': [0.4713, 0.4718]}\n",
      "0.4931 0.5477294 0.5491948 {'add_thresholds_to_the_beginning': False, 'add_thresholds_to_the_end': False, 'existing_thresholds_range': [0.001, 0.6], 'difference_between_optimal_sens_and_spec': 0.0014654398, 'if_additional_resolution_for_optimal_threshold_is_needed': False, 'additional_resolution_range': [0.4917, 0.4944]}\n",
      "0.489 0.5784676 0.58663654 {'add_thresholds_to_the_beginning': False, 'add_thresholds_to_the_end': False, 'existing_thresholds_range': [0.001, 0.6], 'difference_between_optimal_sens_and_spec': 0.008168936, 'if_additional_resolution_for_optimal_threshold_is_needed': False, 'additional_resolution_range': [0.4877, 0.4904]}\n",
      "0.4548 0.71311855 0.7146185 {'add_thresholds_to_the_beginning': False, 'add_thresholds_to_the_end': False, 'existing_thresholds_range': [0.001, 0.6], 'difference_between_optimal_sens_and_spec': 0.0014999509, 'if_additional_resolution_for_optimal_threshold_is_needed': False, 'additional_resolution_range': [0.4487, 0.4608]}\n",
      "0.4729 0.5697939 0.5604651 {'add_thresholds_to_the_beginning': False, 'add_thresholds_to_the_end': False, 'existing_thresholds_range': [0.001, 0.6], 'difference_between_optimal_sens_and_spec': 0.009328783, 'if_additional_resolution_for_optimal_threshold_is_needed': False, 'additional_resolution_range': [0.4669, 0.479]}\n"
     ]
    },
    {
     "name": "stderr",
     "output_type": "stream",
     "text": [
      " 69%|███████████████████████████████████████████████████████████████▊                             | 173/252 [00:12<00:03, 25.76it/s]"
     ]
    },
    {
     "name": "stdout",
     "output_type": "stream",
     "text": [
      "0.4778 0.55450064 0.55559516 {'add_thresholds_to_the_beginning': False, 'add_thresholds_to_the_end': False, 'existing_thresholds_range': [0.001, 0.6], 'difference_between_optimal_sens_and_spec': 0.0010945201, 'if_additional_resolution_for_optimal_threshold_is_needed': False, 'additional_resolution_range': [0.4776, 0.4781]}\n",
      "0.4548 0.6967388 0.7034135 {'add_thresholds_to_the_beginning': False, 'add_thresholds_to_the_end': False, 'existing_thresholds_range': [0.001, 0.6], 'difference_between_optimal_sens_and_spec': 0.006674707, 'if_additional_resolution_for_optimal_threshold_is_needed': False, 'additional_resolution_range': [0.4487, 0.4608]}\n",
      "0.4581 0.7162569 0.7185248 {'add_thresholds_to_the_beginning': False, 'add_thresholds_to_the_end': False, 'existing_thresholds_range': [0.001, 0.6], 'difference_between_optimal_sens_and_spec': 0.0022678971, 'if_additional_resolution_for_optimal_threshold_is_needed': False, 'additional_resolution_range': [0.4568, 0.4595]}\n",
      "0.4427 0.7285037 0.7367363 {'add_thresholds_to_the_beginning': False, 'add_thresholds_to_the_end': False, 'existing_thresholds_range': [0.001, 0.6], 'difference_between_optimal_sens_and_spec': 0.008232594, 'if_additional_resolution_for_optimal_threshold_is_needed': False, 'additional_resolution_range': [0.4366, 0.4487]}\n",
      "0.4427 0.6862979 0.6878906 {'add_thresholds_to_the_beginning': False, 'add_thresholds_to_the_end': False, 'existing_thresholds_range': [0.001, 0.6], 'difference_between_optimal_sens_and_spec': 0.0015926957, 'if_additional_resolution_for_optimal_threshold_is_needed': False, 'additional_resolution_range': [0.4366, 0.4487]}\n",
      "0.4447 0.7183458 0.715921 {'add_thresholds_to_the_beginning': False, 'add_thresholds_to_the_end': False, 'existing_thresholds_range': [0.001, 0.6], 'difference_between_optimal_sens_and_spec': 0.0024248362, 'if_additional_resolution_for_optimal_threshold_is_needed': False, 'additional_resolution_range': [0.4433, 0.446]}\n"
     ]
    },
    {
     "name": "stderr",
     "output_type": "stream",
     "text": [
      " 71%|██████████████████████████████████████████████████████████████████                           | 179/252 [00:14<00:09,  7.93it/s]"
     ]
    },
    {
     "name": "stdout",
     "output_type": "stream",
     "text": [
      "0.4548 0.6952328 0.6865438 {'add_thresholds_to_the_beginning': False, 'add_thresholds_to_the_end': False, 'existing_thresholds_range': [0.001, 0.6], 'difference_between_optimal_sens_and_spec': 0.008688986, 'if_additional_resolution_for_optimal_threshold_is_needed': False, 'additional_resolution_range': [0.4487, 0.4608]}\n",
      "0.4548 0.7290497 0.72290236 {'add_thresholds_to_the_beginning': False, 'add_thresholds_to_the_end': False, 'existing_thresholds_range': [0.001, 0.6], 'difference_between_optimal_sens_and_spec': 0.006147325, 'if_additional_resolution_for_optimal_threshold_is_needed': False, 'additional_resolution_range': [0.4487, 0.4608]}\n",
      "0.4629 0.72490937 0.72543585 {'add_thresholds_to_the_beginning': False, 'add_thresholds_to_the_end': False, 'existing_thresholds_range': [0.001, 0.6], 'difference_between_optimal_sens_and_spec': 0.0005264878, 'if_additional_resolution_for_optimal_threshold_is_needed': False, 'additional_resolution_range': [0.4615, 0.4642]}\n",
      "0.4366 0.67137027 0.680055 {'add_thresholds_to_the_beginning': False, 'add_thresholds_to_the_end': False, 'existing_thresholds_range': [0.001, 0.6], 'difference_between_optimal_sens_and_spec': 0.008684754, 'if_additional_resolution_for_optimal_threshold_is_needed': False, 'additional_resolution_range': [0.4306, 0.4427]}\n",
      "0.4487 0.68213373 0.6870337 {'add_thresholds_to_the_beginning': False, 'add_thresholds_to_the_end': False, 'existing_thresholds_range': [0.001, 0.6], 'difference_between_optimal_sens_and_spec': 0.0048999786, 'if_additional_resolution_for_optimal_threshold_is_needed': False, 'additional_resolution_range': [0.4427, 0.4548]}\n"
     ]
    },
    {
     "name": "stderr",
     "output_type": "stream",
     "text": [
      " 73%|████████████████████████████████████████████████████████████████████▎                        | 185/252 [00:14<00:05, 12.09it/s]"
     ]
    },
    {
     "name": "stdout",
     "output_type": "stream",
     "text": [
      "0.4447 0.70901644 0.70654076 {'add_thresholds_to_the_beginning': False, 'add_thresholds_to_the_end': False, 'existing_thresholds_range': [0.001, 0.6], 'difference_between_optimal_sens_and_spec': 0.002475679, 'if_additional_resolution_for_optimal_threshold_is_needed': False, 'additional_resolution_range': [0.4433, 0.446]}\n",
      "0.4514 0.7174877 0.71458393 {'add_thresholds_to_the_beginning': False, 'add_thresholds_to_the_end': False, 'existing_thresholds_range': [0.001, 0.6], 'difference_between_optimal_sens_and_spec': 0.0029037595, 'if_additional_resolution_for_optimal_threshold_is_needed': False, 'additional_resolution_range': [0.45, 0.4527]}\n",
      "0.4427 0.70084924 0.69833 {'add_thresholds_to_the_beginning': False, 'add_thresholds_to_the_end': False, 'existing_thresholds_range': [0.001, 0.6], 'difference_between_optimal_sens_and_spec': 0.00251925, 'if_additional_resolution_for_optimal_threshold_is_needed': False, 'additional_resolution_range': [0.4366, 0.4487]}\n",
      "0.4366 0.6593261 0.6672257 {'add_thresholds_to_the_beginning': False, 'add_thresholds_to_the_end': False, 'existing_thresholds_range': [0.001, 0.6], 'difference_between_optimal_sens_and_spec': 0.007899642, 'if_additional_resolution_for_optimal_threshold_is_needed': False, 'additional_resolution_range': [0.4306, 0.4427]}\n",
      "0.4508 0.7182957 0.7155995 {'add_thresholds_to_the_beginning': False, 'add_thresholds_to_the_end': False, 'existing_thresholds_range': [0.001, 0.6], 'difference_between_optimal_sens_and_spec': 0.002696216, 'if_additional_resolution_for_optimal_threshold_is_needed': False, 'additional_resolution_range': [0.4494, 0.4521]}\n",
      "0.4548 0.7203949 0.7219514 {'add_thresholds_to_the_beginning': False, 'add_thresholds_to_the_end': False, 'existing_thresholds_range': [0.001, 0.6], 'difference_between_optimal_sens_and_spec': 0.0015565157, 'if_additional_resolution_for_optimal_threshold_is_needed': False, 'additional_resolution_range': [0.4487, 0.4608]}\n"
     ]
    },
    {
     "name": "stderr",
     "output_type": "stream",
     "text": [
      " 76%|██████████████████████████████████████████████████████████████████████▊                      | 192/252 [00:15<00:03, 18.11it/s]"
     ]
    },
    {
     "name": "stdout",
     "output_type": "stream",
     "text": [
      "0.4568 0.71329063 0.71406806 {'add_thresholds_to_the_beginning': False, 'add_thresholds_to_the_end': False, 'existing_thresholds_range': [0.001, 0.6], 'difference_between_optimal_sens_and_spec': 0.0007774234, 'if_additional_resolution_for_optimal_threshold_is_needed': False, 'additional_resolution_range': [0.4554, 0.4581]}\n",
      "0.4629 0.71847636 0.7168847 {'add_thresholds_to_the_beginning': False, 'add_thresholds_to_the_end': False, 'existing_thresholds_range': [0.001, 0.6], 'difference_between_optimal_sens_and_spec': 0.0015916824, 'if_additional_resolution_for_optimal_threshold_is_needed': False, 'additional_resolution_range': [0.4615, 0.4642]}\n",
      "0.4306 0.6436872 0.64017665 {'add_thresholds_to_the_beginning': False, 'add_thresholds_to_the_end': False, 'existing_thresholds_range': [0.001, 0.6], 'difference_between_optimal_sens_and_spec': 0.0035105348, 'if_additional_resolution_for_optimal_threshold_is_needed': False, 'additional_resolution_range': [0.4245, 0.4366]}\n",
      "0.4487 0.7144016 0.70485103 {'add_thresholds_to_the_beginning': False, 'add_thresholds_to_the_end': False, 'existing_thresholds_range': [0.001, 0.6], 'difference_between_optimal_sens_and_spec': 0.009550571, 'if_additional_resolution_for_optimal_threshold_is_needed': False, 'additional_resolution_range': [0.4427, 0.4548]}\n",
      "0.4508 0.70033497 0.70171225 {'add_thresholds_to_the_beginning': False, 'add_thresholds_to_the_end': False, 'existing_thresholds_range': [0.001, 0.6], 'difference_between_optimal_sens_and_spec': 0.0013772845, 'if_additional_resolution_for_optimal_threshold_is_needed': False, 'additional_resolution_range': [0.4494, 0.4521]}\n",
      "0.4508 0.694925 0.69817877 {'add_thresholds_to_the_beginning': False, 'add_thresholds_to_the_end': False, 'existing_thresholds_range': [0.001, 0.6], 'difference_between_optimal_sens_and_spec': 0.003253758, 'if_additional_resolution_for_optimal_threshold_is_needed': False, 'additional_resolution_range': [0.4494, 0.4521]}\n",
      "0.4366 0.6885997 0.6853076 {'add_thresholds_to_the_beginning': False, 'add_thresholds_to_the_end': False, 'existing_thresholds_range': [0.001, 0.6], 'difference_between_optimal_sens_and_spec': 0.0032920837, 'if_additional_resolution_for_optimal_threshold_is_needed': False, 'additional_resolution_range': [0.4306, 0.4427]}\n",
      "0.4366 0.6808248 0.67619556 {'add_thresholds_to_the_beginning': False, 'add_thresholds_to_the_end': False, 'existing_thresholds_range': [0.001, 0.6], 'difference_between_optimal_sens_and_spec': 0.0046292543, 'if_additional_resolution_for_optimal_threshold_is_needed': False, 'additional_resolution_range': [0.4306, 0.4427]}\n"
     ]
    },
    {
     "name": "stderr",
     "output_type": "stream",
     "text": [
      " 77%|███████████████████████████████████████████████████████████████████████▉                     | 195/252 [00:15<00:03, 18.27it/s]"
     ]
    },
    {
     "name": "stdout",
     "output_type": "stream",
     "text": [
      "0.4447 0.67405105 0.6735444 {'add_thresholds_to_the_beginning': False, 'add_thresholds_to_the_end': False, 'existing_thresholds_range': [0.001, 0.6], 'difference_between_optimal_sens_and_spec': 0.0005066395, 'if_additional_resolution_for_optimal_threshold_is_needed': False, 'additional_resolution_range': [0.4433, 0.446]}\n",
      "0.4568 0.69820726 0.6968935 {'add_thresholds_to_the_beginning': False, 'add_thresholds_to_the_end': False, 'existing_thresholds_range': [0.001, 0.6], 'difference_between_optimal_sens_and_spec': 0.001313746, 'if_additional_resolution_for_optimal_threshold_is_needed': False, 'additional_resolution_range': [0.4554, 0.4581]}\n",
      "0.4608 0.6990028 0.69782 {'add_thresholds_to_the_beginning': False, 'add_thresholds_to_the_end': False, 'existing_thresholds_range': [0.001, 0.6], 'difference_between_optimal_sens_and_spec': 0.0011827946, 'if_additional_resolution_for_optimal_threshold_is_needed': False, 'additional_resolution_range': [0.4548, 0.4669]}\n"
     ]
    },
    {
     "name": "stderr",
     "output_type": "stream",
     "text": [
      " 80%|██████████████████████████████████████████████████████████████████████████▏                  | 201/252 [00:15<00:02, 18.09it/s]"
     ]
    },
    {
     "name": "stdout",
     "output_type": "stream",
     "text": [
      "0.4669 0.72958547 0.720642 {'add_thresholds_to_the_beginning': False, 'add_thresholds_to_the_end': False, 'existing_thresholds_range': [0.001, 0.6], 'difference_between_optimal_sens_and_spec': 0.008943498, 'if_additional_resolution_for_optimal_threshold_is_needed': False, 'additional_resolution_range': [0.4608, 0.4729]}\n",
      "0.4346 0.6707709 0.664784 {'add_thresholds_to_the_beginning': False, 'add_thresholds_to_the_end': False, 'existing_thresholds_range': [0.001, 0.6], 'difference_between_optimal_sens_and_spec': 0.0059868693, 'if_additional_resolution_for_optimal_threshold_is_needed': False, 'additional_resolution_range': [0.4333, 0.436]}\n",
      "0.4568 0.6777176 0.6771503 {'add_thresholds_to_the_beginning': False, 'add_thresholds_to_the_end': False, 'existing_thresholds_range': [0.001, 0.6], 'difference_between_optimal_sens_and_spec': 0.000567317, 'if_additional_resolution_for_optimal_threshold_is_needed': False, 'additional_resolution_range': [0.4554, 0.4581]}\n",
      "0.4588 0.6980709 0.69838464 {'add_thresholds_to_the_beginning': False, 'add_thresholds_to_the_end': False, 'existing_thresholds_range': [0.001, 0.6], 'difference_between_optimal_sens_and_spec': 0.00031375885, 'if_additional_resolution_for_optimal_threshold_is_needed': False, 'additional_resolution_range': [0.4575, 0.4602]}\n",
      "0.4487 0.68421525 0.6834063 {'add_thresholds_to_the_beginning': False, 'add_thresholds_to_the_end': False, 'existing_thresholds_range': [0.001, 0.6], 'difference_between_optimal_sens_and_spec': 0.00080895424, 'if_additional_resolution_for_optimal_threshold_is_needed': False, 'additional_resolution_range': [0.4427, 0.4548]}\n"
     ]
    },
    {
     "name": "stderr",
     "output_type": "stream",
     "text": [
      " 82%|████████████████████████████████████████████████████████████████████████████                 | 206/252 [00:15<00:01, 24.04it/s]"
     ]
    },
    {
     "name": "stdout",
     "output_type": "stream",
     "text": [
      "0.3822 0.7126759 0.72178644 {'add_thresholds_to_the_beginning': False, 'add_thresholds_to_the_end': False, 'existing_thresholds_range': [0.001, 0.6], 'difference_between_optimal_sens_and_spec': 0.00911051, 'if_additional_resolution_for_optimal_threshold_is_needed': False, 'additional_resolution_range': [0.3761, 0.3882]}\n",
      "0.485 0.7416906 0.75052583 {'add_thresholds_to_the_beginning': False, 'add_thresholds_to_the_end': False, 'existing_thresholds_range': [0.001, 0.6], 'difference_between_optimal_sens_and_spec': 0.008835256, 'if_additional_resolution_for_optimal_threshold_is_needed': False, 'additional_resolution_range': [0.479, 0.4911]}\n",
      "0.3882 0.7054586 0.7132146 {'add_thresholds_to_the_beginning': False, 'add_thresholds_to_the_end': False, 'existing_thresholds_range': [0.001, 0.6], 'difference_between_optimal_sens_and_spec': 0.007755995, 'if_additional_resolution_for_optimal_threshold_is_needed': False, 'additional_resolution_range': [0.3822, 0.3943]}\n",
      "0.3943 0.7243171 0.7316201 {'add_thresholds_to_the_beginning': False, 'add_thresholds_to_the_end': False, 'existing_thresholds_range': [0.001, 0.6], 'difference_between_optimal_sens_and_spec': 0.0073029995, 'if_additional_resolution_for_optimal_threshold_is_needed': False, 'additional_resolution_range': [0.3882, 0.4003]}\n",
      "0.3822 0.6962507 0.7026996 {'add_thresholds_to_the_beginning': False, 'add_thresholds_to_the_end': False, 'existing_thresholds_range': [0.001, 0.6], 'difference_between_optimal_sens_and_spec': 0.0064489245, 'if_additional_resolution_for_optimal_threshold_is_needed': False, 'additional_resolution_range': [0.3761, 0.3882]}\n",
      "0.479 0.7469572 0.73947674 {'add_thresholds_to_the_beginning': False, 'add_thresholds_to_the_end': False, 'existing_thresholds_range': [0.001, 0.6], 'difference_between_optimal_sens_and_spec': 0.0074804425, 'if_additional_resolution_for_optimal_threshold_is_needed': False, 'additional_resolution_range': [0.4729, 0.485]}\n",
      "0.4266 0.68560386 0.68167716 {'add_thresholds_to_the_beginning': False, 'add_thresholds_to_the_end': False, 'existing_thresholds_range': [0.001, 0.6], 'difference_between_optimal_sens_and_spec': 0.0039266944, 'if_additional_resolution_for_optimal_threshold_is_needed': False, 'additional_resolution_range': [0.4252, 0.4279]}\n",
      "0.4003 0.70371276 0.7132109 {'add_thresholds_to_the_beginning': False, 'add_thresholds_to_the_end': False, 'existing_thresholds_range': [0.001, 0.6], 'difference_between_optimal_sens_and_spec': 0.009498119, 'if_additional_resolution_for_optimal_threshold_is_needed': False, 'additional_resolution_range': [0.3943, 0.4064]}\n"
     ]
    },
    {
     "name": "stderr",
     "output_type": "stream",
     "text": [
      " 85%|██████████████████████████████████████████████████████████████████████████████▌              | 213/252 [00:15<00:01, 25.63it/s]"
     ]
    },
    {
     "name": "stdout",
     "output_type": "stream",
     "text": [
      "0.3882 0.7012629 0.70235294 {'add_thresholds_to_the_beginning': False, 'add_thresholds_to_the_end': False, 'existing_thresholds_range': [0.001, 0.6], 'difference_between_optimal_sens_and_spec': 0.0010900497, 'if_additional_resolution_for_optimal_threshold_is_needed': False, 'additional_resolution_range': [0.3822, 0.3943]}\n",
      "0.3761 0.73123735 0.7294355 {'add_thresholds_to_the_beginning': False, 'add_thresholds_to_the_end': False, 'existing_thresholds_range': [0.001, 0.6], 'difference_between_optimal_sens_and_spec': 0.0018018484, 'if_additional_resolution_for_optimal_threshold_is_needed': False, 'additional_resolution_range': [0.3701, 0.3822]}\n",
      "0.3882 0.7175195 0.725372 {'add_thresholds_to_the_beginning': False, 'add_thresholds_to_the_end': False, 'existing_thresholds_range': [0.001, 0.6], 'difference_between_optimal_sens_and_spec': 0.007852495, 'if_additional_resolution_for_optimal_threshold_is_needed': False, 'additional_resolution_range': [0.3822, 0.3943]}\n",
      "0.479 0.75003195 0.7514524 {'add_thresholds_to_the_beginning': False, 'add_thresholds_to_the_end': False, 'existing_thresholds_range': [0.001, 0.6], 'difference_between_optimal_sens_and_spec': 0.0014204383, 'if_additional_resolution_for_optimal_threshold_is_needed': False, 'additional_resolution_range': [0.4729, 0.485]}\n",
      "0.3943 0.7349303 0.7280965 {'add_thresholds_to_the_beginning': False, 'add_thresholds_to_the_end': False, 'existing_thresholds_range': [0.001, 0.6], 'difference_between_optimal_sens_and_spec': 0.0068337917, 'if_additional_resolution_for_optimal_threshold_is_needed': False, 'additional_resolution_range': [0.3882, 0.4003]}\n",
      "0.3943 0.7079589 0.71787465 {'add_thresholds_to_the_beginning': False, 'add_thresholds_to_the_end': False, 'existing_thresholds_range': [0.001, 0.6], 'difference_between_optimal_sens_and_spec': 0.009915769, 'if_additional_resolution_for_optimal_threshold_is_needed': False, 'additional_resolution_range': [0.3882, 0.4003]}\n",
      "0.3822 0.7155826 0.71686184 {'add_thresholds_to_the_beginning': False, 'add_thresholds_to_the_end': False, 'existing_thresholds_range': [0.001, 0.6], 'difference_between_optimal_sens_and_spec': 0.0012792349, 'if_additional_resolution_for_optimal_threshold_is_needed': False, 'additional_resolution_range': [0.3761, 0.3882]}\n",
      "0.4729 0.73330677 0.7390925 {'add_thresholds_to_the_beginning': False, 'add_thresholds_to_the_end': False, 'existing_thresholds_range': [0.001, 0.6], 'difference_between_optimal_sens_and_spec': 0.0057857633, 'if_additional_resolution_for_optimal_threshold_is_needed': False, 'additional_resolution_range': [0.4669, 0.479]}\n"
     ]
    },
    {
     "name": "stderr",
     "output_type": "stream",
     "text": [
      " 89%|██████████████████████████████████████████████████████████████████████████████████▋          | 224/252 [00:16<00:00, 36.61it/s]"
     ]
    },
    {
     "name": "stdout",
     "output_type": "stream",
     "text": [
      "0.4003 0.7357248 0.73648584 {'add_thresholds_to_the_beginning': False, 'add_thresholds_to_the_end': False, 'existing_thresholds_range': [0.001, 0.6], 'difference_between_optimal_sens_and_spec': 0.0007610321, 'if_additional_resolution_for_optimal_threshold_is_needed': False, 'additional_resolution_range': [0.3943, 0.4064]}\n",
      "0.4548 0.69710255 0.6925772 {'add_thresholds_to_the_beginning': False, 'add_thresholds_to_the_end': False, 'existing_thresholds_range': [0.001, 0.6], 'difference_between_optimal_sens_and_spec': 0.0045253634, 'if_additional_resolution_for_optimal_threshold_is_needed': False, 'additional_resolution_range': [0.4487, 0.4608]}\n",
      "0.3822 0.7058515 0.69841784 {'add_thresholds_to_the_beginning': False, 'add_thresholds_to_the_end': False, 'existing_thresholds_range': [0.001, 0.6], 'difference_between_optimal_sens_and_spec': 0.007433653, 'if_additional_resolution_for_optimal_threshold_is_needed': False, 'additional_resolution_range': [0.3761, 0.3882]}\n",
      "0.3822 0.72158873 0.72022057 {'add_thresholds_to_the_beginning': False, 'add_thresholds_to_the_end': False, 'existing_thresholds_range': [0.001, 0.6], 'difference_between_optimal_sens_and_spec': 0.001368165, 'if_additional_resolution_for_optimal_threshold_is_needed': False, 'additional_resolution_range': [0.3761, 0.3882]}\n",
      "0.3822 0.7255718 0.7203653 {'add_thresholds_to_the_beginning': False, 'add_thresholds_to_the_end': False, 'existing_thresholds_range': [0.001, 0.6], 'difference_between_optimal_sens_and_spec': 0.0052065253, 'if_additional_resolution_for_optimal_threshold_is_needed': False, 'additional_resolution_range': [0.3761, 0.3882]}\n",
      "0.479 0.7284443 0.7341137 {'add_thresholds_to_the_beginning': False, 'add_thresholds_to_the_end': False, 'existing_thresholds_range': [0.001, 0.6], 'difference_between_optimal_sens_and_spec': 0.005669415, 'if_additional_resolution_for_optimal_threshold_is_needed': False, 'additional_resolution_range': [0.4729, 0.485]}\n",
      "0.3882 0.70405924 0.7122369 {'add_thresholds_to_the_beginning': False, 'add_thresholds_to_the_end': False, 'existing_thresholds_range': [0.001, 0.6], 'difference_between_optimal_sens_and_spec': 0.008177638, 'if_additional_resolution_for_optimal_threshold_is_needed': False, 'additional_resolution_range': [0.3822, 0.3943]}\n",
      "0.4003 0.72167426 0.72879773 {'add_thresholds_to_the_beginning': False, 'add_thresholds_to_the_end': False, 'existing_thresholds_range': [0.001, 0.6], 'difference_between_optimal_sens_and_spec': 0.0071234703, 'if_additional_resolution_for_optimal_threshold_is_needed': False, 'additional_resolution_range': [0.3943, 0.4064]}\n",
      "0.3822 0.7063987 0.701754 {'add_thresholds_to_the_beginning': False, 'add_thresholds_to_the_end': False, 'existing_thresholds_range': [0.001, 0.6], 'difference_between_optimal_sens_and_spec': 0.0046447515, 'if_additional_resolution_for_optimal_threshold_is_needed': False, 'additional_resolution_range': [0.3761, 0.3882]}\n"
     ]
    },
    {
     "name": "stderr",
     "output_type": "stream",
     "text": [
      " 92%|█████████████████████████████████████████████████████████████████████████████████████▌       | 232/252 [00:16<00:00, 34.78it/s]"
     ]
    },
    {
     "name": "stdout",
     "output_type": "stream",
     "text": [
      "0.4669 0.72093624 0.7153592 {'add_thresholds_to_the_beginning': False, 'add_thresholds_to_the_end': False, 'existing_thresholds_range': [0.001, 0.6], 'difference_between_optimal_sens_and_spec': 0.005577028, 'if_additional_resolution_for_optimal_threshold_is_needed': False, 'additional_resolution_range': [0.4608, 0.4729]}\n",
      "0.4003 0.71812606 0.7208858 {'add_thresholds_to_the_beginning': False, 'add_thresholds_to_the_end': False, 'existing_thresholds_range': [0.001, 0.6], 'difference_between_optimal_sens_and_spec': 0.0027597547, 'if_additional_resolution_for_optimal_threshold_is_needed': False, 'additional_resolution_range': [0.3943, 0.4064]}\n",
      "0.3882 0.7055665 0.70767105 {'add_thresholds_to_the_beginning': False, 'add_thresholds_to_the_end': False, 'existing_thresholds_range': [0.001, 0.6], 'difference_between_optimal_sens_and_spec': 0.0021045208, 'if_additional_resolution_for_optimal_threshold_is_needed': False, 'additional_resolution_range': [0.3822, 0.3943]}\n",
      "0.4454 0.7064452 0.7046335 {'add_thresholds_to_the_beginning': False, 'add_thresholds_to_the_end': False, 'existing_thresholds_range': [0.001, 0.6], 'difference_between_optimal_sens_and_spec': 0.0018117428, 'if_additional_resolution_for_optimal_threshold_is_needed': False, 'additional_resolution_range': [0.444, 0.4467]}\n",
      "0.3882 0.71280086 0.7183267 {'add_thresholds_to_the_beginning': False, 'add_thresholds_to_the_end': False, 'existing_thresholds_range': [0.001, 0.6], 'difference_between_optimal_sens_and_spec': 0.0055258274, 'if_additional_resolution_for_optimal_threshold_is_needed': False, 'additional_resolution_range': [0.3822, 0.3943]}\n",
      "0.3822 0.71825933 0.71851903 {'add_thresholds_to_the_beginning': False, 'add_thresholds_to_the_end': False, 'existing_thresholds_range': [0.001, 0.6], 'difference_between_optimal_sens_and_spec': 0.00025969744, 'if_additional_resolution_for_optimal_threshold_is_needed': False, 'additional_resolution_range': [0.3761, 0.3882]}\n",
      "0.485 0.7460081 0.7521739 {'add_thresholds_to_the_beginning': False, 'add_thresholds_to_the_end': False, 'existing_thresholds_range': [0.001, 0.6], 'difference_between_optimal_sens_and_spec': 0.0061658025, 'if_additional_resolution_for_optimal_threshold_is_needed': False, 'additional_resolution_range': [0.479, 0.4911]}\n",
      "0.3882 0.70728254 0.7154281 {'add_thresholds_to_the_beginning': False, 'add_thresholds_to_the_end': False, 'existing_thresholds_range': [0.001, 0.6], 'difference_between_optimal_sens_and_spec': 0.008145571, 'if_additional_resolution_for_optimal_threshold_is_needed': False, 'additional_resolution_range': [0.3822, 0.3943]}\n"
     ]
    },
    {
     "name": "stderr",
     "output_type": "stream",
     "text": [
      " 94%|███████████████████████████████████████████████████████████████████████████████████████▍     | 237/252 [00:16<00:00, 37.33it/s]"
     ]
    },
    {
     "name": "stdout",
     "output_type": "stream",
     "text": [
      "0.3882 0.73101413 0.72518575 {'add_thresholds_to_the_beginning': False, 'add_thresholds_to_the_end': False, 'existing_thresholds_range': [0.001, 0.6], 'difference_between_optimal_sens_and_spec': 0.0058283806, 'if_additional_resolution_for_optimal_threshold_is_needed': False, 'additional_resolution_range': [0.3822, 0.3943]}\n",
      "0.3822 0.710804 0.7187138 {'add_thresholds_to_the_beginning': False, 'add_thresholds_to_the_end': False, 'existing_thresholds_range': [0.001, 0.6], 'difference_between_optimal_sens_and_spec': 0.007909834, 'if_additional_resolution_for_optimal_threshold_is_needed': False, 'additional_resolution_range': [0.3761, 0.3882]}\n",
      "0.4669 0.7333724 0.7260254 {'add_thresholds_to_the_beginning': False, 'add_thresholds_to_the_end': False, 'existing_thresholds_range': [0.001, 0.6], 'difference_between_optimal_sens_and_spec': 0.0073469877, 'if_additional_resolution_for_optimal_threshold_is_needed': False, 'additional_resolution_range': [0.4608, 0.4729]}\n",
      "0.3943 0.7170943 0.7130788 {'add_thresholds_to_the_beginning': False, 'add_thresholds_to_the_end': False, 'existing_thresholds_range': [0.001, 0.6], 'difference_between_optimal_sens_and_spec': 0.0040155053, 'if_additional_resolution_for_optimal_threshold_is_needed': False, 'additional_resolution_range': [0.3882, 0.4003]}\n",
      "0.3761 0.71900994 0.7107445 {'add_thresholds_to_the_beginning': False, 'add_thresholds_to_the_end': False, 'existing_thresholds_range': [0.001, 0.6], 'difference_between_optimal_sens_and_spec': 0.008265436, 'if_additional_resolution_for_optimal_threshold_is_needed': False, 'additional_resolution_range': [0.3701, 0.3822]}\n"
     ]
    },
    {
     "name": "stderr",
     "output_type": "stream",
     "text": [
      " 96%|████████████████████████████████████████████████████████████████████████████████████████▉    | 241/252 [00:16<00:00, 26.37it/s]"
     ]
    },
    {
     "name": "stdout",
     "output_type": "stream",
     "text": [
      "0.3822 0.7187801 0.71822214 {'add_thresholds_to_the_beginning': False, 'add_thresholds_to_the_end': False, 'existing_thresholds_range': [0.001, 0.6], 'difference_between_optimal_sens_and_spec': 0.0005579591, 'if_additional_resolution_for_optimal_threshold_is_needed': False, 'additional_resolution_range': [0.3761, 0.3882]}\n",
      "0.4527 0.7016477 0.70149046 {'add_thresholds_to_the_beginning': False, 'add_thresholds_to_the_end': False, 'existing_thresholds_range': [0.001, 0.6], 'difference_between_optimal_sens_and_spec': 0.00015723705, 'if_additional_resolution_for_optimal_threshold_is_needed': False, 'additional_resolution_range': [0.4514, 0.4541]}\n",
      "0.3822 0.70101386 0.7039696 {'add_thresholds_to_the_beginning': False, 'add_thresholds_to_the_end': False, 'existing_thresholds_range': [0.001, 0.6], 'difference_between_optimal_sens_and_spec': 0.0029557347, 'if_additional_resolution_for_optimal_threshold_is_needed': False, 'additional_resolution_range': [0.3761, 0.3882]}\n"
     ]
    },
    {
     "name": "stderr",
     "output_type": "stream",
     "text": [
      " 97%|██████████████████████████████████████████████████████████████████████████████████████████▍  | 245/252 [00:17<00:00, 10.88it/s]"
     ]
    },
    {
     "name": "stdout",
     "output_type": "stream",
     "text": [
      "0.4729 0.7353409 0.73526305 {'add_thresholds_to_the_beginning': False, 'add_thresholds_to_the_end': False, 'existing_thresholds_range': [0.001, 0.6], 'difference_between_optimal_sens_and_spec': 7.7843666e-05, 'if_additional_resolution_for_optimal_threshold_is_needed': False, 'additional_resolution_range': [0.4669, 0.479]}\n",
      "0.3943 0.7176164 0.72310543 {'add_thresholds_to_the_beginning': False, 'add_thresholds_to_the_end': False, 'existing_thresholds_range': [0.001, 0.6], 'difference_between_optimal_sens_and_spec': 0.0054890513, 'if_additional_resolution_for_optimal_threshold_is_needed': False, 'additional_resolution_range': [0.3882, 0.4003]}\n",
      "0.4003 0.70583946 0.7144267 {'add_thresholds_to_the_beginning': False, 'add_thresholds_to_the_end': False, 'existing_thresholds_range': [0.001, 0.6], 'difference_between_optimal_sens_and_spec': 0.008587241, 'if_additional_resolution_for_optimal_threshold_is_needed': False, 'additional_resolution_range': [0.3943, 0.4064]}\n",
      "0.3822 0.70046073 0.6994386 {'add_thresholds_to_the_beginning': False, 'add_thresholds_to_the_end': False, 'existing_thresholds_range': [0.001, 0.6], 'difference_between_optimal_sens_and_spec': 0.00102216, 'if_additional_resolution_for_optimal_threshold_is_needed': False, 'additional_resolution_range': [0.3761, 0.3882]}\n"
     ]
    },
    {
     "name": "stderr",
     "output_type": "stream",
     "text": [
      "100%|█████████████████████████████████████████████████████████████████████████████████████████████| 252/252 [00:17<00:00, 14.06it/s]"
     ]
    },
    {
     "name": "stdout",
     "output_type": "stream",
     "text": [
      "0.4548 0.7048268 0.7069796 {'add_thresholds_to_the_beginning': False, 'add_thresholds_to_the_end': False, 'existing_thresholds_range': [0.001, 0.6], 'difference_between_optimal_sens_and_spec': 0.0021528006, 'if_additional_resolution_for_optimal_threshold_is_needed': False, 'additional_resolution_range': [0.4487, 0.4608]}\n",
      "0.3882 0.6857131 0.69328946 {'add_thresholds_to_the_beginning': False, 'add_thresholds_to_the_end': False, 'existing_thresholds_range': [0.001, 0.6], 'difference_between_optimal_sens_and_spec': 0.0075763464, 'if_additional_resolution_for_optimal_threshold_is_needed': False, 'additional_resolution_range': [0.3822, 0.3943]}\n",
      "0.3882 0.70215195 0.6969236 {'add_thresholds_to_the_beginning': False, 'add_thresholds_to_the_end': False, 'existing_thresholds_range': [0.001, 0.6], 'difference_between_optimal_sens_and_spec': 0.0052283406, 'if_additional_resolution_for_optimal_threshold_is_needed': False, 'additional_resolution_range': [0.3822, 0.3943]}\n",
      "0.3943 0.7075258 0.71441776 {'add_thresholds_to_the_beginning': False, 'add_thresholds_to_the_end': False, 'existing_thresholds_range': [0.001, 0.6], 'difference_between_optimal_sens_and_spec': 0.006891966, 'if_additional_resolution_for_optimal_threshold_is_needed': False, 'additional_resolution_range': [0.3882, 0.4003]}\n",
      "0.3882 0.6875593 0.6965526 {'add_thresholds_to_the_beginning': False, 'add_thresholds_to_the_end': False, 'existing_thresholds_range': [0.001, 0.6], 'difference_between_optimal_sens_and_spec': 0.008993268, 'if_additional_resolution_for_optimal_threshold_is_needed': False, 'additional_resolution_range': [0.3822, 0.3943]}\n",
      "0.4387 0.7137443 0.71094185 {'add_thresholds_to_the_beginning': False, 'add_thresholds_to_the_end': False, 'existing_thresholds_range': [0.001, 0.6], 'difference_between_optimal_sens_and_spec': 0.0028024316, 'if_additional_resolution_for_optimal_threshold_is_needed': False, 'additional_resolution_range': [0.4373, 0.44]}\n"
     ]
    },
    {
     "name": "stderr",
     "output_type": "stream",
     "text": [
      "\n"
     ]
    }
   ],
   "source": [
    "from tqdm import tqdm\n",
    "root_folder = 'D:\\\\mi186veva-results\\\\MainExperiment_3_smoothing_1d'\n",
    "\n",
    "folders = glob(root_folder + config.CONFIG_PATHS['SYSTEM_PATHS_DELIMITER'] + '*' + config.CONFIG_PATHS['SYSTEM_PATHS_DELIMITER'])\n",
    "len(folders)\n",
    "\n",
    "for folder in tqdm(folders):\n",
    "    name = os.path.basename(os.path.normpath(folder))\n",
    "    config.CONFIG_CV[\"NAME\"] = name\n",
    "    config.CONFIG_PATHS['RESULTS_FOLDER'] = root_folder\n",
    "    cv = CV(config)\n",
    "\n",
    "    optimal_threshold_finder = OptimalThreshold(config, prints=False)\n",
    "    optimal_threshold_finder.add_additional_thresholds_if_needed(cv)"
   ]
  },
  {
   "cell_type": "code",
   "execution_count": null,
   "id": "a4dab6a1-f287-4510-ad5d-ee1980b6c047",
   "metadata": {},
   "outputs": [],
   "source": []
  }
 ],
 "metadata": {
  "kernelspec": {
   "display_name": "Python 3 (ipykernel)",
   "language": "python",
   "name": "python3"
  },
  "language_info": {
   "codemirror_mode": {
    "name": "ipython",
    "version": 3
   },
   "file_extension": ".py",
   "mimetype": "text/x-python",
   "name": "python",
   "nbconvert_exporter": "python",
   "pygments_lexer": "ipython3",
   "version": "3.11.5"
  }
 },
 "nbformat": 4,
 "nbformat_minor": 5
}
