{
 "cells": [
  {
   "cell_type": "code",
   "execution_count": 3,
   "id": "ddc829e1-d6f3-4150-8605-a2f77146c328",
   "metadata": {},
   "outputs": [
    {
     "name": "stdout",
     "output_type": "stream",
     "text": [
      "['C:\\\\Users\\\\tkachenko\\\\Desktop\\\\HSI\\\\hsi-experiments', 'C:\\\\Users\\\\tkachenko\\\\Desktop\\\\HSI\\\\hsi-experiments\\\\configuration', 'C:\\\\Users\\\\tkachenko\\\\Desktop\\\\HSI\\\\hsi-experiments\\\\evaluation', 'C:\\\\Users\\\\tkachenko\\\\Desktop\\\\HSI\\\\hsi-experiments\\\\experiments', 'C:\\\\Users\\\\tkachenko\\\\Anaconda3\\\\envs\\\\tf\\\\python311.zip', 'C:\\\\Users\\\\tkachenko\\\\Anaconda3\\\\envs\\\\tf\\\\DLLs', 'C:\\\\Users\\\\tkachenko\\\\Anaconda3\\\\envs\\\\tf\\\\Lib', 'C:\\\\Users\\\\tkachenko\\\\Anaconda3\\\\envs\\\\tf', '', 'C:\\\\Users\\\\tkachenko\\\\AppData\\\\Roaming\\\\Python\\\\Python311\\\\site-packages', 'C:\\\\Users\\\\tkachenko\\\\Anaconda3\\\\envs\\\\tf\\\\Lib\\\\site-packages', 'C:\\\\Users\\\\tkachenko\\\\Anaconda3\\\\envs\\\\tf\\\\Lib\\\\site-packages\\\\win32', 'C:\\\\Users\\\\tkachenko\\\\Anaconda3\\\\envs\\\\tf\\\\Lib\\\\site-packages\\\\win32\\\\lib', 'C:\\\\Users\\\\tkachenko\\\\Anaconda3\\\\envs\\\\tf\\\\Lib\\\\site-packages\\\\Pythonwin']\n"
     ]
    }
   ],
   "source": [
    "import os\n",
    "import sys\n",
    "from pathlib import Path\n",
    "from glob import glob\n",
    "import json\n",
    "import numpy as np\n",
    "\n",
    "currentdir = Path.cwd()\n",
    "parentdir = os.path.dirname(currentdir)\n",
    "sys.path.insert(0, parentdir) \n",
    "sys.path.insert(1, os.path.join(parentdir, 'evaluation')) \n",
    "sys.path.insert(1, os.path.join(parentdir, 'configuration')) \n",
    "print(sys.path)\n",
    "\n",
    "from evaluation import metrics_csvreader, optimal_parameters\n",
    "from configuration import get_config as config"
   ]
  },
  {
   "cell_type": "code",
   "execution_count": null,
   "id": "d351a438-65ff-4e29-a426-9613fc7be888",
   "metadata": {},
   "outputs": [
    {
     "name": "stdout",
     "output_type": "stream",
     "text": [
      "['D:\\\\mi186veva-logs\\\\MainExperiment_3_smoothing_1d\\\\', 'D:\\\\mi186veva-logs\\\\MainExperiment_3_smoothing_2d\\\\', 'D:\\\\mi186veva-logs\\\\MainExperiment_3_smoothing_3d\\\\', 'D:\\\\mi186veva-logs\\\\MainExperiment_3_smoothing_savgol\\\\']\n",
      "252\n",
      "D:\\mi186veva-logs\\MainExperiment_3_smoothing_1d\\\n"
     ]
    },
    {
     "name": "stderr",
     "output_type": "stream",
     "text": [
      "  8%|██████▍                                                                          | 20/252 [00:14<01:38,  2.36it/s]"
     ]
    }
   ],
   "source": [
    "# remove all checkpoints except the last one\n",
    "from shutil import rmtree\n",
    "from tqdm import tqdm\n",
    "root_folder = \"D:\\\\mi186veva-logs\\\\\"\n",
    "d = '\\\\'\n",
    "\n",
    "logs = glob(os.path.join(root_folder, f'*{d}'))\n",
    "print(logs)\n",
    "\n",
    "for logs_folder in logs:\n",
    "    combinations = glob(os.path.join(logs_folder, f'*{d}'))\n",
    "    print(len(combinations))\n",
    "    print(logs_folder)\n",
    "    for combination in tqdm(combinations):\n",
    "        steps = glob(os.path.join(combination, f'*{d}'))\n",
    "        #print(len(steps))\n",
    "        for step in steps:\n",
    "            #print(step)\n",
    "            checkpoints = glob(os.path.join(step, 'checkpoints', f'*{d}'))\n",
    "            #print('\\n'.join(checkpoints))\n",
    "            checkpoints = sorted(checkpoints, key=lambda x: int(os.path.basename(os.path.normpath(x)).split('-')[1]))\n",
    "            #print('------------------Sorted-------------')\n",
    "            #print('\\n'.join(checkpoints))\n",
    "            for checkpoint in checkpoints[:-1]:\n",
    "                print('Removing...', checkpoint)\n",
    "                rmtree(checkpoint)"
   ]
  },
  {
   "cell_type": "code",
   "execution_count": null,
   "id": "f7deb227-34df-4a00-bece-80335f0ed5d6",
   "metadata": {},
   "outputs": [],
   "source": []
  }
 ],
 "metadata": {
  "kernelspec": {
   "display_name": "Python 3 (ipykernel)",
   "language": "python",
   "name": "python3"
  },
  "language_info": {
   "codemirror_mode": {
    "name": "ipython",
    "version": 3
   },
   "file_extension": ".py",
   "mimetype": "text/x-python",
   "name": "python",
   "nbconvert_exporter": "python",
   "pygments_lexer": "ipython3",
   "version": "3.11.5"
  }
 },
 "nbformat": 4,
 "nbformat_minor": 5
}
