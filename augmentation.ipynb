{
 "cells": [
  {
   "cell_type": "code",
   "execution_count": 7,
   "metadata": {},
   "outputs": [],
   "source": [
    "import numpy as np\n",
    "import matplotlib.pyplot as plt\n",
    "from scipy.signal import savgol_filter\n",
    "import glob\n",
    "import os"
   ]
  },
  {
   "cell_type": "code",
   "execution_count": 9,
   "metadata": {},
   "outputs": [
    {
     "name": "stdout",
     "output_type": "stream",
     "text": [
      "/work/users/mi186veva/data_preprocessed/raw/2020_06_10_16_35_27_.npz /work/users/mi186veva/data_preprocessed/augmented/2020_06_10_16_35_27_.npz\n",
      "(108354, 93) (108354, 10, 93)\n"
     ]
    },
    {
     "data": {
      "text/plain": [
       "[<matplotlib.lines.Line2D at 0x2ac4b82d8a00>]"
      ]
     },
     "execution_count": 9,
     "metadata": {},
     "output_type": "execute_result"
    },
    {
     "data": {
      "image/png": "[encoded data removed]",
      "text/plain": [
       "<Figure size 432x288 with 1 Axes>"
      ]
     },
     "metadata": {
      "needs_background": "light"
     },
     "output_type": "display_data"
    }
   ],
   "source": [
    "#check if all is okay\n",
    "preffix = '/work/users/mi186veva/'\n",
    "paths_raw = glob.glob(os.path.join(preffix, 'data_preprocessed/raw', '2020_06_10_16_35_27_*.npz'))\n",
    "paths_aug = glob.glob(os.path.join(preffix, 'data_preprocessed/augmented', '2020_06_10_16_35_27_*.npz'))\n",
    "\n",
    "print(paths_raw[0], paths_aug[0])\n",
    "\n",
    "raw = np.load(paths_raw[0])\n",
    "aug = np.load(paths_aug[0])\n",
    "\n",
    "print(raw['X'].shape, aug['X'].shape)\n",
    "\n",
    "plt.plot(raw['X'][0, :-1])\n",
    "plt.plot(aug['X'][4,0, :-1])\n",
    "#plt.plot(savgol_filter(aug['ill_data'][4][0, :-1], 5, 2))\n",
    "#plt.plot(aug['ill_data'][0][1, :-1])"
   ]
  },
  {
   "cell_type": "code",
   "execution_count": 3,
   "metadata": {},
   "outputs": [
    {
     "name": "stdout",
     "output_type": "stream",
     "text": [
      "(10000, 10, 93) (10000,) (10000,) (10000,)\n"
     ]
    }
   ],
   "source": [
    "import numpy as np\n",
    "\n",
    "data = np.load('/work/users/mi186veva/data_preprocessed/augmented/batch_sized/batch9.npz')\n",
    "print(data['X'].shape, data['y'].shape, data['PatientName'].shape, data['PatientIndex'].shape)"
   ]
  },
  {
   "cell_type": "code",
   "execution_count": 4,
   "metadata": {},
   "outputs": [
    {
     "name": "stdout",
     "output_type": "stream",
     "text": [
      "X\n",
      "y\n",
      "PatientName\n",
      "PatientIndex\n",
      "(58033, 10, 93) (58033,) (58033,) (58033,)\n",
      "['2020_04_01_14_23_24_' '2020_05_13_19_31_15_' '2020_05_26_14_42_41_'\n",
      " '2020_03_27_11_31_09_' '2020_03_20_15_36_36_' '2019_09_30_20_50_43_'\n",
      " '2020_05_27_15_02_29_' '2020_06_03_13_33_43_' '2019_10_25_16_55_01_'\n",
      " '2020_03_10_10_15_04_']\n",
      "X\n",
      "y\n",
      "PatientName\n",
      "PatientIndex\n",
      "(58232, 10, 93) (58232,) (58232,) (58232,)\n",
      "['2020_06_23_15_23_26_' '2020_02_04_20_48_03_' '2020_06_03_13_33_43_'\n",
      " '2019_09_25_13_07_12_' '2020_05_28_15_20_27_' '2020_06_10_16_35_27_'\n",
      " '2020_02_12_14_09_21_' '2020_05_07_12_52_25_' '2020_01_02_14_26_54_'\n",
      " '2020_05_13_19_30_26_']\n",
      "X\n",
      "y\n",
      "PatientName\n",
      "PatientIndex\n",
      "(57899, 10, 93) (57899,) (57899,) (57899,)\n",
      "['2020_05_27_15_02_29_' '2020_02_13_18_05_51_' '2020_03_10_10_15_04_'\n",
      " '2019_12_20_15_15_21_' '2020_03_27_11_31_09_' '2020_05_20_12_06_41_'\n",
      " '2019_12_20_15_15_21_' '2020_06_23_15_23_26_' '2020_03_20_15_36_12_'\n",
      " '2019_09_30_20_50_43_']\n",
      "X\n",
      "y\n",
      "PatientName\n",
      "PatientIndex\n",
      "(58088, 10, 93) (58088,) (58088,) (58088,)\n",
      "['2019_09_25_13_07_12_' '2020_03_27_11_31_09_' '2020_06_23_15_23_26_'\n",
      " '2019_10_25_16_55_01_' '2019_10_28_16_03_29_' '2020_06_23_15_23_26_'\n",
      " '2019_12_09_14_32_17_' '2019_09_04_12_43_40_' '2020_03_27_16_56_41_'\n",
      " '2020_04_08_18_05_56_']\n",
      "X\n",
      "y\n",
      "PatientName\n",
      "PatientIndex\n",
      "(57767, 10, 93) (57767,) (57767,) (57767,)\n",
      "['2020_06_03_13_33_43_' '2020_03_10_10_15_04_' '2020_06_10_16_35_27_'\n",
      " '2020_03_10_10_15_04_' '2020_03_27_16_57_07_' '2020_03_20_15_36_36_'\n",
      " '2020_05_15_12_43_58_' '2020_04_01_14_23_24_' '2020_02_19_13_03_01_'\n",
      " '2020_02_13_18_05_51_']\n",
      "X\n",
      "y\n",
      "PatientName\n",
      "PatientIndex\n",
      "(57623, 10, 93) (57623,) (57623,) (57623,)\n",
      "['2019_09_30_20_50_43_' '2019_09_25_13_07_12_' '2020_03_27_16_56_41_'\n",
      " '2019_10_25_11_19_55_' '2020_03_27_16_57_07_' '2020_01_02_14_26_54_'\n",
      " '2020_05_13_19_30_26_' '2020_05_13_19_30_26_' '2020_03_20_15_36_36_'\n",
      " '2020_02_12_14_09_21_']\n",
      "X\n",
      "y\n",
      "PatientName\n",
      "PatientIndex\n",
      "(57885, 10, 93) (57885,) (57885,) (57885,)\n",
      "['2020_06_24_18_00_12_' '2020_02_13_18_05_51_' '2020_02_12_14_09_21_'\n",
      " '2020_05_13_19_31_15_' '2020_06_17_14_29_15_' '2020_03_20_15_36_12_'\n",
      " '2020_03_27_16_57_07_' '2019_12_11_11_41_04_' '2020_06_24_18_00_12_'\n",
      " '2020_05_26_14_42_41_']\n",
      "X\n",
      "y\n",
      "PatientName\n",
      "PatientIndex\n",
      "(57568, 10, 93) (57568,) (57568,) (57568,)\n",
      "['2020_05_07_12_52_25_' '2020_03_27_16_57_50_' '2020_05_13_19_30_26_'\n",
      " '2020_01_02_14_26_54_' '2020_05_13_19_31_15_' '2019_12_20_15_15_21_'\n",
      " '2020_03_27_16_56_41_' '2019_12_09_14_32_17_' '2019_10_24_15_53_04_'\n",
      " '2019_12_11_11_41_04_']\n",
      "X\n",
      "y\n",
      "PatientName\n",
      "PatientIndex\n",
      "(58216, 10, 93) (58216,) (58216,) (58216,)\n",
      "['2020_05_07_12_52_25_' '2020_06_10_16_35_27_' '2019_09_25_13_07_12_'\n",
      " '2020_01_02_14_26_54_' '2019_07_15_11_33_28_' '2020_03_27_11_31_09_'\n",
      " '2020_06_23_19_23_37_' '2020_06_23_15_23_26_' '2020_02_12_14_09_21_'\n",
      " '2020_02_19_13_03_01_']\n",
      "X\n",
      "y\n",
      "PatientName\n",
      "PatientIndex\n",
      "(58143, 10, 93) (58143,) (58143,) (58143,)\n",
      "['2019_12_20_15_15_21_' '2020_06_23_15_23_26_' '2020_06_03_13_33_43_'\n",
      " '2020_05_13_19_30_26_' '2019_08_23_12_15_26_' '2020_05_07_12_52_25_'\n",
      " '2019_12_20_15_15_21_' '2019_08_09_12_17_55_' '2020_03_27_16_57_07_'\n",
      " '2019_07_12_11_15_49_']\n",
      "579454\n"
     ]
    }
   ],
   "source": [
    "import glob\n",
    "import numpy as np\n",
    "\n",
    "pths = glob.glob('/work/users/mi186veva/data_preprocessed/augmented/shuffled/shuffled9.npz')\n",
    "\n",
    "summ = 0\n",
    "for p in pths[:10]:\n",
    "    data = np.load(p)\n",
    "    for key, value in data.items():\n",
    "        print(key)\n",
    "    print(data['X'].shape, data['y'].shape, data['PatientName'].shape, data['PatientIndex'].shape)\n",
    "    print(data['PatientName'][-10:])\n",
    "    summ+=data['X'].shape[0]\n",
    "    \n",
    "print(summ)"
   ]
  },
  {
   "cell_type": "code",
   "execution_count": 19,
   "metadata": {},
   "outputs": [],
   "source": [
    "d = {\n",
    "    '1': [1, 2, 3], \n",
    "    '2': [2, 3, 4]\n",
    "}\n",
    "\n",
    "np.savez('1', **{n: a for n, a in d.items()})"
   ]
  },
  {
   "cell_type": "code",
   "execution_count": 20,
   "metadata": {},
   "outputs": [
    {
     "name": "stdout",
     "output_type": "stream",
     "text": [
      "1\n",
      "2\n"
     ]
    }
   ],
   "source": [
    "data = np.load('1.npz', allow_pickle=True)\n",
    "for key, value in data.items():\n",
    "    print(key)"
   ]
  },
  {
   "cell_type": "code",
   "execution_count": 5,
   "metadata": {},
   "outputs": [
    {
     "name": "stdout",
     "output_type": "stream",
     "text": [
      "[0 1]\n",
      "[1 2]\n"
     ]
    }
   ],
   "source": [
    "f = np.array([1, 2, 3, 4])\n",
    "indexes = np.arange(2)\n",
    "print(indexes)\n",
    "\n",
    "print(f[indexes])"
   ]
  },
  {
   "cell_type": "code",
   "execution_count": 11,
   "metadata": {},
   "outputs": [
    {
     "name": "stdout",
     "output_type": "stream",
     "text": [
      "(array([0]),)\n",
      "['gg']\n"
     ]
    }
   ],
   "source": [
    "f = np.array(['gg', 'ff', 'ggff'])\n",
    "ind = np.where('ff' in f)\n",
    "print(ind)\n",
    "print(f[ind])"
   ]
  },
  {
   "cell_type": "code",
   "execution_count": 16,
   "metadata": {},
   "outputs": [
    {
     "name": "stdout",
     "output_type": "stream",
     "text": [
      "[1 2]\n",
      "['ff' 'ggff']\n"
     ]
    }
   ],
   "source": [
    "print(np.flatnonzero(np.core.defchararray.find(f,'ff')!=-1))\n",
    "print(f[np.flatnonzero(np.core.defchararray.find(f,'ff')!=-1)])"
   ]
  },
  {
   "cell_type": "code",
   "execution_count": null,
   "metadata": {},
   "outputs": [],
   "source": [
    "import numpy as np"
   ]
  }
 ],
 "metadata": {
  "kernelspec": {
   "display_name": "Python + Tensorflow",
   "language": "python",
   "name": "tensorflow"
  },
  "language_info": {
   "codemirror_mode": {
    "name": "ipython",
    "version": 3
   },
   "file_extension": ".py",
   "mimetype": "text/x-python",
   "name": "python",
   "nbconvert_exporter": "python",
   "pygments_lexer": "ipython3",
   "version": "3.8.8"
  }
 },
 "nbformat": 4,
 "nbformat_minor": 4
}
