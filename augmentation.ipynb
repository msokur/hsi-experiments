{
 "cells": [
  {
   "cell_type": "code",
   "execution_count": 1,
   "metadata": {},
   "outputs": [],
   "source": [
    "import numpy\n",
    "from hypercube_data import *\n",
    "import os\n",
    "import pandas as pd\n",
    "import cv2\n",
    "from scipy.fft import fft\n",
    "import random\n",
    "import glob\n",
    "import sklearn.preprocessing as sk\n",
    "\n",
    "from matplotlib.lines import Line2D\n",
    "from labellines import labelLine, labelLines\n",
    "\n",
    "size = 1000\n",
    "my_dpi = 96"
   ]
  },
  {
   "cell_type": "code",
   "execution_count": null,
   "metadata": {},
   "outputs": [],
   "source": [
    "spectrum_datas = []\n",
    "masks = []\n",
    "pixely = []\n",
    "\n",
    "paths = glob.glob('data/*.dat')\n",
    "include_indexes = []#[4, 17, random.randint(0, 44), random.randint(0, 44), random.randint(0, 44), random.randint(0, 44), 35, random.randint(0, 44)]\n",
    "exclude_indexes = []\n",
    "\n",
    "test_path = ['./data']\n",
    "for i, path in enumerate(paths):\n",
    "    if i in include_indexes if len(include_indexes) != 0 else True:\n",
    "        if not i in exclude_indexes if len(exclude_indexes) != 0 else True:\n",
    "            with open(path, newline='')  as filex:\n",
    "                filename=filex.name\n",
    "\n",
    "                #rediction = model.predict(learn_data)\n",
    "\n",
    "                #spectrum_data, pixely = Cube_Read(paths[index],wavearea=100, Firstnm=0,Lastnm=100).cube_matrix()\n",
    "                spectrum_data, pixely = Cube_Read(filename,wavearea=100, Firstnm=0,Lastnm=100).cube_matrix()\n",
    "                spectrum_data1 = spectrum_data.copy()\n",
    "                spectrum_datas.append(spectrum_data)\n",
    "\n",
    "                mask = cv2.imread(path+'_Mask JW Kolo.png')[..., ::-1]\n",
    "                masks.append(mask)"
   ]
  }
 ],
 "metadata": {
  "kernelspec": {
   "display_name": "Python 3",
   "language": "python",
   "name": "python3"
  },
  "language_info": {
   "codemirror_mode": {
    "name": "ipython",
    "version": 3
   },
   "file_extension": ".py",
   "mimetype": "text/x-python",
   "name": "python",
   "nbconvert_exporter": "python",
   "pygments_lexer": "ipython3",
   "version": "3.7.6"
  }
 },
 "nbformat": 4,
 "nbformat_minor": 4
}
