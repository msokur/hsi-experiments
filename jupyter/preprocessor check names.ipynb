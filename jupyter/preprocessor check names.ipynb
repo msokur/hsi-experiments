{
 "cells": [
  {
   "cell_type": "code",
   "execution_count": 1,
   "id": "a57d6f87",
   "metadata": {},
   "outputs": [],
   "source": [
    "import numpy as np\n",
    "import os\n",
    "from glob import glob\n",
    "from tqdm import tqdm"
   ]
  },
  {
   "cell_type": "code",
   "execution_count": 10,
   "id": "8a6583b8",
   "metadata": {
    "scrolled": true
   },
   "outputs": [
    {
     "name": "stderr",
     "output_type": "stream",
     "text": [
      " 46%|███████████████████████████████████████████████████████                                                                | 25/54 [00:00<00:00, 244.63it/s]"
     ]
    },
    {
     "name": "stdout",
     "output_type": "stream",
     "text": [
      "54\n",
      "['EP10' 'EP2' 'EP5' 'EP7' 'EP8' 'EP9']\n",
      "['EP10' 'EP2' 'EP5' 'EP7' 'EP8' 'EP9']\n",
      "['EP10' 'EP2' 'EP5' 'EP7' 'EP8' 'EP9']\n",
      "['EP10' 'EP2' 'EP5' 'EP7' 'EP8' 'EP9']\n",
      "['EP10' 'EP2' 'EP5' 'EP7' 'EP8' 'EP9']\n",
      "['EP10' 'EP2' 'EP5' 'EP7' 'EP8' 'EP9']\n",
      "['EP10' 'EP2' 'EP5' 'EP7' 'EP8' 'EP9']\n",
      "['EP10' 'EP2' 'EP5' 'EP7' 'EP8' 'EP9']\n",
      "['EP10' 'EP2' 'EP5' 'EP7' 'EP8' 'EP9']\n",
      "['EP10' 'EP2' 'EP5' 'EP7' 'EP8' 'EP9']\n",
      "['EP10' 'EP2' 'EP5' 'EP7' 'EP8' 'EP9']\n",
      "['EP10' 'EP2' 'EP5' 'EP7' 'EP8' 'EP9']\n",
      "['EP10' 'EP2' 'EP5' 'EP7' 'EP8' 'EP9']\n",
      "['EP10' 'EP2' 'EP5' 'EP7' 'EP8' 'EP9']\n",
      "['EP10' 'EP2' 'EP5' 'EP7' 'EP8' 'EP9']\n",
      "['EP10' 'EP2' 'EP5' 'EP7' 'EP8' 'EP9']\n",
      "['EP10' 'EP2' 'EP5' 'EP7' 'EP8' 'EP9']\n",
      "['EP10' 'EP2' 'EP5' 'EP7' 'EP8' 'EP9']\n",
      "['EP10' 'EP2' 'EP5' 'EP7' 'EP8' 'EP9']\n",
      "['EP10' 'EP2' 'EP5' 'EP7' 'EP8' 'EP9']\n",
      "['EP10' 'EP2' 'EP5' 'EP7' 'EP8' 'EP9']\n",
      "['EP10' 'EP2' 'EP5' 'EP7' 'EP8' 'EP9']\n",
      "['EP10' 'EP2' 'EP5' 'EP7' 'EP8' 'EP9']\n",
      "['EP10' 'EP2' 'EP5' 'EP7' 'EP8' 'EP9']\n",
      "['EP10' 'EP2' 'EP5' 'EP7' 'EP8' 'EP9']\n",
      "['EP10' 'EP2' 'EP5' 'EP7' 'EP8' 'EP9']\n",
      "['EP10' 'EP2' 'EP5' 'EP7' 'EP8' 'EP9']\n",
      "['EP10' 'EP2' 'EP5' 'EP7' 'EP8' 'EP9']\n",
      "['EP10' 'EP2' 'EP5' 'EP7' 'EP8' 'EP9']\n",
      "['EP10' 'EP2' 'EP5' 'EP7' 'EP8' 'EP9']\n",
      "['EP10' 'EP2' 'EP5' 'EP7' 'EP8' 'EP9']\n",
      "['EP10' 'EP2' 'EP5' 'EP7' 'EP8' 'EP9']\n",
      "['EP10' 'EP2' 'EP5' 'EP7' 'EP8' 'EP9']\n",
      "['EP10' 'EP2' 'EP5' 'EP7' 'EP8' 'EP9']\n",
      "['EP10' 'EP2' 'EP5' 'EP7' 'EP8' 'EP9']\n",
      "['EP10' 'EP2' 'EP5' 'EP7' 'EP8' 'EP9']\n",
      "['EP10' 'EP2' 'EP5' 'EP7' 'EP8' 'EP9']\n",
      "['EP10' 'EP2' 'EP5' 'EP7' 'EP8' 'EP9']\n",
      "['EP10' 'EP2' 'EP5' 'EP7' 'EP8' 'EP9']\n",
      "['EP10' 'EP2' 'EP5' 'EP7' 'EP8' 'EP9']\n",
      "['EP10' 'EP2' 'EP5' 'EP7' 'EP8' 'EP9']\n",
      "['EP10' 'EP2' 'EP5' 'EP7' 'EP8' 'EP9']\n",
      "['EP10' 'EP2' 'EP5' 'EP7' 'EP8' 'EP9']\n",
      "['EP10' 'EP2' 'EP5' 'EP7' 'EP8' 'EP9']\n",
      "['EP10' 'EP2' 'EP5' 'EP7' 'EP8' 'EP9']\n",
      "['EP10' 'EP2' 'EP5' 'EP7' 'EP8' 'EP9']\n",
      "['EP10' 'EP2' 'EP5' 'EP7' 'EP8' 'EP9']\n",
      "['EP10' 'EP2' 'EP5' 'EP7' 'EP8' 'EP9']\n",
      "['EP10' 'EP2' 'EP5' 'EP7' 'EP8' 'EP9']\n"
     ]
    },
    {
     "name": "stderr",
     "output_type": "stream",
     "text": [
      "\r",
      "100%|███████████████████████████████████████████████████████████████████████████████████████████████████████████████████████| 54/54 [00:00<00:00, 270.24it/s]"
     ]
    },
    {
     "name": "stdout",
     "output_type": "stream",
     "text": [
      "['EP10' 'EP2' 'EP5' 'EP7' 'EP8' 'EP9']\n",
      "['EP10' 'EP2' 'EP5' 'EP7' 'EP8' 'EP9']\n",
      "['EP10' 'EP2' 'EP5' 'EP7' 'EP8' 'EP9']\n",
      "['EP10' 'EP2' 'EP5' 'EP7' 'EP8' 'EP9']\n",
      "['EP10' 'EP2' 'EP5' 'EP7' 'EP8' 'EP9']\n"
     ]
    },
    {
     "name": "stderr",
     "output_type": "stream",
     "text": [
      "\n"
     ]
    }
   ],
   "source": [
    "excepted = ['EP6' 'EP4' 'EP1']\n",
    "paths = glob(os.path.join('..\\\\data_preprocessed\\\\EsophagusDatabase\\\\raw_3d_weights\\\\batch_sized\\\\', '*.npz'))\n",
    "\n",
    "print(len(paths))\n",
    "\n",
    "for p in tqdm(paths):\n",
    "    data = np.load(p)\n",
    "    '''print(*data)\n",
    "    print('PatientName', data['PatientName'][:50].shape, data['PatientName'][0])\n",
    "    print('indexes_in_datacube', data['indexes_in_datacube'][:50].shape, data['indexes_in_datacube'][0])\n",
    "    print('PatientIndex', data['PatientIndex'][:50].shape, data['PatientIndex'][0])\n",
    "    print('y', data['y'][:50].shape, data['y'][0])\n",
    "    print('X', data['X'][:50].shape)#, data['X'][0])\n",
    "    print('weights', data['weights'][:50].shape, data['weights'][0])'''\n",
    "    data_without_excepted = data['X'][np.isin(data['PatientName'], excepted)]\n",
    "    print(np.unique(data['PatientName']))\n",
    "    if data_without_excepted.shape[0] != 0:\n",
    "        print('ACHTUNG!', p)"
   ]
  },
  {
   "cell_type": "code",
   "execution_count": null,
   "id": "4781186c",
   "metadata": {},
   "outputs": [],
   "source": []
  }
 ],
 "metadata": {
  "kernelspec": {
   "display_name": "Python 3",
   "language": "python",
   "name": "python3"
  },
  "language_info": {
   "codemirror_mode": {
    "name": "ipython",
    "version": 3
   },
   "file_extension": ".py",
   "mimetype": "text/x-python",
   "name": "python",
   "nbconvert_exporter": "python",
   "pygments_lexer": "ipython3",
   "version": "3.8.8"
  }
 },
 "nbformat": 4,
 "nbformat_minor": 5
}
