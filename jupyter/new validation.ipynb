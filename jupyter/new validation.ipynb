{
 "cells": [
  {
   "cell_type": "code",
   "execution_count": 1,
   "id": "tutorial-deployment",
   "metadata": {},
   "outputs": [
    {
     "data": {
      "text/plain": [
       "56"
      ]
     },
     "execution_count": 1,
     "metadata": {},
     "output_type": "execute_result"
    }
   ],
   "source": [
    "fff = [16, 19, 18, 10, 18, 11, 18, 7, 20, 24, 29, 6, 7, 12, 26, 7, 7, 7,11, 14, 10, 13, 15, 18, 11, 15, 11, 18, 10, 12, 7, 18, 12, 13, 7, 11, 7, 6, 10, 7, 6, 29, 15, 7, 7, 13, 6, 24, 21, 7, 6, 18, 13, 11, 11, 11]\n",
    "len(fff)"
   ]
  },
  {
   "cell_type": "code",
   "execution_count": 3,
   "id": "absolute-provincial",
   "metadata": {},
   "outputs": [
    {
     "data": {
      "text/plain": [
       "12.910714285714286"
      ]
     },
     "execution_count": 3,
     "metadata": {},
     "output_type": "execute_result"
    }
   ],
   "source": [
    "import numpy as np\n",
    "\n",
    "np.mean(fff)"
   ]
  },
  {
   "cell_type": "code",
   "execution_count": 8,
   "id": "steady-picnic",
   "metadata": {},
   "outputs": [
    {
     "name": "stdout",
     "output_type": "stream",
     "text": [
      "(5,)\n",
      "(12,)\n"
     ]
    }
   ],
   "source": [
    "fff = np.array(fff)\n",
    "print(np.flatnonzero(fff == 6).shape)\n",
    "print(np.flatnonzero(fff == 7).shape)"
   ]
  },
  {
   "cell_type": "code",
   "execution_count": null,
   "id": "focused-hampton",
   "metadata": {},
   "outputs": [],
   "source": [
    "from glob import glob \n",
    "\n",
    "paths = glob.glob()"
   ]
  }
 ],
 "metadata": {
  "kernelspec": {
   "display_name": "Python 3",
   "language": "python",
   "name": "python3"
  },
  "language_info": {
   "codemirror_mode": {
    "name": "ipython",
    "version": 3
   },
   "file_extension": ".py",
   "mimetype": "text/x-python",
   "name": "python",
   "nbconvert_exporter": "python",
   "pygments_lexer": "ipython3",
   "version": "3.8.8"
  }
 },
 "nbformat": 4,
 "nbformat_minor": 5
}
