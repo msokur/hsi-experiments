{
 "cells": [
  {
   "cell_type": "code",
   "execution_count": 1,
   "id": "resistant-grade",
   "metadata": {},
   "outputs": [
    {
     "name": "stderr",
     "output_type": "stream",
     "text": [
      "100%|██████████| 10/10 [00:23<00:00,  2.31s/it]\n",
      "<ipython-input-1-b0a07743b844>:22: RuntimeWarning: divide by zero encountered in true_divide\n",
      "  weights = summ / quantities\n",
      "0it [00:00, ?it/s]"
     ]
    },
    {
     "name": "stdout",
     "output_type": "stream",
     "text": [
      "[[22885  9521 15524]\n",
      " [74271  2884     0]\n",
      " [ 8730   912  4545]\n",
      " [14401  3826 28302]\n",
      " [83599  1788 53220]\n",
      " [24915 26900 93658]\n",
      " [59706  1508 27101]\n",
      " [    0   400 44565]\n",
      " [12829  8711 14200]\n",
      " [67920  4964  5439]]\n",
      "717224\n",
      "[[  31.34035394   75.33074257   46.20097913]\n",
      " [   9.65685126  248.69070735           inf]\n",
      " [  82.15624284  786.42982456  157.80506051]\n",
      " [  49.80376363  187.46053319   25.3418133 ]\n",
      " [   8.57933707  401.13199105   13.47658775]\n",
      " [  28.78683524   26.66260223    7.65790429]\n",
      " [  12.01259505  475.6127321    26.4648537 ]\n",
      " [          inf 1793.06         16.09388534]\n",
      " [  55.90646192   82.33543795   50.50873239]\n",
      " [  10.5598351   144.48509267  131.8668873 ]]\n"
     ]
    },
    {
     "name": "stderr",
     "output_type": "stream",
     "text": [
      "4it [00:28,  7.00s/it]\n"
     ]
    },
    {
     "ename": "KeyboardInterrupt",
     "evalue": "",
     "output_type": "error",
     "traceback": [
      "\u001b[0;31m---------------------------------------------------------------------------\u001b[0m",
      "\u001b[0;31mKeyboardInterrupt\u001b[0m                         Traceback (most recent call last)",
      "\u001b[0;32m<ipython-input-1-b0a07743b844>\u001b[0m in \u001b[0;36m<module>\u001b[0;34m\u001b[0m\n\u001b[1;32m     37\u001b[0m     \u001b[0mdata\u001b[0m\u001b[0;34m[\u001b[0m\u001b[0;34m'weights'\u001b[0m\u001b[0;34m]\u001b[0m \u001b[0;34m=\u001b[0m \u001b[0mweights_\u001b[0m\u001b[0;34m\u001b[0m\u001b[0;34m\u001b[0m\u001b[0m\n\u001b[1;32m     38\u001b[0m \u001b[0;34m\u001b[0m\u001b[0m\n\u001b[0;32m---> 39\u001b[0;31m     \u001b[0mnp\u001b[0m\u001b[0;34m.\u001b[0m\u001b[0msavez\u001b[0m\u001b[0;34m(\u001b[0m\u001b[0mstr\u001b[0m\u001b[0;34m(\u001b[0m\u001b[0mi\u001b[0m\u001b[0;34m)\u001b[0m\u001b[0;34m,\u001b[0m \u001b[0;34m**\u001b[0m\u001b[0mdata\u001b[0m\u001b[0;34m)\u001b[0m\u001b[0;34m\u001b[0m\u001b[0;34m\u001b[0m\u001b[0m\n\u001b[0m\u001b[1;32m     40\u001b[0m \u001b[0;34m\u001b[0m\u001b[0m\n\u001b[1;32m     41\u001b[0m \u001b[0;34m\u001b[0m\u001b[0m\n",
      "\u001b[0;32m<__array_function__ internals>\u001b[0m in \u001b[0;36msavez\u001b[0;34m(*args, **kwargs)\u001b[0m\n",
      "\u001b[0;32m/nfs/cluster/jupyterlab/opt/anaconda3/envs/jupyterlab/lib/python3.8/site-packages/numpy/lib/npyio.py\u001b[0m in \u001b[0;36msavez\u001b[0;34m(file, *args, **kwds)\u001b[0m\n\u001b[1;32m    614\u001b[0m     \u001b[0marray\u001b[0m\u001b[0;34m(\u001b[0m\u001b[0;34m[\u001b[0m\u001b[0;36m0\u001b[0m\u001b[0;34m,\u001b[0m \u001b[0;36m1\u001b[0m\u001b[0;34m,\u001b[0m \u001b[0;36m2\u001b[0m\u001b[0;34m,\u001b[0m \u001b[0;36m3\u001b[0m\u001b[0;34m,\u001b[0m \u001b[0;36m4\u001b[0m\u001b[0;34m,\u001b[0m \u001b[0;36m5\u001b[0m\u001b[0;34m,\u001b[0m \u001b[0;36m6\u001b[0m\u001b[0;34m,\u001b[0m \u001b[0;36m7\u001b[0m\u001b[0;34m,\u001b[0m \u001b[0;36m8\u001b[0m\u001b[0;34m,\u001b[0m \u001b[0;36m9\u001b[0m\u001b[0;34m]\u001b[0m\u001b[0;34m)\u001b[0m\u001b[0;34m\u001b[0m\u001b[0;34m\u001b[0m\u001b[0m\n\u001b[1;32m    615\u001b[0m     \"\"\"\n\u001b[0;32m--> 616\u001b[0;31m     \u001b[0m_savez\u001b[0m\u001b[0;34m(\u001b[0m\u001b[0mfile\u001b[0m\u001b[0;34m,\u001b[0m \u001b[0margs\u001b[0m\u001b[0;34m,\u001b[0m \u001b[0mkwds\u001b[0m\u001b[0;34m,\u001b[0m \u001b[0;32mFalse\u001b[0m\u001b[0;34m)\u001b[0m\u001b[0;34m\u001b[0m\u001b[0;34m\u001b[0m\u001b[0m\n\u001b[0m\u001b[1;32m    617\u001b[0m \u001b[0;34m\u001b[0m\u001b[0m\n\u001b[1;32m    618\u001b[0m \u001b[0;34m\u001b[0m\u001b[0m\n",
      "\u001b[0;32m/nfs/cluster/jupyterlab/opt/anaconda3/envs/jupyterlab/lib/python3.8/site-packages/numpy/lib/npyio.py\u001b[0m in \u001b[0;36m_savez\u001b[0;34m(file, args, kwds, compress, allow_pickle, pickle_kwargs)\u001b[0m\n\u001b[1;32m    751\u001b[0m             \u001b[0mos\u001b[0m\u001b[0;34m.\u001b[0m\u001b[0mremove\u001b[0m\u001b[0;34m(\u001b[0m\u001b[0mtmpfile\u001b[0m\u001b[0;34m)\u001b[0m\u001b[0;34m\u001b[0m\u001b[0;34m\u001b[0m\u001b[0m\n\u001b[1;32m    752\u001b[0m \u001b[0;34m\u001b[0m\u001b[0m\n\u001b[0;32m--> 753\u001b[0;31m     \u001b[0mzipf\u001b[0m\u001b[0;34m.\u001b[0m\u001b[0mclose\u001b[0m\u001b[0;34m(\u001b[0m\u001b[0;34m)\u001b[0m\u001b[0;34m\u001b[0m\u001b[0;34m\u001b[0m\u001b[0m\n\u001b[0m\u001b[1;32m    754\u001b[0m \u001b[0;34m\u001b[0m\u001b[0m\n\u001b[1;32m    755\u001b[0m \u001b[0;34m\u001b[0m\u001b[0m\n",
      "\u001b[0;32m/nfs/cluster/jupyterlab/opt/anaconda3/envs/jupyterlab/lib/python3.8/zipfile.py\u001b[0m in \u001b[0;36mclose\u001b[0;34m(self)\u001b[0m\n\u001b[1;32m   1841\u001b[0m             \u001b[0mfp\u001b[0m \u001b[0;34m=\u001b[0m \u001b[0mself\u001b[0m\u001b[0;34m.\u001b[0m\u001b[0mfp\u001b[0m\u001b[0;34m\u001b[0m\u001b[0;34m\u001b[0m\u001b[0m\n\u001b[1;32m   1842\u001b[0m             \u001b[0mself\u001b[0m\u001b[0;34m.\u001b[0m\u001b[0mfp\u001b[0m \u001b[0;34m=\u001b[0m \u001b[0;32mNone\u001b[0m\u001b[0;34m\u001b[0m\u001b[0;34m\u001b[0m\u001b[0m\n\u001b[0;32m-> 1843\u001b[0;31m             \u001b[0mself\u001b[0m\u001b[0;34m.\u001b[0m\u001b[0m_fpclose\u001b[0m\u001b[0;34m(\u001b[0m\u001b[0mfp\u001b[0m\u001b[0;34m)\u001b[0m\u001b[0;34m\u001b[0m\u001b[0;34m\u001b[0m\u001b[0m\n\u001b[0m\u001b[1;32m   1844\u001b[0m \u001b[0;34m\u001b[0m\u001b[0m\n\u001b[1;32m   1845\u001b[0m     \u001b[0;32mdef\u001b[0m \u001b[0m_write_end_record\u001b[0m\u001b[0;34m(\u001b[0m\u001b[0mself\u001b[0m\u001b[0;34m)\u001b[0m\u001b[0;34m:\u001b[0m\u001b[0;34m\u001b[0m\u001b[0;34m\u001b[0m\u001b[0m\n",
      "\u001b[0;32m/nfs/cluster/jupyterlab/opt/anaconda3/envs/jupyterlab/lib/python3.8/zipfile.py\u001b[0m in \u001b[0;36m_fpclose\u001b[0;34m(self, fp)\u001b[0m\n\u001b[1;32m   1951\u001b[0m         \u001b[0mself\u001b[0m\u001b[0;34m.\u001b[0m\u001b[0m_fileRefCnt\u001b[0m \u001b[0;34m-=\u001b[0m \u001b[0;36m1\u001b[0m\u001b[0;34m\u001b[0m\u001b[0;34m\u001b[0m\u001b[0m\n\u001b[1;32m   1952\u001b[0m         \u001b[0;32mif\u001b[0m \u001b[0;32mnot\u001b[0m \u001b[0mself\u001b[0m\u001b[0;34m.\u001b[0m\u001b[0m_fileRefCnt\u001b[0m \u001b[0;32mand\u001b[0m \u001b[0;32mnot\u001b[0m \u001b[0mself\u001b[0m\u001b[0;34m.\u001b[0m\u001b[0m_filePassed\u001b[0m\u001b[0;34m:\u001b[0m\u001b[0;34m\u001b[0m\u001b[0;34m\u001b[0m\u001b[0m\n\u001b[0;32m-> 1953\u001b[0;31m             \u001b[0mfp\u001b[0m\u001b[0;34m.\u001b[0m\u001b[0mclose\u001b[0m\u001b[0;34m(\u001b[0m\u001b[0;34m)\u001b[0m\u001b[0;34m\u001b[0m\u001b[0;34m\u001b[0m\u001b[0m\n\u001b[0m\u001b[1;32m   1954\u001b[0m \u001b[0;34m\u001b[0m\u001b[0m\n\u001b[1;32m   1955\u001b[0m \u001b[0;34m\u001b[0m\u001b[0m\n",
      "\u001b[0;31mKeyboardInterrupt\u001b[0m: "
     ]
    }
   ],
   "source": [
    "import glob\n",
    "import numpy as np\n",
    "from tqdm import tqdm\n",
    "\n",
    "paths = glob.glob('/work/users/mi186veva/data_bea/raw_3d/*.npz')\n",
    "\n",
    "quantities = []\n",
    "\n",
    "for path in tqdm(paths):\n",
    "    data = np.load(path)\n",
    "    X, y = data['X'], data['y']\n",
    "    quantities.append([X[y == 0].shape[0], X[y == 1].shape[0], X[y == 2].shape[0]])\n",
    "\n",
    "    \n",
    "quantities = np.array(quantities)\n",
    "print(quantities)\n",
    "\n",
    "summ = np.sum(quantities)\n",
    "\n",
    "print(summ)\n",
    "\n",
    "weights = summ / quantities\n",
    "\n",
    "print(weights)\n",
    "\n",
    "np.savez('weights', weights=weights, summ=summ, quantities=quantities)\n",
    "\n",
    "for i, path in tqdm(enumerate(paths)):\n",
    "    data = np.load(path)\n",
    "    X, y = data['X'], data['y']\n",
    "    weights_ = np.zeros(y.shape)\n",
    "    \n",
    "    for j in np.unique(y):\n",
    "        weights_[y == j] = weights[i, j]\n",
    "    \n",
    "    data = {n: a for n, a in data.items()}\n",
    "    data['weights'] = weights_\n",
    "    \n",
    "    np.savez(str(i), **data)\n",
    "        \n",
    "    \n"
   ]
  },
  {
   "cell_type": "code",
   "execution_count": 6,
   "id": "mathematical-scotland",
   "metadata": {},
   "outputs": [
    {
     "name": "stdout",
     "output_type": "stream",
     "text": [
      "X (47930, 5, 5, 81)\n",
      "[ 6.45037286 16.13528512 18.45877351]\n",
      "y (47930,)\n",
      "[ 6.45037286 16.13528512 18.45877351]\n",
      "indexes_in_datacube (47930, 2)\n",
      "[ 6.45037286 16.13528512 18.45877351]\n",
      "weights (47930,)\n",
      "[ 6.45037286 16.13528512 18.45877351]\n",
      "X (77155, 5, 5, 81)\n",
      "[ 4.97173863 21.29472954]\n",
      "y (77155,)\n",
      "[ 4.97173863 21.29472954]\n",
      "indexes_in_datacube (77155, 2)\n",
      "[ 4.97173863 21.29472954]\n",
      "weights (77155,)\n",
      "[ 4.97173863 21.29472954]\n",
      "X (14187, 5, 5, 81)\n",
      "[42.29736541 63.04818482 67.33991228]\n",
      "y (14187,)\n",
      "[42.29736541 63.04818482 67.33991228]\n",
      "indexes_in_datacube (14187, 2)\n",
      "[42.29736541 63.04818482 67.33991228]\n",
      "weights (14187,)\n",
      "[42.29736541 63.04818482 67.33991228]\n",
      "X (46529, 5, 5, 81)\n",
      "[10.1248675  16.05175118 25.64099715]\n",
      "y (46529,)\n",
      "[10.1248675  16.05175118 25.64099715]\n",
      "indexes_in_datacube (46529, 2)\n",
      "[10.1248675  16.05175118 25.64099715]\n",
      "weights (46529,)\n",
      "[10.1248675  16.05175118 25.64099715]\n",
      "X (138607, 5, 5, 81)\n",
      "[ 4.41699063  5.3843292  34.34787472]\n",
      "y (138607,)\n",
      "[ 4.41699063  5.3843292  34.34787472]\n",
      "indexes_in_datacube (138607, 2)\n",
      "[ 4.41699063  5.3843292  34.34787472]\n",
      "weights (138607,)\n",
      "[ 4.41699063  5.3843292  34.34787472]\n",
      "X (145473, 5, 5, 81)\n",
      "[ 2.28304833  3.05957847 14.82063014]\n",
      "y (145473,)\n",
      "[ 2.28304833  3.05957847 14.82063014]\n",
      "indexes_in_datacube (145473, 2)\n",
      "[ 2.28304833  3.05957847 14.82063014]\n",
      "weights (145473,)\n",
      "[ 2.28304833  3.05957847 14.82063014]\n",
      "X (88315, 5, 5, 81)\n",
      "[ 6.18457106 10.57355817 40.72546419]\n",
      "y (88315,)\n",
      "[ 6.18457106 10.57355817 40.72546419]\n",
      "indexes_in_datacube (88315, 2)\n",
      "[ 6.18457106 10.57355817 40.72546419]\n",
      "weights (88315,)\n",
      "[ 6.18457106 10.57355817 40.72546419]\n",
      "X (44965, 5, 5, 81)\n",
      "[  6.43002356 153.535     ]\n",
      "y (44965,)\n",
      "[  6.43002356 153.535     ]\n",
      "indexes_in_datacube (44965, 2)\n",
      "[  6.43002356 153.535     ]\n",
      "weights (44965,)\n",
      "[  6.43002356 153.535     ]\n",
      "X (35740, 5, 5, 81)\n",
      "[ 7.05016646 20.17985915 28.78291371]\n",
      "y (35740,)\n",
      "[ 7.05016646 20.17985915 28.78291371]\n",
      "indexes_in_datacube (35740, 2)\n",
      "[ 7.05016646 20.17985915 28.78291371]\n",
      "weights (35740,)\n",
      "[ 7.05016646 20.17985915 28.78291371]\n",
      "X (78323, 5, 5, 81)\n",
      "[ 5.43663133 12.37187752 52.6850524 ]\n",
      "y (78323,)\n",
      "[ 5.43663133 12.37187752 52.6850524 ]\n",
      "indexes_in_datacube (78323, 2)\n",
      "[ 5.43663133 12.37187752 52.6850524 ]\n",
      "weights (78323,)\n",
      "[ 5.43663133 12.37187752 52.6850524 ]\n"
     ]
    }
   ],
   "source": [
    "for i in range(10):\n",
    "    data = np.load(str(i)+'.npz')\n",
    "\n",
    "    for n, a in data.items():\n",
    "        print(n, a.shape)\n",
    "    \n",
    "    print(np.unique(data['weights']))"
   ]
  },
  {
   "cell_type": "code",
   "execution_count": 2,
   "id": "blank-hardware",
   "metadata": {},
   "outputs": [
    {
     "data": {
      "text/plain": [
       "dict_keys(['a', 'b'])"
      ]
     },
     "execution_count": 2,
     "metadata": {},
     "output_type": "execute_result"
    }
   ],
   "source": [
    "f = {'a':'d', 'b':'d'}\n",
    "f.keys()"
   ]
  },
  {
   "cell_type": "code",
   "execution_count": 16,
   "id": "dominant-antenna",
   "metadata": {},
   "outputs": [
    {
     "name": "stdout",
     "output_type": "stream",
     "text": [
      "X y PatientName PatientIndex indexes_in_datacube weights\n",
      "True\n"
     ]
    }
   ],
   "source": [
    "import glob\n",
    "paths = glob.glob('/work/users/mi186veva/data_bea/raw_3d_weights/batch_sized/*.npz')\n",
    "\n",
    "for path in paths[:1]:\n",
    "    data = np.load(path)\n",
    "    print(*data)\n",
    "    \n",
    "    print('weights' in data.keys())"
   ]
  },
  {
   "cell_type": "code",
   "execution_count": 4,
   "id": "rising-dairy",
   "metadata": {},
   "outputs": [
    {
     "name": "stdout",
     "output_type": "stream",
     "text": [
      "['g', 'a', 'd']\n",
      "['a', 'd', 'g']\n"
     ]
    }
   ],
   "source": [
    "f = ['g', 'a', 'd']\n",
    "sorted(f)\n",
    "print(f)\n",
    "f = sorted(f)\n",
    "print(f)"
   ]
  },
  {
   "cell_type": "code",
   "execution_count": 7,
   "id": "verified-america",
   "metadata": {},
   "outputs": [
    {
     "name": "stdout",
     "output_type": "stream",
     "text": [
      "[[   64.2922574    644.4094822    107.82412125]\n",
      " [           inf    64.4566835     67.90834868]\n",
      " [   51.33457181  1195.86051502   455.03892216]\n",
      " [  270.34492238            inf            inf]\n",
      " [   40.41938188   146.30375427   433.74894059]\n",
      " [   53.03302246  1107.16092715  1917.9499044 ]\n",
      " [  105.75740132            inf            inf]\n",
      " [   82.48263329  2126.08690123   695.91216872]\n",
      " [   43.17364357            inf            inf]\n",
      " [   48.96694166  2233.05387355   723.83302064]\n",
      " [   95.26180934  2697.92307692   410.63034223]\n",
      " [  384.20706297  8024.7024                inf]\n",
      " [   47.20502033            inf            inf]\n",
      " [   61.04626451   839.40401674   411.33757074]\n",
      " [   37.33392139  2186.32911944   594.66907754]\n",
      " [   74.9210373    930.68083132   439.06495667]\n",
      " [  250.32137153  5071.22244692  1592.20285714]\n",
      " [  249.87240933  2612.2078125   1671.2559147 ]\n",
      " [   70.32007908   289.32443034   115.91566516]\n",
      " [   53.8016005   1119.76758205   244.15534028]\n",
      " [   64.08360166  1191.88189163   742.47801628]\n",
      " [   43.02623384   409.79156794   147.78239731]\n",
      " [   42.5744372    477.0701988    368.8907767 ]\n",
      " [   38.11963883  1085.12310688   219.13920566]\n",
      " [   77.71295981  2616.29577465  1250.10942173]\n",
      " [  280.584                 inf            inf]\n",
      " [  376.16732918  2775.56115108  1588.16941102]\n",
      " [   44.73996004   351.78782353   195.9998046 ]\n",
      " [   69.88016218   550.24015359   404.73200452]\n",
      " [   41.36478651   357.68356868   210.77701198]\n",
      " [  176.04826424            inf  8602.81132075]\n",
      " [   89.26015768   285.89403181   379.8136312 ]\n",
      " [   51.35612328   729.41230366  2391.72103004]\n",
      " [  247.55375123   707.49597969   224.98829176]\n",
      " [   45.94323324  6651.77586207  7787.94875776]\n",
      " [  125.87057672   161.25776477    71.36062775]\n",
      " [   71.2410193    143.21232975   112.20723522]\n",
      " [   41.72092269            inf            inf]\n",
      " [   36.45444502   491.18000196  1328.59311258]\n",
      " [   65.72453152   548.07551087   290.9187355 ]\n",
      " [   49.22840373            inf            inf]\n",
      " [  149.22016602   352.10888795   258.44785118]\n",
      " [   74.36890569  1098.9130149    636.55781191]\n",
      " [   29.77670318 10470.64509395   515.46135663]\n",
      " [   25.77531953  2267.37748644   715.87767628]\n",
      " [  260.69125214  3790.95918367  1547.02004935]\n",
      " [   32.35600098  1094.1184555   1590.68791627]\n",
      " [   82.13144794   204.39477545    77.97756495]\n",
      " [   63.87792297   264.65299984   460.68145495]\n",
      " [   87.20985915  1559.04227541   325.08679025]\n",
      " [   44.17332218   777.46690436   514.82642168]\n",
      " [   34.40038821   383.53131452   337.19503832]\n",
      " [   45.79682235  7519.3988006   1533.7733945 ]\n",
      " [   50.70504681            inf            inf]\n",
      " [   43.32281526   269.16969892   431.62125645]\n",
      " [  314.11279514 23436.63084112 17235.18556701]]\n",
      "5015439\n",
      "[[ 78010   7783  46515]\n",
      " [     0  77811  73856]\n",
      " [ 97701   4194  11022]\n",
      " [ 18552      0      0]\n",
      " [124085  34281  11563]\n",
      " [ 94572   4530   2615]\n",
      " [ 47424      0      0]\n",
      " [ 60806   2359   7207]\n",
      " [116169      0      0]\n",
      " [102425   2246   6929]\n",
      " [ 52649   1859  12214]\n",
      " [ 13054    625      0]\n",
      " [106248      0      0]\n",
      " [ 82158   5975  12193]\n",
      " [134340   2294   8434]\n",
      " [ 66943   5389  11423]\n",
      " [ 20036    989   3150]\n",
      " [ 20072   1920   3001]\n",
      " [ 71323  17335  43268]\n",
      " [ 93221   4479  20542]\n",
      " [ 78264   4208   6755]\n",
      " [116567  12239  33938]\n",
      " [117804  10513  13596]\n",
      " [131571   4622  22887]\n",
      " [ 64538   1917   4012]\n",
      " [ 17875      0      0]\n",
      " [ 13333   1807   3158]\n",
      " [112102  14257  25589]\n",
      " [ 71772   9115  12392]\n",
      " [121249  14022  23795]\n",
      " [ 28489      0    583]\n",
      " [ 56189  17543  13205]\n",
      " [ 97660   6876   2097]\n",
      " [ 20260   7089  22292]\n",
      " [109166    754    644]\n",
      " [ 39846  31102  70283]\n",
      " [ 70401  35021  44698]\n",
      " [120214      0      0]\n",
      " [137581  10211   3775]\n",
      " [ 76310   9151  17240]\n",
      " [101881      0      0]\n",
      " [ 33611  14244  19406]\n",
      " [ 67440   4564   7879]\n",
      " [168435    479   9730]\n",
      " [194583   2212   7006]\n",
      " [ 19239   1323   3242]\n",
      " [155008   4584   3153]\n",
      " [ 61066  24538  64319]\n",
      " [ 78516  18951  10887]\n",
      " [ 57510   3217  15428]\n",
      " [113540   6451   9742]\n",
      " [145796  13077  14874]\n",
      " [109515    667   3270]\n",
      " [ 98914      0      0]\n",
      " [115769  18633  11620]\n",
      " [ 15967    214    291]]\n"
     ]
    },
    {
     "data": {
      "text/plain": [
       "array([4537769,  477670,  775718])"
      ]
     },
     "execution_count": 7,
     "metadata": {},
     "output_type": "execute_result"
    }
   ],
   "source": [
    "import pickle\n",
    "import numpy as np\n",
    "\n",
    "weights = pickle.load(open('/work/users/mi186veva/data_preprocessed/raw_3d_weighted/.weights', 'rb'))\n",
    "\n",
    "print(weights['weights'])\n",
    "print(weights['summ'])\n",
    "print(weights['quantities'])\n",
    "\n",
    "np.sum(weights['quantities'])\n",
    "np.sum(weights['quantities'], axis=0)"
   ]
  },
  {
   "cell_type": "code",
   "execution_count": null,
   "id": "coordinate-device",
   "metadata": {},
   "outputs": [],
   "source": []
  }
 ],
 "metadata": {
  "kernelspec": {
   "display_name": "Python 3",
   "language": "python",
   "name": "python3"
  },
  "language_info": {
   "codemirror_mode": {
    "name": "ipython",
    "version": 3
   },
   "file_extension": ".py",
   "mimetype": "text/x-python",
   "name": "python",
   "nbconvert_exporter": "python",
   "pygments_lexer": "ipython3",
   "version": "3.8.8"
  }
 },
 "nbformat": 4,
 "nbformat_minor": 5
}
