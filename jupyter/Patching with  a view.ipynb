{
 "cells": [
  {
   "cell_type": "markdown",
   "id": "5936089f",
   "metadata": {},
   "source": [
    "# Patching with a view\n",
    "\n",
    "We have sometimes the problem, that we get an OOM when we patch our arrays. So we can use 'view_as_windows' from skimage.util.shape to create an patched array that only use views from the original array."
   ]
  },
  {
   "cell_type": "code",
   "execution_count": 1,
   "id": "de5ef8e8",
   "metadata": {},
   "outputs": [],
   "source": [
    "import numpy as np\n",
    "import os\n",
    "import psutil\n",
    "\n",
    "from skimage.util.shape import view_as_windows\n",
    "from sklearn.feature_extraction import image\n",
    "from datetime import datetime"
   ]
  },
  {
   "cell_type": "code",
   "execution_count": 2,
   "id": "2141d37f",
   "metadata": {},
   "outputs": [],
   "source": [
    "# this function is to print the used memory\n",
    "def get_used_memory(process_id: int, unit: str = \"GB\") -> str:\n",
    "    unit = unit.upper()\n",
    "    exponent = 0\n",
    "\n",
    "    if unit == \"KB\":\n",
    "        exponent = 1\n",
    "    elif unit == \"MB\":\n",
    "        exponent = 2\n",
    "    elif unit == \"GB\":\n",
    "        exponent = 3\n",
    "    else:\n",
    "        unit = \"BYTES\"\n",
    "\n",
    "    process = psutil.Process(process_id)\n",
    "    memory = process.memory_info().rss\n",
    "    memory /= 1024 ** exponent\n",
    "    return f\"{round(memory, 3)} {unit}\""
   ]
  },
  {
   "cell_type": "code",
   "execution_count": 3,
   "id": "b20b776e",
   "metadata": {},
   "outputs": [],
   "source": [
    "def get_pad_width(patch_size):\n",
    "    pad = [int((s - 1) / 2) for s in patch_size]\n",
    "    pad_width = [[pad[idx], pad[idx]] if s % 2 == 1 else [pad[idx], pad[idx] + 1] for idx, s in enumerate(patch_size)]\n",
    "    pad_width.append([0, 0])\n",
    "\n",
    "    return pad_width"
   ]
  },
  {
   "cell_type": "code",
   "execution_count": 4,
   "id": "fbbc8811",
   "metadata": {},
   "outputs": [],
   "source": [
    "def old_patch_function(spectrum: np.ndarray, patch_size):\n",
    "    # Better not to use non even sizes\n",
    "    pad_width = get_pad_width(patch_size=patch_size)\n",
    "    spectrum_ = np.pad(array=spectrum, pad_width=np.array(pad_width))\n",
    "\n",
    "    patches = image.extract_patches_2d(spectrum_, tuple(patch_size))\n",
    "    patches = np.reshape(patches, (spectrum.shape[0], spectrum.shape[1], patch_size[0], patch_size[1], patches.shape[-1]))\n",
    "\n",
    "    return patches"
   ]
  },
  {
   "cell_type": "code",
   "execution_count": 5,
   "id": "065398a0",
   "metadata": {},
   "outputs": [],
   "source": [
    "def new_patch_function(arr, patch_size, max_patches=None):\n",
    "    \"\"\"Extract patches from the input array as a view.\"\"\"\n",
    "    window_shape = (patch_size[0], patch_size[1], arr.shape[2] if len(arr.shape) > 2 else 1)\n",
    "    patches = view_as_windows(arr, window_shape, step=1).squeeze()\n",
    "    if max_patches is not None:\n",
    "        patches = patches[:max_patches]\n",
    "    return patches"
   ]
  },
  {
   "cell_type": "code",
   "execution_count": 6,
   "id": "b0e73703",
   "metadata": {},
   "outputs": [],
   "source": [
    "def compare_functions(patch_size):\n",
    "    process_id = os.getpid()\n",
    "\n",
    "    size_ = [480, 640, 100]\n",
    "    arr_ = np.arange(np.prod(size_)).reshape(size_)\n",
    "\n",
    "    print(f\"Memory only with original arrays: {get_used_memory(process_id)}\")\n",
    "    patch_shape_ = (5, 5)\n",
    "    start_time_new = datetime.now()\n",
    "    arr_pad = np.pad(arr_, get_pad_width(patch_size))\n",
    "    print(f\"Memory with original and pad arrays: {get_used_memory(process_id)}\")\n",
    "    patches_1 = new_patch_function(arr_pad, patch_size)\n",
    "    print(f\"Memory after new patch function: {get_used_memory(process_id)}\")\n",
    "    print(f\"Execution time is: {datetime.now() - start_time_new}\")\n",
    "    print(\"Pad array an array with new pad function share memory:\", np.shares_memory(arr_pad, patches_1))\n",
    "\n",
    "    start_time_old = datetime.now()\n",
    "    patches_2 = old_patch_function(arr_, patch_size)\n",
    "    print(f\"Memory after old patch function: {get_used_memory(process_id)}\")\n",
    "    print(f\"Execution time is: {datetime.now() - start_time_old}\")\n",
    "    print(\"Array from new and old functon are the same:\", np.all(patches_1 == patches_2))"
   ]
  },
  {
   "cell_type": "code",
   "execution_count": 7,
   "id": "a5c46f6a",
   "metadata": {},
   "outputs": [
    {
     "name": "stdout",
     "output_type": "stream",
     "text": [
      "Patch size: (3, 3)\n",
      "Memory only with original arrays: 0.235 GB\n",
      "Memory with original and pad arrays: 0.35 GB\n",
      "Memory after new patch function: 0.35 GB\n",
      "Execution time is: 0:00:00.117473\n",
      "Pad array an array with new pad function share memory: True\n",
      "Memory after old patch function: 1.38 GB\n",
      "Execution time is: 0:00:01.056018\n",
      "Array from new and old functon are the same: True\n",
      "\n",
      "Patch size: (5, 5)\n",
      "Memory only with original arrays: 0.235 GB\n",
      "Memory with original and pad arrays: 0.351 GB\n",
      "Memory after new patch function: 0.351 GB\n",
      "Execution time is: 0:00:00.091104\n",
      "Pad array an array with new pad function share memory: True\n",
      "Memory after old patch function: 3.212 GB\n",
      "Execution time is: 0:00:02.309445\n",
      "Array from new and old functon are the same: True\n",
      "\n",
      "Patch size: (7, 7)\n",
      "Memory only with original arrays: 0.235 GB\n",
      "Memory with original and pad arrays: 0.352 GB\n",
      "Memory after new patch function: 0.352 GB\n",
      "Execution time is: 0:00:00.088413\n",
      "Pad array an array with new pad function share memory: True\n",
      "Memory after old patch function: 5.96 GB\n",
      "Execution time is: 0:00:03.988624\n",
      "Array from new and old functon are the same: True\n",
      "\n",
      "Patch size: (9, 9)\n",
      "Memory only with original arrays: 0.235 GB\n",
      "Memory with original and pad arrays: 0.353 GB\n",
      "Memory after new patch function: 0.353 GB\n",
      "Execution time is: 0:00:00.103934\n",
      "Pad array an array with new pad function share memory: True\n",
      "Memory after old patch function: 9.623 GB\n",
      "Execution time is: 0:00:06.537983\n",
      "Array from new and old functon are the same: True\n",
      "\n"
     ]
    }
   ],
   "source": [
    "test_sizes = [(3, 3), (5, 5), (7, 7), (9, 9)]\n",
    "\n",
    "for size in test_sizes:\n",
    "    print(f\"Patch size: {size}\")\n",
    "    compare_functions(patch_size=size)\n",
    "    print(\"\")"
   ]
  },
  {
   "cell_type": "code",
   "execution_count": null,
   "id": "1ca8a1bc",
   "metadata": {},
   "outputs": [],
   "source": []
  }
 ],
 "metadata": {
  "kernelspec": {
   "display_name": "Python 3 (ipykernel)",
   "language": "python",
   "name": "python3"
  },
  "language_info": {
   "codemirror_mode": {
    "name": "ipython",
    "version": 3
   },
   "file_extension": ".py",
   "mimetype": "text/x-python",
   "name": "python",
   "nbconvert_exporter": "python",
   "pygments_lexer": "ipython3",
   "version": "3.11.5"
  }
 },
 "nbformat": 4,
 "nbformat_minor": 5
}
