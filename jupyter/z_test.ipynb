{
 "cells": [
  {
   "cell_type": "code",
   "execution_count": 2,
   "id": "legislative-boost",
   "metadata": {},
   "outputs": [
    {
     "name": "stdout",
     "output_type": "stream",
     "text": [
      "Collecting statsmodels\n",
      "  Downloading statsmodels-0.13.2-cp38-cp38-manylinux_2_17_x86_64.manylinux2014_x86_64.whl (9.9 MB)\n",
      "\u001b[K     |████████████████████████████████| 9.9 MB 4.6 MB/s eta 0:00:01\n",
      "\u001b[?25hCollecting packaging>=21.3\n",
      "  Using cached packaging-21.3-py3-none-any.whl (40 kB)\n",
      "Requirement already satisfied: scipy>=1.3 in /home/sc.uni-leipzig.de/mi186veva/.local/lib/python3.8/site-packages (from statsmodels) (1.8.0)\n",
      "Requirement already satisfied: numpy>=1.17 in /home/sc.uni-leipzig.de/mi186veva/.local/lib/python3.8/site-packages (from statsmodels) (1.22.2)\n",
      "Requirement already satisfied: pandas>=0.25 in /software/jupyterlab/opt/anaconda3/envs/jupyterlab/lib/python3.8/site-packages (from statsmodels) (1.2.3)\n",
      "Collecting patsy>=0.5.2\n",
      "  Downloading patsy-0.5.2-py2.py3-none-any.whl (233 kB)\n",
      "\u001b[K     |████████████████████████████████| 233 kB 67.0 MB/s eta 0:00:01\n",
      "\u001b[?25hRequirement already satisfied: pyparsing!=3.0.5,>=2.0.2 in /software/jupyterlab/opt/anaconda3/envs/jupyterlab/lib/python3.8/site-packages (from packaging>=21.3->statsmodels) (2.4.7)\n",
      "Requirement already satisfied: python-dateutil>=2.7.3 in /software/jupyterlab/opt/anaconda3/envs/jupyterlab/lib/python3.8/site-packages (from pandas>=0.25->statsmodels) (2.8.1)\n",
      "Requirement already satisfied: pytz>=2017.3 in /software/jupyterlab/opt/anaconda3/envs/jupyterlab/lib/python3.8/site-packages (from pandas>=0.25->statsmodels) (2021.1)\n",
      "Requirement already satisfied: six in /software/jupyterlab/opt/anaconda3/envs/jupyterlab/lib/python3.8/site-packages (from patsy>=0.5.2->statsmodels) (1.15.0)\n",
      "Installing collected packages: patsy, packaging, statsmodels\n",
      "Successfully installed packaging-21.3 patsy-0.5.2 statsmodels-0.13.2\n"
     ]
    }
   ],
   "source": [
    "!pip install --user statsmodels"
   ]
  },
  {
   "cell_type": "code",
   "execution_count": 1,
   "id": "weird-equivalent",
   "metadata": {},
   "outputs": [],
   "source": [
    "from statsmodels.stats import weightstats\n",
    "import numpy as np\n",
    "import os\n",
    "from glob import glob\n",
    "from tqdm import tqdm\n",
    "import math\n",
    "from scipy.stats import ks_2samp"
   ]
  },
  {
   "cell_type": "code",
   "execution_count": 2,
   "id": "medical-clearing",
   "metadata": {},
   "outputs": [
    {
     "data": {
      "text/plain": [
       "(-0.5096471914376255, 0.6102986559765544)"
      ]
     },
     "execution_count": 2,
     "metadata": {},
     "output_type": "execute_result"
    }
   ],
   "source": [
    "weightstats.ztest([1, 2, 4], x2=[1, 2, 4, 5], value=0)\n"
   ]
  },
  {
   "cell_type": "code",
   "execution_count": 3,
   "id": "blind-engineer",
   "metadata": {},
   "outputs": [],
   "source": [
    "def get_centers(data):\n",
    "    center = math.floor(data.shape[1] / 2)\n",
    "    \n",
    "    return data[:, center, center, ...]"
   ]
  },
  {
   "cell_type": "code",
   "execution_count": 4,
   "id": "registered-salmon",
   "metadata": {},
   "outputs": [],
   "source": [
    "def get_test_sample_for_exact_feature(paths, index):\n",
    "    \n",
    "    all_data = []\n",
    "    \n",
    "    for p in tqdm(paths):\n",
    "        data = np.load(p)\n",
    "        \n",
    "        data = get_centers(data['X'])\n",
    "        \n",
    "        all_data += list(data[:, index])\n",
    "        \n",
    "    return all_data\n",
    "    "
   ]
  },
  {
   "cell_type": "code",
   "execution_count": 5,
   "id": "existing-drunk",
   "metadata": {},
   "outputs": [
    {
     "data": {
      "text/plain": [
       "(57910, 92)"
      ]
     },
     "execution_count": 5,
     "metadata": {},
     "output_type": "execute_result"
    }
   ],
   "source": [
    "#### Get shuffled archive (or whatever other archive)\n",
    "path = '/work/users/mi186veva/data_3d/raw_3d/shuffled'\n",
    "test_paths = glob(os.path.join(path, '*.npz'))\n",
    "\n",
    "test_archive = np.load(test_paths[0])\n",
    "\n",
    "test_archive['X'].shape\n",
    "\n",
    "get_centers(test_archive['X']).shape"
   ]
  },
  {
   "cell_type": "code",
   "execution_count": 14,
   "id": "structural-enzyme",
   "metadata": {},
   "outputs": [
    {
     "name": "stderr",
     "output_type": "stream",
     "text": [
      "100%|██████████| 100/100 [02:06<00:00,  1.27s/it]\n"
     ]
    }
   ],
   "source": []
  },
  {
   "cell_type": "code",
   "execution_count": 7,
   "id": "numerous-airplane",
   "metadata": {},
   "outputs": [
    {
     "name": "stderr",
     "output_type": "stream",
     "text": [
      "100%|██████████| 100/100 [02:10<00:00,  1.31s/it]\n",
      "100%|██████████| 100/100 [02:10<00:00,  1.31s/it]\n"
     ]
    }
   ],
   "source": [
    "d1 = get_test_sample_for_exact_feature(test_paths, index=i)\n",
    "d1 = np.array(d)\n",
    "\n",
    "d = get_test_sample_for_exact_feature(test_paths, index=i)\n",
    "d = np.array(d)"
   ]
  },
  {
   "cell_type": "code",
   "execution_count": 9,
   "id": "present-eligibility",
   "metadata": {},
   "outputs": [
    {
     "name": "stdout",
     "output_type": "stream",
     "text": [
      "0.0137498295 0.013649579\n",
      "KstestResult(statistic=0.0042379528451611526, pvalue=0.25377458224786)\n",
      "0.25377458224786\n",
      "0 -0.3636557153197523 0.7161151163349144\n"
     ]
    }
   ],
   "source": [
    "for i in range(1):\n",
    "    \n",
    "    \n",
    "    print(np.std(get_centers(test_archive['X'])[:, i]), np.std(d))\n",
    "\n",
    "    z, z1 = weightstats.ztest(get_centers(test_archive['X'])[:, i], x2=d, value=0)\n",
    "    \n",
    "    ks = ks_2samp(d, get_centers(test_archive['X'])[:, i])\n",
    "    print(ks)\n",
    "    print(ks.pvalue)\n",
    "    print(i, z, z1)\n"
   ]
  },
  {
   "cell_type": "code",
   "execution_count": 30,
   "id": "automatic-routine",
   "metadata": {},
   "outputs": [
    {
     "data": {
      "text/plain": [
       "-0.3636557153197523"
      ]
     },
     "execution_count": 30,
     "metadata": {},
     "output_type": "execute_result"
    }
   ],
   "source": [
    "z"
   ]
  },
  {
   "cell_type": "code",
   "execution_count": 31,
   "id": "manual-conservation",
   "metadata": {},
   "outputs": [
    {
     "data": {
      "text/plain": [
       "0.7161151163349144"
      ]
     },
     "execution_count": 31,
     "metadata": {},
     "output_type": "execute_result"
    }
   ],
   "source": [
    "z1"
   ]
  },
  {
   "cell_type": "code",
   "execution_count": 30,
   "id": "fluid-syracuse",
   "metadata": {},
   "outputs": [
    {
     "data": {
      "text/plain": [
       "-0.3636557153197523"
      ]
     },
     "execution_count": 30,
     "metadata": {},
     "output_type": "execute_result"
    }
   ],
   "source": [
    "z"
   ]
  },
  {
   "cell_type": "code",
   "execution_count": null,
   "id": "seasonal-mathematics",
   "metadata": {},
   "outputs": [],
   "source": []
  },
  {
   "cell_type": "code",
   "execution_count": 27,
   "id": "great-scale",
   "metadata": {},
   "outputs": [
    {
     "name": "stdout",
     "output_type": "stream",
     "text": [
      "(57910,)\n",
      "(5791157,)\n"
     ]
    }
   ],
   "source": [
    "print(get_centers(test_archive['X'])[:, 0].shape)\n",
    "print(d.shape)"
   ]
  },
  {
   "cell_type": "code",
   "execution_count": 14,
   "id": "danish-strip",
   "metadata": {},
   "outputs": [
    {
     "name": "stdout",
     "output_type": "stream",
     "text": [
      "(1000,)\n"
     ]
    },
    {
     "data": {
      "image/png": "[encoded data removed]",
      "text/plain": [
       "<Figure size 432x288 with 1 Axes>"
      ]
     },
     "metadata": {
      "needs_background": "light"
     },
     "output_type": "display_data"
    }
   ],
   "source": [
    "import numpy as np\n",
    "import matplotlib.pyplot as plt\n",
    "\n",
    "data = np.random.normal(loc=100, scale=15, size=1000)\n",
    "\n",
    "print(data.shape)\n",
    "plt.hist(data, bins=50)\n",
    "plt.show()"
   ]
  },
  {
   "cell_type": "code",
   "execution_count": 17,
   "id": "certified-agenda",
   "metadata": {},
   "outputs": [
    {
     "name": "stdout",
     "output_type": "stream",
     "text": [
      "(-42.077962647426055, 0.0)\n",
      "(-42.077962647426055, 1.0)\n",
      "(-42.077962647426055, 0.0)\n",
      "(0.09223658259337028, 0.9265100732096735)\n",
      "(0.09223658259337028, 0.46325503660483675)\n",
      "(0.09223658259337028, 0.5367449633951633)\n",
      "(42.26243581261279, 0.0)\n",
      "(42.26243581261279, 0.0)\n",
      "(42.26243581261279, 1.0)\n"
     ]
    }
   ],
   "source": [
    "from statsmodels.stats.weightstats import ztest as ztest\n",
    "\n",
    "#default - что средние одинаковые, то есть по дефолту \n",
    "#до меня дошло - эти все проверки при условии что standart abveichung - одинаковые\n",
    "\n",
    "#alternative: ‘two-sided’, 'larger', 'smaller'\n",
    "print(ztest(data, value=120, alternative='two-sided'))\n",
    "print(ztest(data, value=120, alternative='larger'))\n",
    "print(ztest(data, value=120, alternative='smaller'))\n",
    "\n",
    "print(ztest(data, value=100, alternative='two-sided'))\n",
    "print(ztest(data, value=100, alternative='larger'))\n",
    "print(ztest(data, value=100, alternative='smaller'))\n",
    "\n",
    "print(ztest(data, value=80, alternative='two-sided'))\n",
    "print(ztest(data, value=80, alternative='larger'))\n",
    "print(ztest(data, value=80, alternative='smaller'))\n",
    "\n",
    "#smaller - альтернатива та, у кого среднее меньше\n",
    "#larger - альтернатива та, у кого среднее больше\n",
    "\n",
    "\n",
    "#(1.5976240527147705, 0.1101266701438426)"
   ]
  },
  {
   "cell_type": "code",
   "execution_count": 15,
   "id": "trained-elder",
   "metadata": {},
   "outputs": [
    {
     "data": {
      "text/plain": [
       "True"
      ]
     },
     "execution_count": 15,
     "metadata": {},
     "output_type": "execute_result"
    }
   ],
   "source": [
    "f = np.array([True, True])\n",
    "np.all(f)"
   ]
  },
  {
   "cell_type": "code",
   "execution_count": 1,
   "id": "prepared-clause",
   "metadata": {},
   "outputs": [
    {
     "name": "stdout",
     "output_type": "stream",
     "text": [
      "s\n",
      "s\n",
      "s\n",
      "2\n"
     ]
    }
   ],
   "source": [
    "for i in range(3):\n",
    "    print('s')\n",
    "print(i)"
   ]
  },
  {
   "cell_type": "code",
   "execution_count": 2,
   "id": "injured-proceeding",
   "metadata": {},
   "outputs": [
    {
     "data": {
      "text/plain": [
       "'3'"
      ]
     },
     "execution_count": 2,
     "metadata": {},
     "output_type": "execute_result"
    }
   ],
   "source": [
    "f = ['3', '2']\n",
    "f[0]"
   ]
  },
  {
   "cell_type": "code",
   "execution_count": 6,
   "id": "married-planet",
   "metadata": {},
   "outputs": [
    {
     "data": {
      "text/plain": [
       "['fsf']"
      ]
     },
     "execution_count": 6,
     "metadata": {},
     "output_type": "execute_result"
    }
   ],
   "source": [
    "import numpy as np\n",
    "['fsf']"
   ]
  },
  {
   "cell_type": "code",
   "execution_count": null,
   "id": "adverse-zambia",
   "metadata": {},
   "outputs": [],
   "source": []
  }
 ],
 "metadata": {
  "kernelspec": {
   "display_name": "Python 3.11",
   "language": "python",
   "name": "python3"
  },
  "language_info": {
   "codemirror_mode": {
    "name": "ipython",
    "version": 3
   },
   "file_extension": ".py",
   "mimetype": "text/x-python",
   "name": "python",
   "nbconvert_exporter": "python",
   "pygments_lexer": "ipython3",
   "version": "3.11.0"
  }
 },
 "nbformat": 4,
 "nbformat_minor": 5
}
