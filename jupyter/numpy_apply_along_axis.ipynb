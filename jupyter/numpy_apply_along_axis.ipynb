{
 "cells": [
  {
   "cell_type": "markdown",
   "id": "0f32c2b4",
   "metadata": {},
   "source": [
    "## Use np.apply_along_axis for faster 1d operations on data\n",
    "\n",
    "When we have patch data and want to apply a opteration/function only at the last axis (spectrum), we alway reshape the data in a 1d form, apply the function and reshape the data in the original form. \n",
    "With the function np.apply_along_axis we don't need to reshape the data and so it should be faster."
   ]
  },
  {
   "cell_type": "code",
   "execution_count": 1,
   "id": "9d71c68e",
   "metadata": {},
   "outputs": [],
   "source": [
    "from sklearn.preprocessing import StandardScaler\n",
    "from datetime import datetime\n",
    "\n",
    "import numpy as np\n",
    "\n",
    "np.random.seed(42)"
   ]
  },
  {
   "cell_type": "code",
   "execution_count": 2,
   "id": "37faa51f",
   "metadata": {},
   "outputs": [],
   "source": [
    "size_1d = [1000, 15] # samples, spectrum\n",
    "size_3d = [1000, 3, 3, 15] # samples, patch0, patch1, spectrum\n",
    "\n",
    "array_1d = np.arange(np.prod(size_1d), dtype=np.float32).reshape(size_1d)\n",
    "array_2d = np.arange(np.prod(size_3d), dtype=np.float32).reshape(size_3d)"
   ]
  },
  {
   "cell_type": "code",
   "execution_count": 3,
   "id": "6c5a309b",
   "metadata": {},
   "outputs": [],
   "source": [
    "def old_transform(X: np.ndarray) -> np.ndarray:\n",
    "    scaler = StandardScaler()\n",
    "    \n",
    "    return scaler.fit_transform(X.T).T\n",
    "\n",
    "\n",
    "def old_scale_X(X: np.ndarray) -> np.ndarray:\n",
    "    _3d = False\n",
    "    shape = []\n",
    "    \n",
    "    if len(X.shape) > 2:\n",
    "        _3d = True\n",
    "        shape = X.shape\n",
    "        X = np.reshape(X, newshape=(np.prod(X.shape[:-1]), X.shape[-1]))\n",
    "        \n",
    "    X = old_transform(X)\n",
    "    \n",
    "    if _3d:\n",
    "        X = np.reshape(X, newshape=shape)\n",
    "    \n",
    "    return X"
   ]
  },
  {
   "cell_type": "code",
   "execution_count": 4,
   "id": "57e00f5f",
   "metadata": {},
   "outputs": [],
   "source": [
    "def new_transform(X: np.ndarray) -> np.ndarray:\n",
    "    def transform_func(spectrum: np.ndarray):\n",
    "        return (spectrum - spectrum.mean(axis=-1)) / spectrum.std(axis=-1)\n",
    "    \n",
    "    return np.apply_along_axis(func1d=transform_func, axis=-1, arr=X)\n",
    "\n",
    "def new_scale_X(X: np.ndarray) -> np.ndarray:\n",
    "    return new_transform(X)"
   ]
  },
  {
   "cell_type": "code",
   "execution_count": 7,
   "id": "d9012ae4",
   "metadata": {},
   "outputs": [],
   "source": [
    "def compate_scale_functions(arr: np.ndarray):\n",
    "    def step(arr: np.ndarray, func):\n",
    "        start = datetime.now()\n",
    "        scaled = func(arr)\n",
    "        stop = datetime.now()\n",
    "        \n",
    "        return scaled, start, stop\n",
    "    \n",
    "    old = step(arr=arr, func=old_scale_X)\n",
    "    new = step(arr=arr, func=new_scale_X)\n",
    "    \n",
    "    print(f\"Old function needs {old[2] - old[1]}.\")\n",
    "    print(f\"New function needs {new[2] - new[1]}.\")\n",
    "    \n",
    "    if np.all(np.isclose(old[0], new[0])):\n",
    "        print(\"Arrays from the functions are the same.\")\n",
    "    else:\n",
    "        print(\"Arrays from the functions are not the same.\")"
   ]
  },
  {
   "cell_type": "code",
   "execution_count": 8,
   "id": "cf0e7034",
   "metadata": {},
   "outputs": [
    {
     "name": "stdout",
     "output_type": "stream",
     "text": [
      "1d Test\n",
      "Old function needs 0:00:00.008265.\n",
      "New function needs 0:00:00.155586.\n",
      "Arrays from the functions are the same.\n",
      "3d Test\n",
      "Old function needs 0:00:00.011223.\n",
      "New function needs 0:00:01.180703.\n",
      "Arrays from the functions are the same.\n"
     ]
    }
   ],
   "source": [
    "print(\"1d Test\")\n",
    "compate_scale_functions(arr=array_1d)\n",
    "\n",
    "print(\"3d Test\")\n",
    "compate_scale_functions(arr=array_2d)"
   ]
  },
  {
   "cell_type": "code",
   "execution_count": null,
   "id": "c392f654",
   "metadata": {},
   "outputs": [],
   "source": []
  }
 ],
 "metadata": {
  "kernelspec": {
   "display_name": "Python 3 (ipykernel)",
   "language": "python",
   "name": "python3"
  },
  "language_info": {
   "codemirror_mode": {
    "name": "ipython",
    "version": 3
   },
   "file_extension": ".py",
   "mimetype": "text/x-python",
   "name": "python",
   "nbconvert_exporter": "python",
   "pygments_lexer": "ipython3",
   "version": "3.11.5"
  }
 },
 "nbformat": 4,
 "nbformat_minor": 5
}
