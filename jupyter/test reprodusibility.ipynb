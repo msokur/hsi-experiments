{
 "cells": [
  {
   "cell_type": "code",
   "execution_count": 41,
   "id": "pursuant-policy",
   "metadata": {},
   "outputs": [
    {
     "name": "stdout",
     "output_type": "stream",
     "text": [
      "tf.Tensor(\n",
      "[[ 0.17036277]\n",
      " [-0.82662714]\n",
      " [ 1.1251936 ]\n",
      " [ 2.1770082 ]\n",
      " [-0.1696676 ]\n",
      " [ 0.9906755 ]\n",
      " [ 2.7336211 ]\n",
      " [-0.03432238]\n",
      " [ 1.1381068 ]\n",
      " [ 0.08535814]], shape=(10, 1), dtype=float32) tf.Tensor(\n",
      "[[ 0.16953988]\n",
      " [-0.73565096]\n",
      " [ 0.902351  ]\n",
      " [ 0.8218122 ]\n",
      " [-0.16885473]\n",
      " [ 0.83639646]\n",
      " [ 0.39674816]\n",
      " [-0.03431564]\n",
      " [ 0.90784127]\n",
      " [ 0.08525453]], shape=(10, 1), dtype=float32)\n"
     ]
    }
   ],
   "source": [
    "from tensorflow.random import set_seed\n",
    "set_seed(3)\n",
    "import random as python_random\n",
    "\n",
    "from tensorflow.keras import backend as K\n",
    "\n",
    "import tensorflow as tf\n",
    "from tensorflow.keras.models import Sequential\n",
    "from tensorflow.keras.layers import Dense\n",
    "import numpy as np\n",
    "import pandas as pd\n",
    "from sklearn.metrics import confusion_matrix\n",
    "from sklearn.model_selection import train_test_split\n",
    "from sklearn.preprocessing import MinMaxScaler\n",
    "\n",
    "## GLOBAL SEED ##                                                   \n",
    "\n",
    "x_train = tf.random.normal((10,1), 1, 1, dtype=tf.float32)\n",
    "y_train = tf.math.sin(x_train)\n",
    "x_test = tf.random.normal((10,1), 2, 3, dtype=tf.float32)\n",
    "y_test = tf.math.sin(x_test)\n",
    "\n",
    "print(x_train, y_train)\n",
    "\n"
   ]
  },
  {
   "cell_type": "code",
   "execution_count": 42,
   "id": "voluntary-library",
   "metadata": {},
   "outputs": [
    {
     "ename": "AttributeError",
     "evalue": "module 'tensorflow' has no attribute 'Session'",
     "output_type": "error",
     "traceback": [
      "\u001b[0;31m---------------------------------------------------------------------------\u001b[0m",
      "\u001b[0;31mAttributeError\u001b[0m                            Traceback (most recent call last)",
      "Input \u001b[0;32mIn [42]\u001b[0m, in \u001b[0;36m<module>\u001b[0;34m\u001b[0m\n\u001b[0;32m----> 1\u001b[0m sess \u001b[38;5;241m=\u001b[39m \u001b[43mtf\u001b[49m\u001b[38;5;241;43m.\u001b[39;49m\u001b[43mSession\u001b[49m(graph\u001b[38;5;241m=\u001b[39mtf\u001b[38;5;241m.\u001b[39mget_default_graph())\n\u001b[1;32m      2\u001b[0m K\u001b[38;5;241m.\u001b[39mset_session(sess)\n\u001b[1;32m      4\u001b[0m model \u001b[38;5;241m=\u001b[39m Sequential()\n",
      "\u001b[0;31mAttributeError\u001b[0m: module 'tensorflow' has no attribute 'Session'"
     ]
    }
   ],
   "source": [
    "\n",
    "\n",
    "model = Sequential()\n",
    "model.add(Dense(1200, input_shape=(1,), activation='relu'))  \n",
    "model.add(Dense(150, activation='relu'))\n",
    "model.add(Dense(80, activation='relu'))\n",
    "model.add(Dense(10, activation='relu'))\n",
    "model.add(Dense(1, activation='sigmoid')) \n",
    "\n",
    "loss=\"binary_crossentropy\"\n",
    "optimizer=tf.keras.optimizers.Adam(lr=0.0)\n",
    "metrics=['mse']\n",
    "epochs = 5\n",
    "batch_size = 32\n",
    "verbose = 1\n",
    "\n",
    "model.compile(loss=loss,  \n",
    "              optimizer=optimizer, \n",
    "              metrics=metrics) \n",
    "histpry = model.fit(x_train, y_train, epochs = epochs, batch_size=batch_size, verbose = verbose, shuffle=False)\n",
    "predictions = model.predict(x_test)\n",
    "print(predictions)\n",
    "\n"
   ]
  },
  {
   "cell_type": "code",
   "execution_count": 21,
   "id": "minimal-simulation",
   "metadata": {},
   "outputs": [
    {
     "name": "stderr",
     "output_type": "stream",
     "text": [
      "<>:1: SyntaxWarning: list indices must be integers or slices, not float; perhaps you missed a comma?\n",
      "<>:1: SyntaxWarning: list indices must be integers or slices, not float; perhaps you missed a comma?\n",
      "<ipython-input-21-ec81af900406>:1: SyntaxWarning: list indices must be integers or slices, not float; perhaps you missed a comma?\n",
      "  [[0.50282514]\n",
      "<ipython-input-21-ec81af900406>:1: SyntaxWarning: list indices must be integers or slices, not float; perhaps you missed a comma?\n",
      "  [[0.50282514]\n",
      "<ipython-input-21-ec81af900406>:1: SyntaxWarning: list indices must be integers or slices, not float; perhaps you missed a comma?\n",
      "  [[0.50282514]\n",
      "<ipython-input-21-ec81af900406>:1: SyntaxWarning: list indices must be integers or slices, not float; perhaps you missed a comma?\n",
      "  [[0.50282514]\n",
      "<ipython-input-21-ec81af900406>:1: SyntaxWarning: list indices must be integers or slices, not float; perhaps you missed a comma?\n",
      "  [[0.50282514]\n",
      "<ipython-input-21-ec81af900406>:1: SyntaxWarning: list indices must be integers or slices, not float; perhaps you missed a comma?\n",
      "  [[0.50282514]\n",
      "<ipython-input-21-ec81af900406>:1: SyntaxWarning: list indices must be integers or slices, not float; perhaps you missed a comma?\n",
      "  [[0.50282514]\n",
      "<ipython-input-21-ec81af900406>:1: SyntaxWarning: list indices must be integers or slices, not float; perhaps you missed a comma?\n",
      "  [[0.50282514]\n",
      "<ipython-input-21-ec81af900406>:1: SyntaxWarning: list indices must be integers or slices, not float; perhaps you missed a comma?\n",
      "  [[0.50282514]\n",
      "<ipython-input-21-ec81af900406>:1: SyntaxWarning: list indices must be integers or slices, not float; perhaps you missed a comma?\n",
      "  [[0.50282514]\n",
      "<ipython-input-21-ec81af900406>:1: SyntaxWarning: list indices must be integers or slices, not float; perhaps you missed a comma?\n",
      "  [[0.50282514]\n"
     ]
    },
    {
     "ename": "TypeError",
     "evalue": "list indices must be integers or slices, not float",
     "output_type": "error",
     "traceback": [
      "\u001b[0;31m---------------------------------------------------------------------------\u001b[0m",
      "\u001b[0;31mTypeError\u001b[0m                                 Traceback (most recent call last)",
      "Input \u001b[0;32mIn [21]\u001b[0m, in \u001b[0;36m<module>\u001b[0;34m\u001b[0m\n\u001b[0;32m----> 1\u001b[0m [\u001b[43m[\u001b[49m\u001b[38;5;241;43m0.50282514\u001b[39;49m\u001b[43m]\u001b[49m\n\u001b[1;32m      2\u001b[0m \u001b[43m \u001b[49m\u001b[43m[\u001b[49m\u001b[38;5;241;43m0.5016613\u001b[39;49m\u001b[43m \u001b[49m\u001b[43m]\u001b[49m\n\u001b[1;32m      3\u001b[0m  [\u001b[38;5;241m0.50306606\u001b[39m]\n\u001b[1;32m      4\u001b[0m  [\u001b[38;5;241m0.5018174\u001b[39m ]\n\u001b[1;32m      5\u001b[0m  [\u001b[38;5;241m0.5003745\u001b[39m ]\n\u001b[1;32m      6\u001b[0m  [\u001b[38;5;241m0.5011307\u001b[39m ]\n\u001b[1;32m      7\u001b[0m  [\u001b[38;5;241m0.5014132\u001b[39m ]\n\u001b[1;32m      8\u001b[0m  [\u001b[38;5;241m0.50085396\u001b[39m]\n\u001b[1;32m      9\u001b[0m  [\u001b[38;5;241m0.5024683\u001b[39m ]\n\u001b[1;32m     10\u001b[0m  [\u001b[38;5;241m0.5006445\u001b[39m ]]\n",
      "\u001b[0;31mTypeError\u001b[0m: list indices must be integers or slices, not float"
     ]
    }
   ],
   "source": [
    "[[0.46148258]\n",
    " [0.4773212 ]\n",
    " [0.4582135 ]\n",
    " [0.47519344]\n",
    " [0.4972723 ]\n",
    " [0.4845588 ]\n",
    " [0.480704  ]\n",
    " [0.4883361 ]\n",
    " [0.4663327 ]\n",
    " [0.4953058 ]]"
   ]
  },
  {
   "cell_type": "code",
   "execution_count": null,
   "id": "abroad-orange",
   "metadata": {},
   "outputs": [],
   "source": []
  }
 ],
 "metadata": {
  "kernelspec": {
   "display_name": "Python + Tensorflow",
   "language": "python",
   "name": "tensorflow"
  },
  "language_info": {
   "codemirror_mode": {
    "name": "ipython",
    "version": 3
   },
   "file_extension": ".py",
   "mimetype": "text/x-python",
   "name": "python",
   "nbconvert_exporter": "python",
   "pygments_lexer": "ipython3",
   "version": "3.8.8"
  }
 },
 "nbformat": 4,
 "nbformat_minor": 5
}
