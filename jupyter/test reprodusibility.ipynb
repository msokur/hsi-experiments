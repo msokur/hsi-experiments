{
 "cells": [
  {
   "cell_type": "code",
   "execution_count": 10,
   "id": "pursuant-policy",
   "metadata": {},
   "outputs": [
    {
     "name": "stdout",
     "output_type": "stream",
     "text": [
      "tf.Tensor(\n",
      "[[ 0.17036277]\n",
      " [-0.82662714]\n",
      " [ 1.1251936 ]\n",
      " [ 2.1770082 ]\n",
      " [-0.1696676 ]\n",
      " [ 0.9906755 ]\n",
      " [ 2.7336211 ]\n",
      " [-0.03432238]\n",
      " [ 1.1381068 ]\n",
      " [ 0.08535814]], shape=(10, 1), dtype=float32) tf.Tensor(\n",
      "[[ 0.16953988]\n",
      " [-0.7356509 ]\n",
      " [ 0.902351  ]\n",
      " [ 0.8218123 ]\n",
      " [-0.16885473]\n",
      " [ 0.83639646]\n",
      " [ 0.39674816]\n",
      " [-0.03431564]\n",
      " [ 0.90784127]\n",
      " [ 0.08525453]], shape=(10, 1), dtype=float32)\n"
     ]
    }
   ],
   "source": [
    "from tensorflow.random import set_seed\n",
    "set_seed(3)\n",
    "import random as python_random\n",
    "\n",
    "from tensorflow.keras import backend as K\n",
    "\n",
    "import tensorflow as tf\n",
    "from tensorflow.keras.models import Sequential\n",
    "from tensorflow.keras.layers import Dense\n",
    "import numpy as np\n",
    "import pandas as pd\n",
    "from sklearn.metrics import confusion_matrix\n",
    "from sklearn.model_selection import train_test_split\n",
    "from sklearn.preprocessing import MinMaxScaler\n",
    "\n",
    "## GLOBAL SEED ##                                                   \n",
    "\n",
    "x_train = tf.random.normal((10,1), 1, 1, dtype=tf.float32)\n",
    "y_train = tf.math.sin(x_train)\n",
    "x_test = tf.random.normal((10,1), 2, 3, dtype=tf.float32)\n",
    "y_test = tf.math.sin(x_test)\n",
    "\n",
    "print(x_train, y_train)\n",
    "\n"
   ]
  },
  {
   "cell_type": "code",
   "execution_count": 7,
   "id": "voluntary-library",
   "metadata": {},
   "outputs": [
    {
     "name": "stdout",
     "output_type": "stream",
     "text": [
      "Epoch 1/5\n",
      "\u001b[1m1/1\u001b[0m \u001b[32m━━━━━━━━━━━━━━━━━━━━\u001b[0m\u001b[37m\u001b[0m \u001b[1m2s\u001b[0m 2s/step - loss: 0.6916 - mse: 0.3089\n",
      "Epoch 2/5\n",
      "\u001b[1m1/1\u001b[0m \u001b[32m━━━━━━━━━━━━━━━━━━━━\u001b[0m\u001b[37m\u001b[0m \u001b[1m0s\u001b[0m 54ms/step - loss: 0.6745 - mse: 0.3004\n",
      "Epoch 3/5\n",
      "\u001b[1m1/1\u001b[0m \u001b[32m━━━━━━━━━━━━━━━━━━━━\u001b[0m\u001b[37m\u001b[0m \u001b[1m0s\u001b[0m 30ms/step - loss: 0.6609 - mse: 0.2935\n",
      "Epoch 4/5\n",
      "\u001b[1m1/1\u001b[0m \u001b[32m━━━━━━━━━━━━━━━━━━━━\u001b[0m\u001b[37m\u001b[0m \u001b[1m0s\u001b[0m 31ms/step - loss: 0.6497 - mse: 0.2878\n",
      "Epoch 5/5\n",
      "\u001b[1m1/1\u001b[0m \u001b[32m━━━━━━━━━━━━━━━━━━━━\u001b[0m\u001b[37m\u001b[0m \u001b[1m0s\u001b[0m 30ms/step - loss: 0.6408 - mse: 0.2830\n",
      "WARNING:tensorflow:5 out of the last 5 calls to <function TensorFlowTrainer.make_predict_function.<locals>.one_step_on_data_distributed at 0x14b449330ae0> triggered tf.function retracing. Tracing is expensive and the excessive number of tracings could be due to (1) creating @tf.function repeatedly in a loop, (2) passing tensors with different shapes, (3) passing Python objects instead of tensors. For (1), please define your @tf.function outside of the loop. For (2), @tf.function has reduce_retracing=True option that can avoid unnecessary retracing. For (3), please refer to https://www.tensorflow.org/guide/function#controlling_retracing and https://www.tensorflow.org/api_docs/python/tf/function for  more details.\n",
      "\u001b[1m1/1\u001b[0m \u001b[32m━━━━━━━━━━━━━━━━━━━━\u001b[0m\u001b[37m\u001b[0m \u001b[1m0s\u001b[0m 76ms/step\n",
      "[[0.95589685]\n",
      " [0.8603244 ]\n",
      " [0.96565944]\n",
      " [0.8793972 ]\n",
      " [0.45062396]\n",
      " [0.7763343 ]\n",
      " [0.82488984]\n",
      " [0.7201751 ]\n",
      " [0.9364529 ]\n",
      " [0.42134973]]\n"
     ]
    }
   ],
   "source": [
    "from tensorflow.random import set_seed\n",
    "set_seed(3)\n",
    "\n",
    "model = Sequential()\n",
    "model.add(Dense(1200, input_shape=(1,), activation='relu'))  \n",
    "model.add(Dense(150, activation='relu'))\n",
    "model.add(Dense(80, activation='relu'))\n",
    "model.add(Dense(10, activation='relu'))\n",
    "model.add(Dense(1, activation='sigmoid')) \n",
    "\n",
    "loss=\"binary_crossentropy\"\n",
    "optimizer=tf.keras.optimizers.Adam()\n",
    "metrics=['mse']\n",
    "epochs = 5\n",
    "batch_size = 32\n",
    "verbose = 1\n",
    "\n",
    "model.compile(loss=loss,  \n",
    "              optimizer=optimizer, \n",
    "              metrics=metrics) \n",
    "histpry = model.fit(x_train, y_train, epochs = epochs, batch_size=batch_size, verbose = verbose, shuffle=False)\n",
    "predictions = model.predict(x_test)\n",
    "print(predictions)\n",
    "\n"
   ]
  },
  {
   "cell_type": "code",
   "execution_count": 21,
   "id": "minimal-simulation",
   "metadata": {},
   "outputs": [
    {
     "name": "stderr",
     "output_type": "stream",
     "text": [
      "<>:1: SyntaxWarning: list indices must be integers or slices, not float; perhaps you missed a comma?\n",
      "<>:1: SyntaxWarning: list indices must be integers or slices, not float; perhaps you missed a comma?\n",
      "<ipython-input-21-ec81af900406>:1: SyntaxWarning: list indices must be integers or slices, not float; perhaps you missed a comma?\n",
      "  [[0.50282514]\n",
      "<ipython-input-21-ec81af900406>:1: SyntaxWarning: list indices must be integers or slices, not float; perhaps you missed a comma?\n",
      "  [[0.50282514]\n",
      "<ipython-input-21-ec81af900406>:1: SyntaxWarning: list indices must be integers or slices, not float; perhaps you missed a comma?\n",
      "  [[0.50282514]\n",
      "<ipython-input-21-ec81af900406>:1: SyntaxWarning: list indices must be integers or slices, not float; perhaps you missed a comma?\n",
      "  [[0.50282514]\n",
      "<ipython-input-21-ec81af900406>:1: SyntaxWarning: list indices must be integers or slices, not float; perhaps you missed a comma?\n",
      "  [[0.50282514]\n",
      "<ipython-input-21-ec81af900406>:1: SyntaxWarning: list indices must be integers or slices, not float; perhaps you missed a comma?\n",
      "  [[0.50282514]\n",
      "<ipython-input-21-ec81af900406>:1: SyntaxWarning: list indices must be integers or slices, not float; perhaps you missed a comma?\n",
      "  [[0.50282514]\n",
      "<ipython-input-21-ec81af900406>:1: SyntaxWarning: list indices must be integers or slices, not float; perhaps you missed a comma?\n",
      "  [[0.50282514]\n",
      "<ipython-input-21-ec81af900406>:1: SyntaxWarning: list indices must be integers or slices, not float; perhaps you missed a comma?\n",
      "  [[0.50282514]\n",
      "<ipython-input-21-ec81af900406>:1: SyntaxWarning: list indices must be integers or slices, not float; perhaps you missed a comma?\n",
      "  [[0.50282514]\n",
      "<ipython-input-21-ec81af900406>:1: SyntaxWarning: list indices must be integers or slices, not float; perhaps you missed a comma?\n",
      "  [[0.50282514]\n"
     ]
    },
    {
     "ename": "TypeError",
     "evalue": "list indices must be integers or slices, not float",
     "output_type": "error",
     "traceback": [
      "\u001b[0;31m---------------------------------------------------------------------------\u001b[0m",
      "\u001b[0;31mTypeError\u001b[0m                                 Traceback (most recent call last)",
      "Input \u001b[0;32mIn [21]\u001b[0m, in \u001b[0;36m<module>\u001b[0;34m\u001b[0m\n\u001b[0;32m----> 1\u001b[0m [\u001b[43m[\u001b[49m\u001b[38;5;241;43m0.50282514\u001b[39;49m\u001b[43m]\u001b[49m\n\u001b[1;32m      2\u001b[0m \u001b[43m \u001b[49m\u001b[43m[\u001b[49m\u001b[38;5;241;43m0.5016613\u001b[39;49m\u001b[43m \u001b[49m\u001b[43m]\u001b[49m\n\u001b[1;32m      3\u001b[0m  [\u001b[38;5;241m0.50306606\u001b[39m]\n\u001b[1;32m      4\u001b[0m  [\u001b[38;5;241m0.5018174\u001b[39m ]\n\u001b[1;32m      5\u001b[0m  [\u001b[38;5;241m0.5003745\u001b[39m ]\n\u001b[1;32m      6\u001b[0m  [\u001b[38;5;241m0.5011307\u001b[39m ]\n\u001b[1;32m      7\u001b[0m  [\u001b[38;5;241m0.5014132\u001b[39m ]\n\u001b[1;32m      8\u001b[0m  [\u001b[38;5;241m0.50085396\u001b[39m]\n\u001b[1;32m      9\u001b[0m  [\u001b[38;5;241m0.5024683\u001b[39m ]\n\u001b[1;32m     10\u001b[0m  [\u001b[38;5;241m0.5006445\u001b[39m ]]\n",
      "\u001b[0;31mTypeError\u001b[0m: list indices must be integers or slices, not float"
     ]
    }
   ],
   "source": [
    "[[0.46148258]\n",
    " [0.4773212 ]\n",
    " [0.4582135 ]\n",
    " [0.47519344]\n",
    " [0.4972723 ]\n",
    " [0.4845588 ]\n",
    " [0.480704  ]\n",
    " [0.4883361 ]\n",
    " [0.4663327 ]\n",
    " [0.4953058 ]]"
   ]
  },
  {
   "cell_type": "code",
   "execution_count": null,
   "id": "abroad-orange",
   "metadata": {},
   "outputs": [],
   "source": []
  }
 ],
 "metadata": {
  "kernelspec": {
   "display_name": "Python 3.11",
   "language": "python",
   "name": "python3"
  },
  "language_info": {
   "codemirror_mode": {
    "name": "ipython",
    "version": 3
   },
   "file_extension": ".py",
   "mimetype": "text/x-python",
   "name": "python",
   "nbconvert_exporter": "python",
   "pygments_lexer": "ipython3",
   "version": "3.11.0"
  }
 },
 "nbformat": 4,
 "nbformat_minor": 5
}
